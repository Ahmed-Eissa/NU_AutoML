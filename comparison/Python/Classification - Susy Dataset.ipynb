{
 "cells": [
  {
   "cell_type": "code",
   "execution_count": null,
   "metadata": {},
   "outputs": [],
   "source": [
    "#---------------------------------------------------------------------------------------------------//\n",
    "#---- Date: 26 Oct 2018\n",
    "#---- By : Ahmed Eissa\n",
    "#---- Description: Grid Search for Random forest hyper parameters\n",
    "#---- Dataset: SUSY [ https://archive.ics.uci.edu/ml/datasets/SUSY ]\n",
    "#---------------------------------------------------------------------------------------------------//"
   ]
  },
  {
   "cell_type": "code",
   "execution_count": 1,
   "metadata": {},
   "outputs": [],
   "source": [
    "#import needed package\n",
    "#---------------------------------------------------------\n",
    "import pandas as pd\n",
    "import numpy as np\n",
    "from sklearn.tree import DecisionTreeClassifier\n",
    "from sklearn.ensemble import RandomForestClassifier\n",
    "from sklearn.neural_network import MLPClassifier\n",
    "from sklearn.linear_model import LogisticRegression\n",
    "from sklearn import preprocessing\n",
    "from sklearn.metrics import accuracy_score\n",
    "import datetime\n",
    "from sklearn import preprocessing\n",
    "import datetime"
   ]
  },
  {
   "cell_type": "code",
   "execution_count": 4,
   "metadata": {},
   "outputs": [
    {
     "data": {
      "text/plain": [
       "(4999999, 19)"
      ]
     },
     "execution_count": 4,
     "metadata": {},
     "output_type": "execute_result"
    }
   ],
   "source": [
    "#Load Data from CSV\n",
    "#--------------------------------------------------------\n",
    "filepath = 'D:\\Technology\\Auto-ML\\Data\\SUSY.csv'\n",
    "rawdata = pd.read_csv( filepath  , sep=',' , low_memory=False)\n",
    "rawdata.shape"
   ]
  },
  {
   "cell_type": "code",
   "execution_count": null,
   "metadata": {},
   "outputs": [],
   "source": [
    "#Check the data\n",
    "#-------------------------------------------------------\n",
    "# 1- display statistics\n",
    "rawdata.describe()"
   ]
  },
  {
   "cell_type": "code",
   "execution_count": null,
   "metadata": {},
   "outputs": [],
   "source": [
    "# 2- display datatypes\n",
    "print (rawdata.dtypes)"
   ]
  },
  {
   "cell_type": "code",
   "execution_count": 5,
   "metadata": {},
   "outputs": [
    {
     "data": {
      "text/plain": [
       "array([1., 0.])"
      ]
     },
     "execution_count": 5,
     "metadata": {},
     "output_type": "execute_result"
    }
   ],
   "source": [
    "# 3- display datatypes\n",
    "Columns = ['Label' , 'c1' , 'c2' , 'c3' , 'c4' , 'c5' , 'c6' ,\\\n",
    "           'c7' , 'c8' , 'c9' , 'c10' , 'c11' , 'c12' , 'c13' , \\\n",
    "           'c14' , 'c15' , 'c16' , 'c17' , 'c18']\n",
    "rawdata.columns = Columns\n",
    "# 4 - check  number of clasess\n",
    "rawdata.Label.unique()"
   ]
  },
  {
   "cell_type": "code",
   "execution_count": 6,
   "metadata": {},
   "outputs": [],
   "source": [
    "# 5 - cast Label\n",
    "rawdata[['Label']] = rawdata[['Label']].astype(int)"
   ]
  },
  {
   "cell_type": "code",
   "execution_count": 7,
   "metadata": {},
   "outputs": [],
   "source": [
    "# split data into Testing and training\n",
    "# ---------------------------------------------------------------------------------------------------------------------\n",
    "np.random.seed(1234)\n",
    "msk = np.random.rand(len(rawdata)) < 0.8\n",
    "training_data = rawdata[msk]\n",
    "Testing_data = rawdata[~msk]\n",
    "\n",
    "X_train = training_data.loc[:, training_data.columns != 'Label']\n",
    "Y_train = training_data.loc[:, training_data.columns == 'Label']\n",
    "\n",
    "X_test = Testing_data.loc[:, Testing_data.columns != 'Label']\n",
    "Y_test = Testing_data.loc[:, Testing_data.columns == 'Label']"
   ]
  },
  {
   "cell_type": "code",
   "execution_count": null,
   "metadata": {},
   "outputs": [],
   "source": [
    "# Save Training and Testing Data to CSV\n",
    "#-------------------------------------------------------------------------------------------------------------------\n",
    "training_data.to_csv('C:\\\\Data\\\\training_data.csv', sep=',', encoding='utf-8' )\n",
    "Testing_data.to_csv('C:\\\\Data\\\\testing_data.csv', sep=',', encoding='utf-8' )"
   ]
  },
  {
   "cell_type": "code",
   "execution_count": 9,
   "metadata": {},
   "outputs": [
    {
     "name": "stdout",
     "output_type": "stream",
     "text": [
      "Time:202.101269\n",
      "Accuracy:78.95200744349845\n"
     ]
    }
   ],
   "source": [
    "# Decison Tree\n",
    "#-------------------------------------------------------------------------------------------------------------------\n",
    "def DT_Train( maxdepth) :\n",
    "    t1 = datetime.datetime.now(max_depth)\n",
    "    clf = DecisionTreeClassifier(criterion='gini', max_depth=maxdepth,\n",
    "                max_features=None, max_leaf_nodes=None,\n",
    "                min_impurity_decrease=0.0, min_impurity_split=None,\n",
    "                min_samples_leaf=2, min_samples_split=2,splitter='best')\n",
    "    clf.fit(X_train, Y_train)\n",
    "    t2 = datetime.datetime.now()\n",
    "    y_pred = clf.predict(X_test)    \n",
    "    result = str(maxdepth) +  \",\" + str( accuracy_score(Y_test,y_pred)*100) + \",\" + str((t2 - t1).total_seconds()) + \"\\n\"\n",
    "    return result"
   ]
  },
  {
   "cell_type": "code",
   "execution_count": null,
   "metadata": {},
   "outputs": [],
   "source": [
    "# Random Forest\n",
    "#---------------------------------------------------------------------------------------------------------------------\n",
    "def RF_Train( trees, maxdepth, impurity , features) :\n",
    "    t1 = datetime.datetime.now()\n",
    "    clf = RandomForestClassifier(n_estimators =  trees , max_depth= maxdepth , criterion=impurity , max_features=features )\n",
    "    clf.fit(X_train, Y_train.values.ravel())\n",
    "    t2 = datetime.datetime.now()\n",
    "\n",
    "    # Predict & Score\n",
    "    #----------------------------------------------------------------\n",
    "    y_pred = clf.predict(X_test)\n",
    "    result = str(trees) + \",\" + str(maxdepth) + \",\" + str(impurity) + \",\" + str(features) + \",\" + str( accuracy_score(Y_test,y_pred)*100) + \",\" + str((t2 - t1).total_seconds()) + \"\\n\"\n",
    "    return result"
   ]
  },
  {
   "cell_type": "code",
   "execution_count": null,
   "metadata": {},
   "outputs": [],
   "source": [
    "scaler = preprocessing.StandardScaler().fit(X_train)\n",
    "X_train_Scaled = scaler.transform(X_train)\n",
    "X_test_Scaled = scaler.transform(X_test)"
   ]
  },
  {
   "cell_type": "code",
   "execution_count": null,
   "metadata": {},
   "outputs": [],
   "source": [
    "# MLP\n",
    "#-------------------------------------------------------------------------------------------------------------------\n",
    "\n",
    "t1 = datetime.datetime.now()\n",
    "clf = MLPClassifier(activation='logistic', alpha=0.0001, batch_size='auto', \n",
    "       hidden_layer_sizes=(20,), learning_rate='constant',\n",
    "       learning_rate_init=0.001, max_iter=500, solver='lbfgs', tol=0.0001)\n",
    "clf.fit(X_train_Scaled, Y_train.values.ravel())\n",
    "t2 = datetime.datetime.now()\n",
    "print(\"Time:\" + str((t2 - t1).total_seconds()))\n",
    "\n",
    "y_pred = clf.predict(X_test_Scaled)\n",
    "print(\"Accuracy:\" + str(accuracy_score(Y_test,y_pred)*100))"
   ]
  },
  {
   "cell_type": "code",
   "execution_count": null,
   "metadata": {},
   "outputs": [],
   "source": [
    "# Logistic Regression\n",
    "#--------------------------------------------------------------------------------------------------------------------\n",
    "t1 = datetime.datetime.now()\n",
    "clf = LogisticRegression(C=1.0, class_weight=None, dual=False, fit_intercept=True,\n",
    "          intercept_scaling=1, max_iter=1000, multi_class='ovr', n_jobs=1,\n",
    "          penalty='l2', solver='liblinear', tol=0.0001)\n",
    "clf.fit(X_train_Scaled, Y_train.values.ravel())\n",
    "t2 = datetime.datetime.now()\n",
    "print(\"Time:\" + str((t2 - t1).total_seconds()))\n",
    "\n",
    "y_pred = clf.predict(X_test_Scaled)\n",
    "print(\"Accuracy:\" + str(accuracy_score(Y_test,y_pred)*100))"
   ]
  },
  {
   "cell_type": "code",
   "execution_count": null,
   "metadata": {},
   "outputs": [],
   "source": [
    "res = \"\" ;\n",
    "Results = [\"\"] \n",
    "trees = [10,50,100]\n",
    "maxdepth = [5,10,15]\n",
    "impurity = ['gini', 'entropy']\n",
    "features = ['all', 'sqrt' , 'log2']\n",
    "\n",
    "\n",
    "for i in range(len(trees)):\n",
    "    for j in range(len(maxdepth)):\n",
    "        for k in range(len(impurity)):\n",
    "            for l in range(len(features)):\n",
    "                if (features[l] == 'all'):\n",
    "                    Results.append(RF_Train(trees[i],maxdepth[j],impurity[k],1.0)) \n",
    "                else:\n",
    "                    #Results.append(RF_Train(trees[i],maxdepth[j],impurity[k],features[l]))\n",
    "                    res = res +  RF_Train(trees[i],maxdepth[j],impurity[k],features[l])\n",
    "\n",
    "\n",
    "print(res) "
   ]
  }
 ],
 "metadata": {
  "kernelspec": {
   "display_name": "Python 3",
   "language": "python",
   "name": "python3"
  },
  "language_info": {
   "codemirror_mode": {
    "name": "ipython",
    "version": 3
   },
   "file_extension": ".py",
   "mimetype": "text/x-python",
   "name": "python",
   "nbconvert_exporter": "python",
   "pygments_lexer": "ipython3",
   "version": "3.6.5"
  }
 },
 "nbformat": 4,
 "nbformat_minor": 2
}
