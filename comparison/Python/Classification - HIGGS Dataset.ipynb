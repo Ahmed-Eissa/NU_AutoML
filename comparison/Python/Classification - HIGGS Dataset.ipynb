{
 "cells": [
  {
   "cell_type": "code",
   "execution_count": null,
   "metadata": {},
   "outputs": [],
   "source": [
    "#---------------------------------------------------------------------------------------------------//\n",
    "#---- Date: 26 Oct 2018\n",
    "#---- By : Ahmed Eissa\n",
    "#---- Description: Grid Search for Random forest hyper parameters\n",
    "#---- Dataset: HIGGS [ https://archive.ics.uci.edu/ml/datasets/HIGGS ]\n",
    "#---------------------------------------------------------------------------------------------------//"
   ]
  },
  {
   "cell_type": "code",
   "execution_count": null,
   "metadata": {},
   "outputs": [],
   "source": [
    "#import needed package\n",
    "#---------------------------------------------------------\n",
    "import pandas as pd\n",
    "import numpy as np\n",
    "from sklearn.tree import DecisionTreeClassifier\n",
    "from sklearn.ensemble import RandomForestClassifier\n",
    "from sklearn.neural_network import MLPClassifier\n",
    "from sklearn.linear_model import LogisticRegression\n",
    "from sklearn import preprocessing\n",
    "from sklearn.metrics import accuracy_score\n",
    "import datetime\n",
    "from sklearn import preprocessing"
   ]
  },
  {
   "cell_type": "code",
   "execution_count": null,
   "metadata": {},
   "outputs": [],
   "source": [
    "#Load Data from CSV\n",
    "#--------------------------------------------------------\n",
    "filepath = 'C:\\Data\\HIGGS.csv'\n",
    "rawdata = pd.read_csv( filepath ,  sep=','  ,  low_memory=False)\n",
    "rawdata.shape"
   ]
  },
  {
   "cell_type": "code",
   "execution_count": null,
   "metadata": {},
   "outputs": [],
   "source": [
    "# 3- display datatypes\n",
    "Columns = ['Label' , 'c1' , 'c2' , 'c3' , 'c4' , 'c5' , 'c6' ,\\\n",
    "           'c7' , 'c8' , 'c9' , 'c10' , 'c11' , 'c12' , 'c13' , \\\n",
    "           'c14' , 'c15' , 'c16' , 'c17' , 'c18' , 'c19' , 'c20' , \\\n",
    "           'c21' , 'c22' , 'c23' , 'c24' , 'c25' , 'c26' , 'c27' , 'c28' ]\n",
    "rawdata.columns = Columns\n",
    "# 4 - check  number of clasess\n",
    "rawdata.Label.unique()"
   ]
  },
  {
   "cell_type": "code",
   "execution_count": null,
   "metadata": {},
   "outputs": [],
   "source": [
    "# 5 - cast Label\n",
    "rawdata[['Label']] = rawdata[['Label']].astype(int)"
   ]
  },
  {
   "cell_type": "code",
   "execution_count": null,
   "metadata": {},
   "outputs": [],
   "source": [
    "# split data into Testing and training\n",
    "# ---------------------------------------------------------------------------------------------------------------------\n",
    "np.random.seed(1234)\n",
    "msk = np.random.rand(len(rawdata)) < 0.8\n",
    "training_data = rawdata[msk]\n",
    "Testing_data = rawdata[~msk]\n",
    "\n",
    "X_train = training_data.loc[:, training_data.columns != 'Label']\n",
    "Y_train = training_data.loc[:, training_data.columns == 'Label']\n",
    "\n",
    "X_test = Testing_data.loc[:, Testing_data.columns != 'Label']\n",
    "Y_test = Testing_data.loc[:, Testing_data.columns == 'Label']"
   ]
  },
  {
   "cell_type": "code",
   "execution_count": null,
   "metadata": {},
   "outputs": [],
   "source": [
    "# Save Training and Testing Data to CSV\n",
    "#-------------------------------------------------------------------------------------------------------------------\n",
    "training_data.to_csv('C:\\\\Data\\\\HIGGS_training_data.csv', sep=',', encoding='utf-8' )\n",
    "Testing_data.to_csv('C:\\\\Data\\\\HIGGS_testing_data.csv', sep=',', encoding='utf-8' )"
   ]
  },
  {
   "cell_type": "code",
   "execution_count": null,
   "metadata": {},
   "outputs": [],
   "source": [
    "# Random Forest\n",
    "#---------------------------------------------------------------------------------------------------------------------\n",
    "t1 = datetime.datetime.now()\n",
    "clf = RandomForestClassifier(criterion='gini',\n",
    "            max_depth=5, max_features=1.0, max_leaf_nodes=None,\n",
    "            min_impurity_decrease=0.0, min_impurity_split=None,\n",
    "            min_samples_leaf=1, min_samples_split=2,\n",
    "            n_estimators=10, n_jobs=1)\n",
    "clf.fit(X_train, Y_train.values.ravel())\n",
    "t2 = datetime.datetime.now()\n",
    "print(\"Time:\" + str((t2 - t1).total_seconds()))\n",
    "\n",
    "y_pred = clf.predict(X_test)\n",
    "print(\"Accuracy:\" + str(accuracy_score(Y_test,y_pred)*100))"
   ]
  }
 ],
 "metadata": {
  "kernelspec": {
   "display_name": "Python 3",
   "language": "python",
   "name": "python3"
  },
  "language_info": {
   "codemirror_mode": {
    "name": "ipython",
    "version": 3
   },
   "file_extension": ".py",
   "mimetype": "text/x-python",
   "name": "python",
   "nbconvert_exporter": "python",
   "pygments_lexer": "ipython3",
   "version": "3.6.5"
  }
 },
 "nbformat": 4,
 "nbformat_minor": 2
}
