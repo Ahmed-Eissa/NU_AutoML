{
 "cells": [
  {
   "cell_type": "code",
   "execution_count": null,
   "metadata": {},
   "outputs": [],
   "source": [
    "#---------------------------------------------------------------------------------------------------//\n",
    "#---- Date: 26 Oct 2018\n",
    "#---- By : Ahmed Eissa\n",
    "#---- Description: Grid Search for Random forest hyper parameters\n",
    "#---- Dataset: Cover Type [ https://archive.ics.uci.edu/ml/datasets/Covertype ]\n",
    "#---------------------------------------------------------------------------------------------------//"
   ]
  },
  {
   "cell_type": "code",
   "execution_count": 3,
   "metadata": {},
   "outputs": [],
   "source": [
    "#import needed package\n",
    "#---------------------------------------------------------\n",
    "import pandas as pd\n",
    "import numpy as np\n",
    "from sklearn.tree import DecisionTreeClassifier\n",
    "from sklearn.ensemble import RandomForestClassifier\n",
    "from sklearn.neural_network import MLPClassifier\n",
    "from sklearn.linear_model import LogisticRegression\n",
    "from sklearn import preprocessing\n",
    "from sklearn.metrics import accuracy_score\n",
    "import datetime\n",
    "from sklearn import preprocessing\n",
    "import datetime"
   ]
  },
  {
   "cell_type": "code",
   "execution_count": 4,
   "metadata": {},
   "outputs": [
    {
     "data": {
      "text/plain": [
       "(581012, 55)"
      ]
     },
     "execution_count": 4,
     "metadata": {},
     "output_type": "execute_result"
    }
   ],
   "source": [
    "#Load Data from CSV\n",
    "#--------------------------------------------------------\n",
    "filepath = 'D:\\Technology\\Auto-ML\\Data\\CoverType.csv'\n",
    "rawdata = pd.read_csv( filepath ,  sep=','  ,  encoding = 'utf-8' , low_memory=False)\n",
    "                      \n",
    "rawdata = rawdata.rename(columns={'Cover_Type': 'Label'})\n",
    "rawdata.shape"
   ]
  },
  {
   "cell_type": "code",
   "execution_count": 5,
   "metadata": {},
   "outputs": [],
   "source": [
    "data = rawdata\n",
    "# 3- split data into Testing and training\n",
    "np.random.seed(1234)\n",
    "msk = np.random.rand(len(data)) < 0.8\n",
    "training_data = data[msk]\n",
    "Testing_data = data[~msk]\n",
    "\n",
    "X_train = training_data.loc[:, training_data.columns != 'Label']\n",
    "Y_train = training_data.loc[:, training_data.columns == 'Label']\n",
    "\n",
    "X_test = Testing_data.loc[:, Testing_data.columns != 'Label']\n",
    "Y_test = Testing_data.loc[:, Testing_data.columns == 'Label']\n"
   ]
  },
  {
   "cell_type": "code",
   "execution_count": null,
   "metadata": {},
   "outputs": [],
   "source": [
    "# Save Training and Testing Data to CSV\n",
    "#-----------------------------------------------------------\n",
    "training_data.to_csv('D:\\Technology\\Auto-ML\\Data\\Cover_Type_training_data.csv', sep=',', encoding='utf-8')\n",
    "Testing_data.to_csv('D:\\Technology\\Auto-ML\\Data\\Cover_Type_Testing_data.csv', sep=',', encoding='utf-8')"
   ]
  },
  {
   "cell_type": "code",
   "execution_count": 18,
   "metadata": {},
   "outputs": [],
   "source": [
    "# Random Forest\n",
    "#---------------------------------------------------------------------------------------------------------------------\n",
    "def RF_Train( trees, maxdepth, impurity , features) :\n",
    "    t1 = datetime.datetime.now()\n",
    "    clf = RandomForestClassifier(n_estimators =  trees , max_depth= maxdepth , criterion=impurity , max_features=features )\n",
    "    clf.fit(X_train, Y_train.values.ravel())\n",
    "    t2 = datetime.datetime.now()\n",
    "\n",
    "    # Predict & Score\n",
    "    #----------------------------------------------------------------\n",
    "    y_pred = clf.predict(X_test)\n",
    "    result = str(trees) + \",\" + str(maxdepth) + \",\" + str(impurity) + \",\" + str(features) + \",\" + str( accuracy_score(Y_test,y_pred)*100) + \",\" + str((t2 - t1).total_seconds()) + \"\\n\"\n",
    "    return result\n"
   ]
  },
  {
   "cell_type": "code",
   "execution_count": 19,
   "metadata": {},
   "outputs": [
    {
     "name": "stdout",
     "output_type": "stream",
     "text": [
      "10,5,gini,sqrt,68.2349188285096,2.903843\n",
      "10,5,gini,log2,66.74339808085249,2.62564\n",
      "10,5,entropy,sqrt,64.68544430937416,2.937506\n",
      "10,5,entropy,log2,65.6294993490762,2.750967\n",
      "\n"
     ]
    }
   ],
   "source": [
    "res = \"\" ;\n",
    "Results = [\"\"] \n",
    "trees = [10,50,100]\n",
    "maxdepth = [5,10,15]\n",
    "impurity = ['gini', 'entropy']\n",
    "features = ['all', 'sqrt' , 'log2']\n",
    "\n",
    "\n",
    "for i in range(len(trees)):\n",
    "    for j in range(len(maxdepth)):\n",
    "        for k in range(len(impurity)):\n",
    "            for l in range(len(features)):\n",
    "                if (features[l] == 'all'):\n",
    "                    Results.append(RF_Train(trees[i],maxdepth[j],impurity[k],1.0)) \n",
    "                else:\n",
    "                    #Results.append(RF_Train(trees[i],maxdepth[j],impurity[k],features[l]))\n",
    "                    res = res +  RF_Train(trees[i],maxdepth[j],impurity[k],features[l])\n",
    "\n",
    "\n",
    "print(res) "
   ]
  },
  {
   "cell_type": "code",
   "execution_count": null,
   "metadata": {},
   "outputs": [],
   "source": []
  }
 ],
 "metadata": {
  "kernelspec": {
   "display_name": "Python 3",
   "language": "python",
   "name": "python3"
  },
  "language_info": {
   "codemirror_mode": {
    "name": "ipython",
    "version": 3
   },
   "file_extension": ".py",
   "mimetype": "text/x-python",
   "name": "python",
   "nbconvert_exporter": "python",
   "pygments_lexer": "ipython3",
   "version": "3.6.5"
  }
 },
 "nbformat": 4,
 "nbformat_minor": 2
}
