{
 "cells": [
  {
   "cell_type": "code",
   "execution_count": 1,
   "metadata": {},
   "outputs": [
    {
     "name": "stdout",
     "output_type": "stream",
     "text": [
      "The scikit-learn version is 0.19.2.\n"
     ]
    },
    {
     "name": "stderr",
     "output_type": "stream",
     "text": [
      "/anaconda/envs/py35/lib/python3.5/site-packages/sklearn/ensemble/weight_boosting.py:29: DeprecationWarning: numpy.core.umath_tests is an internal NumPy module and should not be imported. It will be removed in a future NumPy release.\n",
      "  from numpy.core.umath_tests import inner1d\n"
     ]
    },
    {
     "name": "stdout",
     "output_type": "stream",
     "text": [
      "The Auto scikit-learn version is 0.5.2.\n"
     ]
    }
   ],
   "source": [
    "#import needed package\n",
    "#---------------------------------------------------------\n",
    "import pandas as pd\n",
    "import numpy as np\n",
    "import sklearn\n",
    "import autosklearn\n",
    "from sklearn import preprocessing\n",
    "from sklearn.preprocessing import LabelEncoder \n",
    "from sklearn.metrics import accuracy_score\n",
    "import datetime\n",
    "print('The scikit-learn version is {}.'.format(sklearn.__version__))\n",
    "import autosklearn.classification\n",
    "print('The Auto scikit-learn version is {}.'.format(autosklearn.__version__))"
   ]
  },
  {
   "cell_type": "code",
   "execution_count": 2,
   "metadata": {},
   "outputs": [
    {
     "data": {
      "text/plain": [
       "(1455525, 73)"
      ]
     },
     "execution_count": 2,
     "metadata": {},
     "output_type": "execute_result"
    }
   ],
   "source": [
    "\n",
    "#Load Data from CSV\n",
    "#--------------------------------------------------------\n",
    "filepath = '/data/home/eissa/Downloads/datasets_92-CovPokElec.csv'\n",
    "rawdata = pd.read_csv( filepath ,  sep=','  ,  low_memory=False )\n",
    "\n",
    "label = 'class'\n",
    "rawdata.shape"
   ]
  },
  {
   "cell_type": "code",
   "execution_count": 3,
   "metadata": {},
   "outputs": [],
   "source": [
    "\n",
    "rawdata[[label]] = rawdata[[label]].astype(int)"
   ]
  },
  {
   "cell_type": "code",
   "execution_count": 4,
   "metadata": {},
   "outputs": [],
   "source": [
    "# split data into Testing and training\n",
    "# ---------------------------------------------------------------------------------------------------------------------\n",
    "np.random.seed(1234)\n",
    "msk = np.random.rand(len(rawdata)) < 0.8\n",
    "training_data = rawdata[msk]\n",
    "Testing_data = rawdata[~msk]\n",
    "\n",
    "X_train = training_data.loc[:, training_data.columns != label]\n",
    "Y_train = training_data.loc[:, training_data.columns == label]\n",
    "\n",
    "X_test = Testing_data.loc[:, Testing_data.columns != label]\n",
    "Y_test = Testing_data.loc[:, Testing_data.columns == label]"
   ]
  },
  {
   "cell_type": "code",
   "execution_count": 7,
   "metadata": {},
   "outputs": [
    {
     "name": "stderr",
     "output_type": "stream",
     "text": [
      "/anaconda/envs/py35/lib/python3.5/site-packages/autosklearn/automl.py:887: DataConversionWarning: A column-vector y was passed when a 1d array was expected. Will change shape via np.ravel().\n",
      "  y = self._check_y(y)\n",
      "/anaconda/envs/py35/lib/python3.5/site-packages/autosklearn/evaluation/train_evaluator.py:197: RuntimeWarning: Mean of empty slice\n",
      "  Y_train_pred = np.nanmean(Y_train_pred_full, axis=0)\n"
     ]
    },
    {
     "name": "stdout",
     "output_type": "stream",
     "text": [
      "[WARNING] [2020-01-07 07:36:35,897:EnsembleBuilder(1):259c93cc1f8b40f49cbca68e0da479f1] No models better than random - using Dummy Score!\n",
      "Time limit for a single run is higher than total time limit. Capping the limit for a single run to the total time given to SMAC (87.894468)\n",
      "[WARNING] [2020-01-07 07:36:36,041:EnsembleBuilder(1):259c93cc1f8b40f49cbca68e0da479f1] No models better than random - using Dummy Score!\n",
      "[WARNING] [2020-01-07 07:36:38,077:EnsembleBuilder(1):259c93cc1f8b40f49cbca68e0da479f1] No models better than random - using Dummy Score!\n",
      "[WARNING] [2020-01-07 07:36:40,109:EnsembleBuilder(1):259c93cc1f8b40f49cbca68e0da479f1] No models better than random - using Dummy Score!\n",
      "[WARNING] [2020-01-07 07:36:42,143:EnsembleBuilder(1):259c93cc1f8b40f49cbca68e0da479f1] No models better than random - using Dummy Score!\n",
      "[WARNING] [2020-01-07 07:36:44,175:EnsembleBuilder(1):259c93cc1f8b40f49cbca68e0da479f1] No models better than random - using Dummy Score!\n",
      "[WARNING] [2020-01-07 07:36:46,208:EnsembleBuilder(1):259c93cc1f8b40f49cbca68e0da479f1] No models better than random - using Dummy Score!\n",
      "[WARNING] [2020-01-07 07:36:48,243:EnsembleBuilder(1):259c93cc1f8b40f49cbca68e0da479f1] No models better than random - using Dummy Score!\n",
      "[WARNING] [2020-01-07 07:36:50,275:EnsembleBuilder(1):259c93cc1f8b40f49cbca68e0da479f1] No models better than random - using Dummy Score!\n",
      "[WARNING] [2020-01-07 07:36:52,308:EnsembleBuilder(1):259c93cc1f8b40f49cbca68e0da479f1] No models better than random - using Dummy Score!\n",
      "[WARNING] [2020-01-07 07:36:54,341:EnsembleBuilder(1):259c93cc1f8b40f49cbca68e0da479f1] No models better than random - using Dummy Score!\n",
      "[WARNING] [2020-01-07 07:36:56,374:EnsembleBuilder(1):259c93cc1f8b40f49cbca68e0da479f1] No models better than random - using Dummy Score!\n",
      "[WARNING] [2020-01-07 07:36:58,405:EnsembleBuilder(1):259c93cc1f8b40f49cbca68e0da479f1] No models better than random - using Dummy Score!\n",
      "[WARNING] [2020-01-07 07:37:00,710:EnsembleBuilder(1):259c93cc1f8b40f49cbca68e0da479f1] No models better than random - using Dummy Score!\n",
      "[WARNING] [2020-01-07 07:37:02,745:EnsembleBuilder(1):259c93cc1f8b40f49cbca68e0da479f1] No models better than random - using Dummy Score!\n",
      "[WARNING] [2020-01-07 07:37:04,780:EnsembleBuilder(1):259c93cc1f8b40f49cbca68e0da479f1] No models better than random - using Dummy Score!\n",
      "[WARNING] [2020-01-07 07:37:06,814:EnsembleBuilder(1):259c93cc1f8b40f49cbca68e0da479f1] No models better than random - using Dummy Score!\n",
      "[WARNING] [2020-01-07 07:37:08,849:EnsembleBuilder(1):259c93cc1f8b40f49cbca68e0da479f1] No models better than random - using Dummy Score!\n",
      "[WARNING] [2020-01-07 07:37:10,883:EnsembleBuilder(1):259c93cc1f8b40f49cbca68e0da479f1] No models better than random - using Dummy Score!\n",
      "[WARNING] [2020-01-07 07:37:12,918:EnsembleBuilder(1):259c93cc1f8b40f49cbca68e0da479f1] No models better than random - using Dummy Score!\n",
      "[WARNING] [2020-01-07 07:37:14,952:EnsembleBuilder(1):259c93cc1f8b40f49cbca68e0da479f1] No models better than random - using Dummy Score!\n",
      "[WARNING] [2020-01-07 07:37:16,990:EnsembleBuilder(1):259c93cc1f8b40f49cbca68e0da479f1] No models better than random - using Dummy Score!\n",
      "[WARNING] [2020-01-07 07:37:19,023:EnsembleBuilder(1):259c93cc1f8b40f49cbca68e0da479f1] No models better than random - using Dummy Score!\n",
      "[WARNING] [2020-01-07 07:37:21,057:EnsembleBuilder(1):259c93cc1f8b40f49cbca68e0da479f1] No models better than random - using Dummy Score!\n",
      "[WARNING] [2020-01-07 07:37:23,091:EnsembleBuilder(1):259c93cc1f8b40f49cbca68e0da479f1] No models better than random - using Dummy Score!\n",
      "[WARNING] [2020-01-07 07:37:25,126:EnsembleBuilder(1):259c93cc1f8b40f49cbca68e0da479f1] No models better than random - using Dummy Score!\n",
      "[WARNING] [2020-01-07 07:37:27,159:EnsembleBuilder(1):259c93cc1f8b40f49cbca68e0da479f1] No models better than random - using Dummy Score!\n",
      "[WARNING] [2020-01-07 07:37:29,201:EnsembleBuilder(1):259c93cc1f8b40f49cbca68e0da479f1] No models better than random - using Dummy Score!\n",
      "[WARNING] [2020-01-07 07:37:31,280:EnsembleBuilder(1):259c93cc1f8b40f49cbca68e0da479f1] No models better than random - using Dummy Score!\n",
      "[WARNING] [2020-01-07 07:37:33,313:EnsembleBuilder(1):259c93cc1f8b40f49cbca68e0da479f1] No models better than random - using Dummy Score!\n",
      "[WARNING] [2020-01-07 07:37:35,345:EnsembleBuilder(1):259c93cc1f8b40f49cbca68e0da479f1] No models better than random - using Dummy Score!\n",
      "[WARNING] [2020-01-07 07:37:37,380:EnsembleBuilder(1):259c93cc1f8b40f49cbca68e0da479f1] No models better than random - using Dummy Score!\n",
      "[WARNING] [2020-01-07 07:37:39,413:EnsembleBuilder(1):259c93cc1f8b40f49cbca68e0da479f1] No models better than random - using Dummy Score!\n",
      "[WARNING] [2020-01-07 07:37:41,446:EnsembleBuilder(1):259c93cc1f8b40f49cbca68e0da479f1] No models better than random - using Dummy Score!\n",
      "[WARNING] [2020-01-07 07:37:43,479:EnsembleBuilder(1):259c93cc1f8b40f49cbca68e0da479f1] No models better than random - using Dummy Score!\n",
      "[WARNING] [2020-01-07 07:37:45,512:EnsembleBuilder(1):259c93cc1f8b40f49cbca68e0da479f1] No models better than random - using Dummy Score!\n",
      "[WARNING] [2020-01-07 07:37:47,549:EnsembleBuilder(1):259c93cc1f8b40f49cbca68e0da479f1] No models better than random - using Dummy Score!\n",
      "[WARNING] [2020-01-07 07:37:49,582:EnsembleBuilder(1):259c93cc1f8b40f49cbca68e0da479f1] No models better than random - using Dummy Score!\n",
      "[WARNING] [2020-01-07 07:37:51,614:EnsembleBuilder(1):259c93cc1f8b40f49cbca68e0da479f1] No models better than random - using Dummy Score!\n",
      "[WARNING] [2020-01-07 07:37:53,647:EnsembleBuilder(1):259c93cc1f8b40f49cbca68e0da479f1] No models better than random - using Dummy Score!\n",
      "[WARNING] [2020-01-07 07:37:55,680:EnsembleBuilder(1):259c93cc1f8b40f49cbca68e0da479f1] No models better than random - using Dummy Score!\n",
      "[WARNING] [2020-01-07 07:37:57,713:EnsembleBuilder(1):259c93cc1f8b40f49cbca68e0da479f1] No models better than random - using Dummy Score!\n",
      "1\n",
      "['/tmp/autosklearn_tmp_5025_2268/.auto-sklearn/ensembles/1.0000000000.ensemble']\n",
      "Time:96.607267\n",
      "Accuracy score 0.44489780484954317\n"
     ]
    }
   ],
   "source": [
    "import autosklearn.classification\n",
    "#rawdata\n",
    "t1 = datetime.datetime.now()\n",
    "automl = autosklearn.classification.AutoSklearnClassifier(time_left_for_this_task=100, \n",
    "                                                          ensemble_size= 1,\n",
    "                                                          include_preprocessors=[\"no_preprocessing\"],\n",
    "                                                          ensemble_memory_limit=45000, \n",
    "                                                          seed=1, \n",
    "                                                          ml_memory_limit=45000)\n",
    "automl.fit(X_train, Y_train)\n",
    "y_hat = automl.predict(X_test)\n",
    "t2 = datetime.datetime.now()\n",
    "print(\"Time:\" + str((t2 - t1).total_seconds()))\n",
    "print(\"Accuracy score\", accuracy_score(Y_test, y_hat))\n",
    "\n",
    "#automl.cv_results_\n",
    "\n",
    "#automl.sprint_statistics()\n",
    "\n",
    "#automl.show_models()\n"
   ]
  },
  {
   "cell_type": "code",
   "execution_count": null,
   "metadata": {},
   "outputs": [],
   "source": [
    "accuracy_score(Y_test, y_hat)"
   ]
  },
  {
   "cell_type": "code",
   "execution_count": null,
   "metadata": {},
   "outputs": [],
   "source": [
    "automl.sprint_statistics()"
   ]
  },
  {
   "cell_type": "code",
   "execution_count": null,
   "metadata": {},
   "outputs": [],
   "source": []
  }
 ],
 "metadata": {
  "kernelspec": {
   "display_name": "Python 3.5",
   "language": "python",
   "name": "python3"
  },
  "language_info": {
   "codemirror_mode": {
    "name": "ipython",
    "version": 3
   },
   "file_extension": ".py",
   "mimetype": "text/x-python",
   "name": "python",
   "nbconvert_exporter": "python",
   "pygments_lexer": "ipython3",
   "version": "3.5.6"
  }
 },
 "nbformat": 4,
 "nbformat_minor": 2
}
