{
 "cells": [
  {
   "cell_type": "code",
   "execution_count": 1,
   "metadata": {},
   "outputs": [
    {
     "name": "stdout",
     "output_type": "stream",
     "text": [
      "The scikit-learn version is 0.19.2.\n"
     ]
    },
    {
     "name": "stderr",
     "output_type": "stream",
     "text": [
      "/anaconda/envs/py35/lib/python3.5/site-packages/sklearn/ensemble/weight_boosting.py:29: DeprecationWarning: numpy.core.umath_tests is an internal NumPy module and should not be imported. It will be removed in a future NumPy release.\n",
      "  from numpy.core.umath_tests import inner1d\n"
     ]
    },
    {
     "name": "stdout",
     "output_type": "stream",
     "text": [
      "The Auto scikit-learn version is 0.5.2.\n"
     ]
    }
   ],
   "source": [
    "#import needed package\n",
    "#---------------------------------------------------------\n",
    "import pandas as pd\n",
    "import numpy as np\n",
    "import sklearn\n",
    "import autosklearn\n",
    "from sklearn import preprocessing\n",
    "from sklearn.preprocessing import LabelEncoder \n",
    "from sklearn.metrics import accuracy_score\n",
    "import datetime\n",
    "print('The scikit-learn version is {}.'.format(sklearn.__version__))\n",
    "import autosklearn.classification\n",
    "print('The Auto scikit-learn version is {}.'.format(autosklearn.__version__))"
   ]
  },
  {
   "cell_type": "code",
   "execution_count": 3,
   "metadata": {},
   "outputs": [],
   "source": [
    "\n",
    "#Load Data from CSV\n",
    "#--------------------------------------------------------\n",
    "filepath = '/data/home/eissa/Downloads/datasets_20-HT_Sensor_dataset.csv'\n",
    "rawdata = pd.read_csv( filepath ,  sep=','  ,  low_memory=False )\n",
    "\n",
    "#label = 'Label'\n",
    "#rawdata.shape"
   ]
  },
  {
   "cell_type": "code",
   "execution_count": 4,
   "metadata": {},
   "outputs": [],
   "source": [
    "# set columns\n",
    "#----------------------------------------------------------------\n",
    "Columns = ['label' , 'c1' , 'c2' , 'c3' , 'c4' , 'c5' , 'c6' ,\\\n",
    "           'c7' , 'c8' , 'c9' , 'c10' , 'c11' ]       \n",
    "rawdata.columns = Columns\n",
    "\n",
    "label = 'label'"
   ]
  },
  {
   "cell_type": "code",
   "execution_count": 5,
   "metadata": {},
   "outputs": [],
   "source": [
    "\n",
    "rawdata[[label]] = rawdata[[label]].astype(int)"
   ]
  },
  {
   "cell_type": "code",
   "execution_count": 6,
   "metadata": {},
   "outputs": [],
   "source": [
    "# split data into Testing and training\n",
    "# ---------------------------------------------------------------------------------------------------------------------\n",
    "np.random.seed(1234)\n",
    "msk = np.random.rand(len(rawdata)) < 0.8\n",
    "training_data = rawdata[msk]\n",
    "Testing_data = rawdata[~msk]\n",
    "\n",
    "X_train = training_data.loc[:, training_data.columns != label]\n",
    "Y_train = training_data.loc[:, training_data.columns == label]\n",
    "\n",
    "X_test = Testing_data.loc[:, Testing_data.columns != label]\n",
    "Y_test = Testing_data.loc[:, Testing_data.columns == label]"
   ]
  },
  {
   "cell_type": "code",
   "execution_count": null,
   "metadata": {},
   "outputs": [
    {
     "name": "stderr",
     "output_type": "stream",
     "text": [
      "/anaconda/envs/py35/lib/python3.5/site-packages/autosklearn/automl.py:887: DataConversionWarning: A column-vector y was passed when a 1d array was expected. Will change shape via np.ravel().\n",
      "  y = self._check_y(y)\n",
      "/anaconda/envs/py35/lib/python3.5/site-packages/autosklearn/evaluation/train_evaluator.py:197: RuntimeWarning: Mean of empty slice\n",
      "  Y_train_pred = np.nanmean(Y_train_pred_full, axis=0)\n"
     ]
    },
    {
     "name": "stdout",
     "output_type": "stream",
     "text": [
      "[WARNING] [2020-01-05 07:19:03,296:EnsembleBuilder(1):271d2dd6fd57a4d8e481183046f58e13] No models better than random - using Dummy Score!\n",
      "[WARNING] [2020-01-05 07:19:03,927:EnsembleBuilder(1):271d2dd6fd57a4d8e481183046f58e13] No models better than random - using Dummy Score!\n",
      "[WARNING] [2020-01-05 07:19:06,096:EnsembleBuilder(1):271d2dd6fd57a4d8e481183046f58e13] No models better than random - using Dummy Score!\n",
      "[WARNING] [2020-01-05 07:19:08,265:EnsembleBuilder(1):271d2dd6fd57a4d8e481183046f58e13] No models better than random - using Dummy Score!\n",
      "[WARNING] [2020-01-05 07:19:10,434:EnsembleBuilder(1):271d2dd6fd57a4d8e481183046f58e13] No models better than random - using Dummy Score!\n",
      "[WARNING] [2020-01-05 07:19:12,619:EnsembleBuilder(1):271d2dd6fd57a4d8e481183046f58e13] No models better than random - using Dummy Score!\n",
      "[WARNING] [2020-01-05 07:19:14,790:EnsembleBuilder(1):271d2dd6fd57a4d8e481183046f58e13] No models better than random - using Dummy Score!\n",
      "[WARNING] [2020-01-05 07:19:16,959:EnsembleBuilder(1):271d2dd6fd57a4d8e481183046f58e13] No models better than random - using Dummy Score!\n",
      "[WARNING] [2020-01-05 07:19:19,129:EnsembleBuilder(1):271d2dd6fd57a4d8e481183046f58e13] No models better than random - using Dummy Score!\n",
      "[WARNING] [2020-01-05 07:19:21,301:EnsembleBuilder(1):271d2dd6fd57a4d8e481183046f58e13] No models better than random - using Dummy Score!\n",
      "[WARNING] [2020-01-05 07:19:23,475:EnsembleBuilder(1):271d2dd6fd57a4d8e481183046f58e13] No models better than random - using Dummy Score!\n",
      "[WARNING] [2020-01-05 07:19:25,650:EnsembleBuilder(1):271d2dd6fd57a4d8e481183046f58e13] No models better than random - using Dummy Score!\n",
      "[WARNING] [2020-01-05 07:19:27,821:EnsembleBuilder(1):271d2dd6fd57a4d8e481183046f58e13] No models better than random - using Dummy Score!\n",
      "[WARNING] [2020-01-05 07:19:29,991:EnsembleBuilder(1):271d2dd6fd57a4d8e481183046f58e13] No models better than random - using Dummy Score!\n",
      "[WARNING] [2020-01-05 07:19:32,166:EnsembleBuilder(1):271d2dd6fd57a4d8e481183046f58e13] No models better than random - using Dummy Score!\n",
      "[WARNING] [2020-01-05 07:19:34,338:EnsembleBuilder(1):271d2dd6fd57a4d8e481183046f58e13] No models better than random - using Dummy Score!\n",
      "[WARNING] [2020-01-05 07:19:36,508:EnsembleBuilder(1):271d2dd6fd57a4d8e481183046f58e13] No models better than random - using Dummy Score!\n",
      "[WARNING] [2020-01-05 07:19:38,680:EnsembleBuilder(1):271d2dd6fd57a4d8e481183046f58e13] No models better than random - using Dummy Score!\n",
      "[WARNING] [2020-01-05 07:19:40,861:EnsembleBuilder(1):271d2dd6fd57a4d8e481183046f58e13] No models better than random - using Dummy Score!\n",
      "[WARNING] [2020-01-05 07:19:43,033:EnsembleBuilder(1):271d2dd6fd57a4d8e481183046f58e13] No models better than random - using Dummy Score!\n",
      "[WARNING] [2020-01-05 07:19:45,202:EnsembleBuilder(1):271d2dd6fd57a4d8e481183046f58e13] No models better than random - using Dummy Score!\n",
      "[WARNING] [2020-01-05 07:19:47,373:EnsembleBuilder(1):271d2dd6fd57a4d8e481183046f58e13] No models better than random - using Dummy Score!\n",
      "[WARNING] [2020-01-05 07:19:49,556:EnsembleBuilder(1):271d2dd6fd57a4d8e481183046f58e13] No models better than random - using Dummy Score!\n",
      "[WARNING] [2020-01-05 07:19:51,723:EnsembleBuilder(1):271d2dd6fd57a4d8e481183046f58e13] No models better than random - using Dummy Score!\n",
      "[WARNING] [2020-01-05 07:19:53,889:EnsembleBuilder(1):271d2dd6fd57a4d8e481183046f58e13] No models better than random - using Dummy Score!\n",
      "[WARNING] [2020-01-05 07:19:56,059:EnsembleBuilder(1):271d2dd6fd57a4d8e481183046f58e13] No models better than random - using Dummy Score!\n",
      "[WARNING] [2020-01-05 07:19:58,239:EnsembleBuilder(1):271d2dd6fd57a4d8e481183046f58e13] No models better than random - using Dummy Score!\n",
      "[WARNING] [2020-01-05 07:20:00,429:EnsembleBuilder(1):271d2dd6fd57a4d8e481183046f58e13] No models better than random - using Dummy Score!\n",
      "[WARNING] [2020-01-05 07:20:02,599:EnsembleBuilder(1):271d2dd6fd57a4d8e481183046f58e13] No models better than random - using Dummy Score!\n",
      "[WARNING] [2020-01-05 07:20:04,770:EnsembleBuilder(1):271d2dd6fd57a4d8e481183046f58e13] No models better than random - using Dummy Score!\n",
      "[WARNING] [2020-01-05 07:20:06,950:EnsembleBuilder(1):271d2dd6fd57a4d8e481183046f58e13] No models better than random - using Dummy Score!\n",
      "[WARNING] [2020-01-05 07:20:09,141:EnsembleBuilder(1):271d2dd6fd57a4d8e481183046f58e13] No models better than random - using Dummy Score!\n",
      "[WARNING] [2020-01-05 07:20:11,313:EnsembleBuilder(1):271d2dd6fd57a4d8e481183046f58e13] No models better than random - using Dummy Score!\n",
      "[WARNING] [2020-01-05 07:20:13,486:EnsembleBuilder(1):271d2dd6fd57a4d8e481183046f58e13] No models better than random - using Dummy Score!\n",
      "[WARNING] [2020-01-05 07:20:15,655:EnsembleBuilder(1):271d2dd6fd57a4d8e481183046f58e13] No models better than random - using Dummy Score!\n",
      "[WARNING] [2020-01-05 07:20:17,830:EnsembleBuilder(1):271d2dd6fd57a4d8e481183046f58e13] No models better than random - using Dummy Score!\n",
      "[WARNING] [2020-01-05 07:20:19,999:EnsembleBuilder(1):271d2dd6fd57a4d8e481183046f58e13] No models better than random - using Dummy Score!\n",
      "[WARNING] [2020-01-05 07:20:22,165:EnsembleBuilder(1):271d2dd6fd57a4d8e481183046f58e13] No models better than random - using Dummy Score!\n",
      "[WARNING] [2020-01-05 07:20:24,332:EnsembleBuilder(1):271d2dd6fd57a4d8e481183046f58e13] No models better than random - using Dummy Score!\n",
      "[WARNING] [2020-01-05 07:20:26,505:EnsembleBuilder(1):271d2dd6fd57a4d8e481183046f58e13] No models better than random - using Dummy Score!\n",
      "[WARNING] [2020-01-05 07:20:28,672:EnsembleBuilder(1):271d2dd6fd57a4d8e481183046f58e13] No models better than random - using Dummy Score!\n",
      "[WARNING] [2020-01-05 07:20:30,842:EnsembleBuilder(1):271d2dd6fd57a4d8e481183046f58e13] No models better than random - using Dummy Score!\n",
      "[WARNING] [2020-01-05 07:20:33,012:EnsembleBuilder(1):271d2dd6fd57a4d8e481183046f58e13] No models better than random - using Dummy Score!\n",
      "[WARNING] [2020-01-05 07:20:35,191:EnsembleBuilder(1):271d2dd6fd57a4d8e481183046f58e13] No models better than random - using Dummy Score!\n",
      "[WARNING] [2020-01-05 07:20:37,360:EnsembleBuilder(1):271d2dd6fd57a4d8e481183046f58e13] No models better than random - using Dummy Score!\n",
      "[WARNING] [2020-01-05 07:20:39,530:EnsembleBuilder(1):271d2dd6fd57a4d8e481183046f58e13] No models better than random - using Dummy Score!\n",
      "[WARNING] [2020-01-05 07:20:41,716:EnsembleBuilder(1):271d2dd6fd57a4d8e481183046f58e13] No models better than random - using Dummy Score!\n",
      "[WARNING] [2020-01-05 07:20:43,895:EnsembleBuilder(1):271d2dd6fd57a4d8e481183046f58e13] No models better than random - using Dummy Score!\n",
      "[WARNING] [2020-01-05 07:20:46,064:EnsembleBuilder(1):271d2dd6fd57a4d8e481183046f58e13] No models better than random - using Dummy Score!\n",
      "[WARNING] [2020-01-05 07:20:48,232:EnsembleBuilder(1):271d2dd6fd57a4d8e481183046f58e13] No models better than random - using Dummy Score!\n",
      "[WARNING] [2020-01-05 07:20:50,403:EnsembleBuilder(1):271d2dd6fd57a4d8e481183046f58e13] No models better than random - using Dummy Score!\n",
      "[WARNING] [2020-01-05 07:20:52,576:EnsembleBuilder(1):271d2dd6fd57a4d8e481183046f58e13] No models better than random - using Dummy Score!\n",
      "[WARNING] [2020-01-05 07:20:54,741:EnsembleBuilder(1):271d2dd6fd57a4d8e481183046f58e13] No models better than random - using Dummy Score!\n",
      "[WARNING] [2020-01-05 07:20:56,916:EnsembleBuilder(1):271d2dd6fd57a4d8e481183046f58e13] No models better than random - using Dummy Score!\n",
      "[WARNING] [2020-01-05 07:20:59,087:EnsembleBuilder(1):271d2dd6fd57a4d8e481183046f58e13] No models better than random - using Dummy Score!\n",
      "[WARNING] [2020-01-05 07:21:01,259:EnsembleBuilder(1):271d2dd6fd57a4d8e481183046f58e13] No models better than random - using Dummy Score!\n",
      "[WARNING] [2020-01-05 07:21:03,429:EnsembleBuilder(1):271d2dd6fd57a4d8e481183046f58e13] No models better than random - using Dummy Score!\n",
      "[WARNING] [2020-01-05 07:21:05,611:EnsembleBuilder(1):271d2dd6fd57a4d8e481183046f58e13] No models better than random - using Dummy Score!\n",
      "[WARNING] [2020-01-05 07:21:07,782:EnsembleBuilder(1):271d2dd6fd57a4d8e481183046f58e13] No models better than random - using Dummy Score!\n",
      "[WARNING] [2020-01-05 07:21:09,957:EnsembleBuilder(1):271d2dd6fd57a4d8e481183046f58e13] No models better than random - using Dummy Score!\n"
     ]
    },
    {
     "name": "stdout",
     "output_type": "stream",
     "text": [
      "[WARNING] [2020-01-05 07:21:12,132:EnsembleBuilder(1):271d2dd6fd57a4d8e481183046f58e13] No models better than random - using Dummy Score!\n",
      "[WARNING] [2020-01-05 07:21:14,299:EnsembleBuilder(1):271d2dd6fd57a4d8e481183046f58e13] No models better than random - using Dummy Score!\n",
      "[WARNING] [2020-01-05 07:21:16,483:EnsembleBuilder(1):271d2dd6fd57a4d8e481183046f58e13] No models better than random - using Dummy Score!\n",
      "[WARNING] [2020-01-05 07:21:18,657:EnsembleBuilder(1):271d2dd6fd57a4d8e481183046f58e13] No models better than random - using Dummy Score!\n",
      "[WARNING] [2020-01-05 07:21:20,843:EnsembleBuilder(1):271d2dd6fd57a4d8e481183046f58e13] No models better than random - using Dummy Score!\n",
      "[WARNING] [2020-01-05 07:21:23,016:EnsembleBuilder(1):271d2dd6fd57a4d8e481183046f58e13] No models better than random - using Dummy Score!\n",
      "[WARNING] [2020-01-05 07:21:25,187:EnsembleBuilder(1):271d2dd6fd57a4d8e481183046f58e13] No models better than random - using Dummy Score!\n",
      "[WARNING] [2020-01-05 07:21:27,356:EnsembleBuilder(1):271d2dd6fd57a4d8e481183046f58e13] No models better than random - using Dummy Score!\n",
      "[WARNING] [2020-01-05 07:21:29,527:EnsembleBuilder(1):271d2dd6fd57a4d8e481183046f58e13] No models better than random - using Dummy Score!\n",
      "[WARNING] [2020-01-05 07:21:31,697:EnsembleBuilder(1):271d2dd6fd57a4d8e481183046f58e13] No models better than random - using Dummy Score!\n",
      "[WARNING] [2020-01-05 07:21:33,876:EnsembleBuilder(1):271d2dd6fd57a4d8e481183046f58e13] No models better than random - using Dummy Score!\n",
      "[WARNING] [2020-01-05 07:21:36,045:EnsembleBuilder(1):271d2dd6fd57a4d8e481183046f58e13] No models better than random - using Dummy Score!\n",
      "[WARNING] [2020-01-05 07:21:38,215:EnsembleBuilder(1):271d2dd6fd57a4d8e481183046f58e13] No models better than random - using Dummy Score!\n",
      "[WARNING] [2020-01-05 07:21:40,383:EnsembleBuilder(1):271d2dd6fd57a4d8e481183046f58e13] No models better than random - using Dummy Score!\n",
      "[WARNING] [2020-01-05 07:21:42,553:EnsembleBuilder(1):271d2dd6fd57a4d8e481183046f58e13] No models better than random - using Dummy Score!\n",
      "[WARNING] [2020-01-05 07:21:44,724:EnsembleBuilder(1):271d2dd6fd57a4d8e481183046f58e13] No models better than random - using Dummy Score!\n",
      "[WARNING] [2020-01-05 07:21:46,907:EnsembleBuilder(1):271d2dd6fd57a4d8e481183046f58e13] No models better than random - using Dummy Score!\n",
      "[WARNING] [2020-01-05 07:21:49,077:EnsembleBuilder(1):271d2dd6fd57a4d8e481183046f58e13] No models better than random - using Dummy Score!\n",
      "[WARNING] [2020-01-05 07:21:51,354:EnsembleBuilder(1):271d2dd6fd57a4d8e481183046f58e13] No models better than random - using Dummy Score!\n",
      "[WARNING] [2020-01-05 07:21:53,523:EnsembleBuilder(1):271d2dd6fd57a4d8e481183046f58e13] No models better than random - using Dummy Score!\n",
      "[WARNING] [2020-01-05 07:21:55,692:EnsembleBuilder(1):271d2dd6fd57a4d8e481183046f58e13] No models better than random - using Dummy Score!\n",
      "[WARNING] [2020-01-05 07:21:57,861:EnsembleBuilder(1):271d2dd6fd57a4d8e481183046f58e13] No models better than random - using Dummy Score!\n",
      "[WARNING] [2020-01-05 07:22:00,027:EnsembleBuilder(1):271d2dd6fd57a4d8e481183046f58e13] No models better than random - using Dummy Score!\n",
      "[WARNING] [2020-01-05 07:22:02,200:EnsembleBuilder(1):271d2dd6fd57a4d8e481183046f58e13] No models better than random - using Dummy Score!\n",
      "[WARNING] [2020-01-05 07:22:04,368:EnsembleBuilder(1):271d2dd6fd57a4d8e481183046f58e13] No models better than random - using Dummy Score!\n",
      "[WARNING] [2020-01-05 07:22:06,534:EnsembleBuilder(1):271d2dd6fd57a4d8e481183046f58e13] No models better than random - using Dummy Score!\n",
      "[WARNING] [2020-01-05 07:22:08,709:EnsembleBuilder(1):271d2dd6fd57a4d8e481183046f58e13] No models better than random - using Dummy Score!\n",
      "[WARNING] [2020-01-05 07:22:10,937:EnsembleBuilder(1):271d2dd6fd57a4d8e481183046f58e13] No models better than random - using Dummy Score!\n",
      "[WARNING] [2020-01-05 07:22:13,143:EnsembleBuilder(1):271d2dd6fd57a4d8e481183046f58e13] No models better than random - using Dummy Score!\n",
      "[WARNING] [2020-01-05 07:22:15,345:EnsembleBuilder(1):271d2dd6fd57a4d8e481183046f58e13] No models better than random - using Dummy Score!\n",
      "[WARNING] [2020-01-05 07:22:17,543:EnsembleBuilder(1):271d2dd6fd57a4d8e481183046f58e13] No models better than random - using Dummy Score!\n",
      "[WARNING] [2020-01-05 07:22:19,736:EnsembleBuilder(1):271d2dd6fd57a4d8e481183046f58e13] No models better than random - using Dummy Score!\n",
      "[WARNING] [2020-01-05 07:22:21,948:EnsembleBuilder(1):271d2dd6fd57a4d8e481183046f58e13] No models better than random - using Dummy Score!\n",
      "[WARNING] [2020-01-05 07:22:24,130:EnsembleBuilder(1):271d2dd6fd57a4d8e481183046f58e13] No models better than random - using Dummy Score!\n",
      "[WARNING] [2020-01-05 07:22:26,299:EnsembleBuilder(1):271d2dd6fd57a4d8e481183046f58e13] No models better than random - using Dummy Score!\n",
      "[WARNING] [2020-01-05 07:22:28,480:EnsembleBuilder(1):271d2dd6fd57a4d8e481183046f58e13] No models better than random - using Dummy Score!\n",
      "[WARNING] [2020-01-05 07:22:30,656:EnsembleBuilder(1):271d2dd6fd57a4d8e481183046f58e13] No models better than random - using Dummy Score!\n",
      "[WARNING] [2020-01-05 07:22:32,823:EnsembleBuilder(1):271d2dd6fd57a4d8e481183046f58e13] No models better than random - using Dummy Score!\n",
      "[WARNING] [2020-01-05 07:22:35,003:EnsembleBuilder(1):271d2dd6fd57a4d8e481183046f58e13] No models better than random - using Dummy Score!\n",
      "[WARNING] [2020-01-05 07:22:37,181:EnsembleBuilder(1):271d2dd6fd57a4d8e481183046f58e13] No models better than random - using Dummy Score!\n",
      "[WARNING] [2020-01-05 07:22:39,357:EnsembleBuilder(1):271d2dd6fd57a4d8e481183046f58e13] No models better than random - using Dummy Score!\n",
      "[WARNING] [2020-01-05 07:22:41,530:EnsembleBuilder(1):271d2dd6fd57a4d8e481183046f58e13] No models better than random - using Dummy Score!\n",
      "[WARNING] [2020-01-05 07:22:43,696:EnsembleBuilder(1):271d2dd6fd57a4d8e481183046f58e13] No models better than random - using Dummy Score!\n",
      "[WARNING] [2020-01-05 07:22:45,867:EnsembleBuilder(1):271d2dd6fd57a4d8e481183046f58e13] No models better than random - using Dummy Score!\n",
      "[WARNING] [2020-01-05 07:22:48,041:EnsembleBuilder(1):271d2dd6fd57a4d8e481183046f58e13] No models better than random - using Dummy Score!\n",
      "[WARNING] [2020-01-05 07:22:50,211:EnsembleBuilder(1):271d2dd6fd57a4d8e481183046f58e13] No models better than random - using Dummy Score!\n",
      "[WARNING] [2020-01-05 07:22:52,379:EnsembleBuilder(1):271d2dd6fd57a4d8e481183046f58e13] No models better than random - using Dummy Score!\n",
      "[WARNING] [2020-01-05 07:22:54,553:EnsembleBuilder(1):271d2dd6fd57a4d8e481183046f58e13] No models better than random - using Dummy Score!\n",
      "[WARNING] [2020-01-05 07:22:56,728:EnsembleBuilder(1):271d2dd6fd57a4d8e481183046f58e13] No models better than random - using Dummy Score!\n",
      "[WARNING] [2020-01-05 07:22:58,912:EnsembleBuilder(1):271d2dd6fd57a4d8e481183046f58e13] No models better than random - using Dummy Score!\n",
      "[WARNING] [2020-01-05 07:23:01,082:EnsembleBuilder(1):271d2dd6fd57a4d8e481183046f58e13] No models better than random - using Dummy Score!\n",
      "[WARNING] [2020-01-05 07:23:03,250:EnsembleBuilder(1):271d2dd6fd57a4d8e481183046f58e13] No models better than random - using Dummy Score!\n",
      "[WARNING] [2020-01-05 07:23:05,416:EnsembleBuilder(1):271d2dd6fd57a4d8e481183046f58e13] No models better than random - using Dummy Score!\n",
      "[WARNING] [2020-01-05 07:23:07,584:EnsembleBuilder(1):271d2dd6fd57a4d8e481183046f58e13] No models better than random - using Dummy Score!\n",
      "[WARNING] [2020-01-05 07:23:09,760:EnsembleBuilder(1):271d2dd6fd57a4d8e481183046f58e13] No models better than random - using Dummy Score!\n",
      "[WARNING] [2020-01-05 07:23:11,928:EnsembleBuilder(1):271d2dd6fd57a4d8e481183046f58e13] No models better than random - using Dummy Score!\n",
      "[WARNING] [2020-01-05 07:23:14,096:EnsembleBuilder(1):271d2dd6fd57a4d8e481183046f58e13] No models better than random - using Dummy Score!\n",
      "[WARNING] [2020-01-05 07:23:16,264:EnsembleBuilder(1):271d2dd6fd57a4d8e481183046f58e13] No models better than random - using Dummy Score!\n",
      "[WARNING] [2020-01-05 07:23:18,432:EnsembleBuilder(1):271d2dd6fd57a4d8e481183046f58e13] No models better than random - using Dummy Score!\n",
      "[WARNING] [2020-01-05 07:23:20,615:EnsembleBuilder(1):271d2dd6fd57a4d8e481183046f58e13] No models better than random - using Dummy Score!\n"
     ]
    },
    {
     "name": "stdout",
     "output_type": "stream",
     "text": [
      "[WARNING] [2020-01-05 07:23:22,791:EnsembleBuilder(1):271d2dd6fd57a4d8e481183046f58e13] No models better than random - using Dummy Score!\n",
      "[WARNING] [2020-01-05 07:23:24,963:EnsembleBuilder(1):271d2dd6fd57a4d8e481183046f58e13] No models better than random - using Dummy Score!\n",
      "[WARNING] [2020-01-05 07:23:27,133:EnsembleBuilder(1):271d2dd6fd57a4d8e481183046f58e13] No models better than random - using Dummy Score!\n",
      "[WARNING] [2020-01-05 07:23:29,315:EnsembleBuilder(1):271d2dd6fd57a4d8e481183046f58e13] No models better than random - using Dummy Score!\n",
      "[WARNING] [2020-01-05 07:23:31,486:EnsembleBuilder(1):271d2dd6fd57a4d8e481183046f58e13] No models better than random - using Dummy Score!\n",
      "[WARNING] [2020-01-05 07:23:33,652:EnsembleBuilder(1):271d2dd6fd57a4d8e481183046f58e13] No models better than random - using Dummy Score!\n",
      "[WARNING] [2020-01-05 07:23:35,824:EnsembleBuilder(1):271d2dd6fd57a4d8e481183046f58e13] No models better than random - using Dummy Score!\n",
      "[WARNING] [2020-01-05 07:23:37,993:EnsembleBuilder(1):271d2dd6fd57a4d8e481183046f58e13] No models better than random - using Dummy Score!\n",
      "[WARNING] [2020-01-05 07:23:40,167:EnsembleBuilder(1):271d2dd6fd57a4d8e481183046f58e13] No models better than random - using Dummy Score!\n",
      "[WARNING] [2020-01-05 07:23:42,345:EnsembleBuilder(1):271d2dd6fd57a4d8e481183046f58e13] No models better than random - using Dummy Score!\n",
      "[WARNING] [2020-01-05 07:23:44,515:EnsembleBuilder(1):271d2dd6fd57a4d8e481183046f58e13] No models better than random - using Dummy Score!\n",
      "[WARNING] [2020-01-05 07:23:46,687:EnsembleBuilder(1):271d2dd6fd57a4d8e481183046f58e13] No models better than random - using Dummy Score!\n",
      "[WARNING] [2020-01-05 07:23:48,870:EnsembleBuilder(1):271d2dd6fd57a4d8e481183046f58e13] No models better than random - using Dummy Score!\n",
      "[WARNING] [2020-01-05 07:23:51,037:EnsembleBuilder(1):271d2dd6fd57a4d8e481183046f58e13] No models better than random - using Dummy Score!\n",
      "[WARNING] [2020-01-05 07:23:53,206:EnsembleBuilder(1):271d2dd6fd57a4d8e481183046f58e13] No models better than random - using Dummy Score!\n",
      "[WARNING] [2020-01-05 07:23:55,378:EnsembleBuilder(1):271d2dd6fd57a4d8e481183046f58e13] No models better than random - using Dummy Score!\n",
      "[WARNING] [2020-01-05 07:23:57,547:EnsembleBuilder(1):271d2dd6fd57a4d8e481183046f58e13] No models better than random - using Dummy Score!\n",
      "[WARNING] [2020-01-05 07:23:59,728:EnsembleBuilder(1):271d2dd6fd57a4d8e481183046f58e13] No models better than random - using Dummy Score!\n",
      "[WARNING] [2020-01-05 07:24:01,898:EnsembleBuilder(1):271d2dd6fd57a4d8e481183046f58e13] No models better than random - using Dummy Score!\n",
      "[WARNING] [2020-01-05 07:24:04,079:EnsembleBuilder(1):271d2dd6fd57a4d8e481183046f58e13] No models better than random - using Dummy Score!\n",
      "[WARNING] [2020-01-05 07:24:06,246:EnsembleBuilder(1):271d2dd6fd57a4d8e481183046f58e13] No models better than random - using Dummy Score!\n",
      "[WARNING] [2020-01-05 07:24:08,415:EnsembleBuilder(1):271d2dd6fd57a4d8e481183046f58e13] No models better than random - using Dummy Score!\n",
      "[WARNING] [2020-01-05 07:24:10,584:EnsembleBuilder(1):271d2dd6fd57a4d8e481183046f58e13] No models better than random - using Dummy Score!\n",
      "[WARNING] [2020-01-05 07:24:12,795:EnsembleBuilder(1):271d2dd6fd57a4d8e481183046f58e13] No models better than random - using Dummy Score!\n",
      "[WARNING] [2020-01-05 07:24:14,972:EnsembleBuilder(1):271d2dd6fd57a4d8e481183046f58e13] No models better than random - using Dummy Score!\n",
      "[WARNING] [2020-01-05 07:24:17,142:EnsembleBuilder(1):271d2dd6fd57a4d8e481183046f58e13] No models better than random - using Dummy Score!\n",
      "[WARNING] [2020-01-05 07:24:19,335:EnsembleBuilder(1):271d2dd6fd57a4d8e481183046f58e13] No models better than random - using Dummy Score!\n",
      "[WARNING] [2020-01-05 07:24:21,521:EnsembleBuilder(1):271d2dd6fd57a4d8e481183046f58e13] No models better than random - using Dummy Score!\n",
      "[WARNING] [2020-01-05 07:24:23,691:EnsembleBuilder(1):271d2dd6fd57a4d8e481183046f58e13] No models better than random - using Dummy Score!\n",
      "[WARNING] [2020-01-05 07:24:25,864:EnsembleBuilder(1):271d2dd6fd57a4d8e481183046f58e13] No models better than random - using Dummy Score!\n",
      "[WARNING] [2020-01-05 07:24:28,031:EnsembleBuilder(1):271d2dd6fd57a4d8e481183046f58e13] No models better than random - using Dummy Score!\n",
      "[WARNING] [2020-01-05 07:24:30,200:EnsembleBuilder(1):271d2dd6fd57a4d8e481183046f58e13] No models better than random - using Dummy Score!\n",
      "[WARNING] [2020-01-05 07:24:32,369:EnsembleBuilder(1):271d2dd6fd57a4d8e481183046f58e13] No models better than random - using Dummy Score!\n",
      "[WARNING] [2020-01-05 07:24:34,540:EnsembleBuilder(1):271d2dd6fd57a4d8e481183046f58e13] No models better than random - using Dummy Score!\n",
      "[WARNING] [2020-01-05 07:24:36,709:EnsembleBuilder(1):271d2dd6fd57a4d8e481183046f58e13] No models better than random - using Dummy Score!\n",
      "[WARNING] [2020-01-05 07:24:38,877:EnsembleBuilder(1):271d2dd6fd57a4d8e481183046f58e13] No models better than random - using Dummy Score!\n"
     ]
    }
   ],
   "source": [
    "import autosklearn.classification\n",
    "t1 = datetime.datetime.now()\n",
    "automl = autosklearn.classification.AutoSklearnClassifier(time_left_for_this_task=1800, \n",
    "                                                          ensemble_size= 1,\n",
    "                                                          include_preprocessors=[\"no_preprocessing\"],\n",
    "                                                          ensemble_memory_limit=45000, \n",
    "                                                          seed=1, \n",
    "                                                          ml_memory_limit=45000)\n",
    "automl.fit(X_train, Y_train)\n",
    "y_hat = automl.predict(X_test)\n",
    "t2 = datetime.datetime.now()\n",
    "print(\"Time:\" + str((t2 - t1).total_seconds()))\n",
    "print(\"Accuracy score\", accuracy_score(Y_test, y_hat))\n"
   ]
  },
  {
   "cell_type": "code",
   "execution_count": null,
   "metadata": {},
   "outputs": [],
   "source": [
    "accuracy_score(Y_test, y_hat)"
   ]
  },
  {
   "cell_type": "code",
   "execution_count": null,
   "metadata": {},
   "outputs": [],
   "source": [
    "automl.sprint_statistics()"
   ]
  },
  {
   "cell_type": "code",
   "execution_count": null,
   "metadata": {},
   "outputs": [],
   "source": []
  }
 ],
 "metadata": {
  "kernelspec": {
   "display_name": "Python 3.5",
   "language": "python",
   "name": "python3"
  },
  "language_info": {
   "codemirror_mode": {
    "name": "ipython",
    "version": 3
   },
   "file_extension": ".py",
   "mimetype": "text/x-python",
   "name": "python",
   "nbconvert_exporter": "python",
   "pygments_lexer": "ipython3",
   "version": "3.5.6"
  }
 },
 "nbformat": 4,
 "nbformat_minor": 2
}
