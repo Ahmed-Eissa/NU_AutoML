{
 "cells": [
  {
   "cell_type": "code",
   "execution_count": 1,
   "metadata": {},
   "outputs": [
    {
     "name": "stdout",
     "output_type": "stream",
     "text": [
      "The scikit-learn version is 0.19.2.\n",
      "The Auto scikit-learn version is 0.5.2.\n"
     ]
    },
    {
     "name": "stderr",
     "output_type": "stream",
     "text": [
      "/anaconda/envs/py35/lib/python3.5/site-packages/sklearn/ensemble/weight_boosting.py:29: DeprecationWarning: numpy.core.umath_tests is an internal NumPy module and should not be imported. It will be removed in a future NumPy release.\n",
      "  from numpy.core.umath_tests import inner1d\n"
     ]
    }
   ],
   "source": [
    "#import needed package\n",
    "#---------------------------------------------------------\n",
    "import pandas as pd\n",
    "import numpy as np\n",
    "import sklearn\n",
    "import autosklearn\n",
    "from sklearn import preprocessing\n",
    "from sklearn.preprocessing import LabelEncoder \n",
    "from sklearn.metrics import accuracy_score\n",
    "import datetime\n",
    "print('The scikit-learn version is {}.'.format(sklearn.__version__))\n",
    "import autosklearn.classification\n",
    "print('The Auto scikit-learn version is {}.'.format(autosklearn.__version__))"
   ]
  },
  {
   "cell_type": "code",
   "execution_count": 2,
   "metadata": {},
   "outputs": [],
   "source": [
    "\n",
    "#Load Data from CSV\n",
    "#--------------------------------------------------------\n",
    "filepath = '/data/home/eissa/Downloads/datasets_20-HT_Sensor_dataset.csv'\n",
    "rawdata = pd.read_csv( filepath ,  sep=','  ,  low_memory=False )\n",
    "\n",
    "#label = 'Label'\n",
    "#rawdata.shape"
   ]
  },
  {
   "cell_type": "code",
   "execution_count": 3,
   "metadata": {},
   "outputs": [],
   "source": [
    "# set columns\n",
    "#----------------------------------------------------------------\n",
    "Columns = ['label' , 'c1' , 'c2' , 'c3' , 'c4' , 'c5' , 'c6' ,\\\n",
    "           'c7' , 'c8' , 'c9' , 'c10' , 'c11' ]       \n",
    "rawdata.columns = Columns\n",
    "\n",
    "label = 'label'"
   ]
  },
  {
   "cell_type": "code",
   "execution_count": 4,
   "metadata": {},
   "outputs": [],
   "source": [
    "\n",
    "rawdata[[label]] = rawdata[[label]].astype(int)"
   ]
  },
  {
   "cell_type": "code",
   "execution_count": 5,
   "metadata": {},
   "outputs": [],
   "source": [
    "# split data into Testing and training\n",
    "# ---------------------------------------------------------------------------------------------------------------------\n",
    "np.random.seed(1234)\n",
    "msk = np.random.rand(len(rawdata)) < 0.8\n",
    "training_data = rawdata[msk]\n",
    "Testing_data = rawdata[~msk]\n",
    "\n",
    "X_train = training_data.loc[:, training_data.columns != label]\n",
    "Y_train = training_data.loc[:, training_data.columns == label]\n",
    "\n",
    "X_test = Testing_data.loc[:, Testing_data.columns != label]\n",
    "Y_test = Testing_data.loc[:, Testing_data.columns == label]"
   ]
  },
  {
   "cell_type": "code",
   "execution_count": 8,
   "metadata": {},
   "outputs": [
    {
     "name": "stderr",
     "output_type": "stream",
     "text": [
      "/anaconda/envs/py35/lib/python3.5/site-packages/autosklearn/automl.py:887: DataConversionWarning: A column-vector y was passed when a 1d array was expected. Will change shape via np.ravel().\n",
      "  y = self._check_y(y)\n",
      "/anaconda/envs/py35/lib/python3.5/site-packages/autosklearn/evaluation/train_evaluator.py:197: RuntimeWarning: Mean of empty slice\n",
      "  Y_train_pred = np.nanmean(Y_train_pred_full, axis=0)\n"
     ]
    },
    {
     "name": "stdout",
     "output_type": "stream",
     "text": [
      "Time limit for a single run is higher than total time limit. Capping the limit for a single run to the total time given to SMAC (94.483938)\n",
      "[WARNING] [2020-01-07 12:48:23,034:EnsembleBuilder(1):271d2dd6fd57a4d8e481183046f58e13] No models better than random - using Dummy Score!\n",
      "[WARNING] [2020-01-07 12:48:23,554:EnsembleBuilder(1):271d2dd6fd57a4d8e481183046f58e13] No models better than random - using Dummy Score!\n",
      "[WARNING] [2020-01-07 12:48:25,768:EnsembleBuilder(1):271d2dd6fd57a4d8e481183046f58e13] No models better than random - using Dummy Score!\n",
      "[WARNING] [2020-01-07 12:48:27,983:EnsembleBuilder(1):271d2dd6fd57a4d8e481183046f58e13] No models better than random - using Dummy Score!\n",
      "[WARNING] [2020-01-07 12:48:30,197:EnsembleBuilder(1):271d2dd6fd57a4d8e481183046f58e13] No models better than random - using Dummy Score!\n",
      "[WARNING] [2020-01-07 12:48:32,409:EnsembleBuilder(1):271d2dd6fd57a4d8e481183046f58e13] No models better than random - using Dummy Score!\n",
      "[WARNING] [2020-01-07 12:48:34,626:EnsembleBuilder(1):271d2dd6fd57a4d8e481183046f58e13] No models better than random - using Dummy Score!\n",
      "[WARNING] [2020-01-07 12:48:36,848:EnsembleBuilder(1):271d2dd6fd57a4d8e481183046f58e13] No models better than random - using Dummy Score!\n",
      "[WARNING] [2020-01-07 12:48:39,060:EnsembleBuilder(1):271d2dd6fd57a4d8e481183046f58e13] No models better than random - using Dummy Score!\n",
      "[WARNING] [2020-01-07 12:48:41,281:EnsembleBuilder(1):271d2dd6fd57a4d8e481183046f58e13] No models better than random - using Dummy Score!\n",
      "[WARNING] [2020-01-07 12:48:43,495:EnsembleBuilder(1):271d2dd6fd57a4d8e481183046f58e13] No models better than random - using Dummy Score!\n",
      "[WARNING] [2020-01-07 12:48:45,710:EnsembleBuilder(1):271d2dd6fd57a4d8e481183046f58e13] No models better than random - using Dummy Score!\n",
      "[WARNING] [2020-01-07 12:48:47,925:EnsembleBuilder(1):271d2dd6fd57a4d8e481183046f58e13] No models better than random - using Dummy Score!\n",
      "[WARNING] [2020-01-07 12:48:50,137:EnsembleBuilder(1):271d2dd6fd57a4d8e481183046f58e13] No models better than random - using Dummy Score!\n",
      "[WARNING] [2020-01-07 12:48:52,353:EnsembleBuilder(1):271d2dd6fd57a4d8e481183046f58e13] No models better than random - using Dummy Score!\n",
      "[WARNING] [2020-01-07 12:48:54,567:EnsembleBuilder(1):271d2dd6fd57a4d8e481183046f58e13] No models better than random - using Dummy Score!\n",
      "[WARNING] [2020-01-07 12:48:56,786:EnsembleBuilder(1):271d2dd6fd57a4d8e481183046f58e13] No models better than random - using Dummy Score!\n",
      "[WARNING] [2020-01-07 12:48:59,006:EnsembleBuilder(1):271d2dd6fd57a4d8e481183046f58e13] No models better than random - using Dummy Score!\n",
      "[WARNING] [2020-01-07 12:49:01,218:EnsembleBuilder(1):271d2dd6fd57a4d8e481183046f58e13] No models better than random - using Dummy Score!\n",
      "[WARNING] [2020-01-07 12:49:03,428:EnsembleBuilder(1):271d2dd6fd57a4d8e481183046f58e13] No models better than random - using Dummy Score!\n",
      "[WARNING] [2020-01-07 12:49:05,637:EnsembleBuilder(1):271d2dd6fd57a4d8e481183046f58e13] No models better than random - using Dummy Score!\n",
      "[WARNING] [2020-01-07 12:49:07,852:EnsembleBuilder(1):271d2dd6fd57a4d8e481183046f58e13] No models better than random - using Dummy Score!\n",
      "[WARNING] [2020-01-07 12:49:10,059:EnsembleBuilder(1):271d2dd6fd57a4d8e481183046f58e13] No models better than random - using Dummy Score!\n",
      "[WARNING] [2020-01-07 12:49:12,270:EnsembleBuilder(1):271d2dd6fd57a4d8e481183046f58e13] No models better than random - using Dummy Score!\n",
      "[WARNING] [2020-01-07 12:49:14,485:EnsembleBuilder(1):271d2dd6fd57a4d8e481183046f58e13] No models better than random - using Dummy Score!\n",
      "[WARNING] [2020-01-07 12:49:16,725:EnsembleBuilder(1):271d2dd6fd57a4d8e481183046f58e13] No models better than random - using Dummy Score!\n",
      "[WARNING] [2020-01-07 12:49:18,947:EnsembleBuilder(1):271d2dd6fd57a4d8e481183046f58e13] No models better than random - using Dummy Score!\n",
      "[WARNING] [2020-01-07 12:49:21,161:EnsembleBuilder(1):271d2dd6fd57a4d8e481183046f58e13] No models better than random - using Dummy Score!\n",
      "[WARNING] [2020-01-07 12:49:23,373:EnsembleBuilder(1):271d2dd6fd57a4d8e481183046f58e13] No models better than random - using Dummy Score!\n",
      "[WARNING] [2020-01-07 12:49:25,593:EnsembleBuilder(1):271d2dd6fd57a4d8e481183046f58e13] No models better than random - using Dummy Score!\n",
      "[WARNING] [2020-01-07 12:49:27,813:EnsembleBuilder(1):271d2dd6fd57a4d8e481183046f58e13] No models better than random - using Dummy Score!\n",
      "[WARNING] [2020-01-07 12:49:30,026:EnsembleBuilder(1):271d2dd6fd57a4d8e481183046f58e13] No models better than random - using Dummy Score!\n",
      "[WARNING] [2020-01-07 12:49:32,244:EnsembleBuilder(1):271d2dd6fd57a4d8e481183046f58e13] No models better than random - using Dummy Score!\n",
      "[WARNING] [2020-01-07 12:49:34,463:EnsembleBuilder(1):271d2dd6fd57a4d8e481183046f58e13] No models better than random - using Dummy Score!\n",
      "[WARNING] [2020-01-07 12:49:36,676:EnsembleBuilder(1):271d2dd6fd57a4d8e481183046f58e13] No models better than random - using Dummy Score!\n",
      "[WARNING] [2020-01-07 12:49:38,893:EnsembleBuilder(1):271d2dd6fd57a4d8e481183046f58e13] No models better than random - using Dummy Score!\n",
      "[WARNING] [2020-01-07 12:49:41,108:EnsembleBuilder(1):271d2dd6fd57a4d8e481183046f58e13] No models better than random - using Dummy Score!\n",
      "[WARNING] [2020-01-07 12:49:43,326:EnsembleBuilder(1):271d2dd6fd57a4d8e481183046f58e13] No models better than random - using Dummy Score!\n",
      "[WARNING] [2020-01-07 12:49:45,537:EnsembleBuilder(1):271d2dd6fd57a4d8e481183046f58e13] No models better than random - using Dummy Score!\n",
      "[WARNING] [2020-01-07 12:49:47,757:EnsembleBuilder(1):271d2dd6fd57a4d8e481183046f58e13] No models better than random - using Dummy Score!\n",
      "[WARNING] [2020-01-07 12:49:49,967:EnsembleBuilder(1):271d2dd6fd57a4d8e481183046f58e13] No models better than random - using Dummy Score!\n",
      "1\n",
      "['/tmp/autosklearn_tmp_48742_8166/.auto-sklearn/ensembles/1.0000000000.ensemble']\n",
      "Time:95.325725\n",
      "Accuracy score 0.013718986905582356\n"
     ]
    }
   ],
   "source": [
    "import autosklearn.classification\n",
    "t1 = datetime.datetime.now()\n",
    "automl = autosklearn.classification.AutoSklearnClassifier(time_left_for_this_task=100, \n",
    "                                                          ensemble_size= 1,\n",
    "                                                          include_preprocessors=[\"no_preprocessing\"],\n",
    "                                                          ensemble_memory_limit=45000, \n",
    "                                                          seed=1, \n",
    "                                                          ml_memory_limit=45000)\n",
    "automl.fit(X_train, Y_train)\n",
    "y_hat = automl.predict(X_test)\n",
    "t2 = datetime.datetime.now()\n",
    "print(\"Time:\" + str((t2 - t1).total_seconds()))\n",
    "print(\"Accuracy score\", accuracy_score(Y_test, y_hat))\n"
   ]
  },
  {
   "cell_type": "code",
   "execution_count": null,
   "metadata": {},
   "outputs": [],
   "source": [
    "accuracy_score(Y_test, y_hat)"
   ]
  },
  {
   "cell_type": "code",
   "execution_count": null,
   "metadata": {},
   "outputs": [],
   "source": [
    "automl.sprint_statistics()"
   ]
  },
  {
   "cell_type": "code",
   "execution_count": null,
   "metadata": {},
   "outputs": [],
   "source": []
  }
 ],
 "metadata": {
  "kernelspec": {
   "display_name": "Python 3.5",
   "language": "python",
   "name": "python3"
  },
  "language_info": {
   "codemirror_mode": {
    "name": "ipython",
    "version": 3
   },
   "file_extension": ".py",
   "mimetype": "text/x-python",
   "name": "python",
   "nbconvert_exporter": "python",
   "pygments_lexer": "ipython3",
   "version": "3.5.6"
  }
 },
 "nbformat": 4,
 "nbformat_minor": 2
}
