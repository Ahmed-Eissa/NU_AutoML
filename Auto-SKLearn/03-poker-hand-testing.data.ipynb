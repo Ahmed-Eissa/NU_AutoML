{
 "cells": [
  {
   "cell_type": "code",
   "execution_count": 1,
   "metadata": {},
   "outputs": [
    {
     "name": "stdout",
     "output_type": "stream",
     "text": [
      "The scikit-learn version is 0.19.2.\n",
      "The Auto scikit-learn version is 0.5.2.\n"
     ]
    },
    {
     "name": "stderr",
     "output_type": "stream",
     "text": [
      "/anaconda/envs/py35/lib/python3.5/site-packages/sklearn/ensemble/weight_boosting.py:29: DeprecationWarning: numpy.core.umath_tests is an internal NumPy module and should not be imported. It will be removed in a future NumPy release.\n",
      "  from numpy.core.umath_tests import inner1d\n"
     ]
    }
   ],
   "source": [
    "#import needed package\n",
    "#---------------------------------------------------------\n",
    "import pandas as pd\n",
    "import numpy as np\n",
    "import sklearn\n",
    "import autosklearn\n",
    "from sklearn import preprocessing\n",
    "from sklearn.preprocessing import LabelEncoder \n",
    "from sklearn.metrics import accuracy_score\n",
    "import datetime\n",
    "print('The scikit-learn version is {}.'.format(sklearn.__version__))\n",
    "import autosklearn.classification\n",
    "print('The Auto scikit-learn version is {}.'.format(autosklearn.__version__))"
   ]
  },
  {
   "cell_type": "code",
   "execution_count": 2,
   "metadata": {},
   "outputs": [
    {
     "data": {
      "text/plain": [
       "(999999, 11)"
      ]
     },
     "execution_count": 2,
     "metadata": {},
     "output_type": "execute_result"
    }
   ],
   "source": [
    "\n",
    "#Load Data from CSV\n",
    "#--------------------------------------------------------\n",
    "filepath = '/data/home/eissa/Downloads/datasets_03-poker-hand-testing.data'\n",
    "rawdata = pd.read_csv( filepath ,  sep=','  ,  low_memory=False )\n",
    "\n",
    "label = 'label'\n",
    "rawdata.shape"
   ]
  },
  {
   "cell_type": "code",
   "execution_count": 3,
   "metadata": {},
   "outputs": [
    {
     "data": {
      "text/html": [
       "<div>\n",
       "<style scoped>\n",
       "    .dataframe tbody tr th:only-of-type {\n",
       "        vertical-align: middle;\n",
       "    }\n",
       "\n",
       "    .dataframe tbody tr th {\n",
       "        vertical-align: top;\n",
       "    }\n",
       "\n",
       "    .dataframe thead th {\n",
       "        text-align: right;\n",
       "    }\n",
       "</style>\n",
       "<table border=\"1\" class=\"dataframe\">\n",
       "  <thead>\n",
       "    <tr style=\"text-align: right;\">\n",
       "      <th></th>\n",
       "      <th>1</th>\n",
       "      <th>1.1</th>\n",
       "      <th>1.2</th>\n",
       "      <th>13</th>\n",
       "      <th>2</th>\n",
       "      <th>4</th>\n",
       "      <th>2.1</th>\n",
       "      <th>3</th>\n",
       "      <th>1.3</th>\n",
       "      <th>12</th>\n",
       "      <th>0</th>\n",
       "    </tr>\n",
       "  </thead>\n",
       "  <tbody>\n",
       "    <tr>\n",
       "      <th>0</th>\n",
       "      <td>3</td>\n",
       "      <td>12</td>\n",
       "      <td>3</td>\n",
       "      <td>2</td>\n",
       "      <td>3</td>\n",
       "      <td>11</td>\n",
       "      <td>4</td>\n",
       "      <td>5</td>\n",
       "      <td>2</td>\n",
       "      <td>5</td>\n",
       "      <td>1</td>\n",
       "    </tr>\n",
       "    <tr>\n",
       "      <th>1</th>\n",
       "      <td>1</td>\n",
       "      <td>9</td>\n",
       "      <td>4</td>\n",
       "      <td>6</td>\n",
       "      <td>1</td>\n",
       "      <td>4</td>\n",
       "      <td>3</td>\n",
       "      <td>2</td>\n",
       "      <td>3</td>\n",
       "      <td>9</td>\n",
       "      <td>1</td>\n",
       "    </tr>\n",
       "    <tr>\n",
       "      <th>2</th>\n",
       "      <td>1</td>\n",
       "      <td>4</td>\n",
       "      <td>3</td>\n",
       "      <td>13</td>\n",
       "      <td>2</td>\n",
       "      <td>13</td>\n",
       "      <td>2</td>\n",
       "      <td>1</td>\n",
       "      <td>3</td>\n",
       "      <td>6</td>\n",
       "      <td>1</td>\n",
       "    </tr>\n",
       "    <tr>\n",
       "      <th>3</th>\n",
       "      <td>3</td>\n",
       "      <td>10</td>\n",
       "      <td>2</td>\n",
       "      <td>7</td>\n",
       "      <td>1</td>\n",
       "      <td>2</td>\n",
       "      <td>2</td>\n",
       "      <td>11</td>\n",
       "      <td>4</td>\n",
       "      <td>9</td>\n",
       "      <td>0</td>\n",
       "    </tr>\n",
       "    <tr>\n",
       "      <th>4</th>\n",
       "      <td>1</td>\n",
       "      <td>3</td>\n",
       "      <td>4</td>\n",
       "      <td>5</td>\n",
       "      <td>3</td>\n",
       "      <td>4</td>\n",
       "      <td>1</td>\n",
       "      <td>12</td>\n",
       "      <td>4</td>\n",
       "      <td>6</td>\n",
       "      <td>0</td>\n",
       "    </tr>\n",
       "  </tbody>\n",
       "</table>\n",
       "</div>"
      ],
      "text/plain": [
       "   1  1.1  1.2  13  2   4  2.1   3  1.3  12  0\n",
       "0  3   12    3   2  3  11    4   5    2   5  1\n",
       "1  1    9    4   6  1   4    3   2    3   9  1\n",
       "2  1    4    3  13  2  13    2   1    3   6  1\n",
       "3  3   10    2   7  1   2    2  11    4   9  0\n",
       "4  1    3    4   5  3   4    1  12    4   6  0"
      ]
     },
     "execution_count": 3,
     "metadata": {},
     "output_type": "execute_result"
    }
   ],
   "source": [
    "rawdata.head(5)"
   ]
  },
  {
   "cell_type": "code",
   "execution_count": 4,
   "metadata": {},
   "outputs": [],
   "source": [
    "# set columns\n",
    "#----------------------------------------------------------------\n",
    "Columns = [ 'c1' , 'c2' , 'c3' , 'c4' , 'c5' , 'c6' ,\\\n",
    "           'c7' , 'c8' , 'c9' , 'c10' , 'label'  ]\n",
    "label = 'label'       \n",
    "rawdata.columns = Columns"
   ]
  },
  {
   "cell_type": "code",
   "execution_count": 5,
   "metadata": {},
   "outputs": [],
   "source": [
    "rawdata[[label]] = rawdata[[label]].astype(int)"
   ]
  },
  {
   "cell_type": "code",
   "execution_count": 6,
   "metadata": {},
   "outputs": [],
   "source": [
    "# split data into Testing and training\n",
    "# ---------------------------------------------------------------------------------------------------------------------\n",
    "np.random.seed(1234)\n",
    "msk = np.random.rand(len(rawdata)) < 0.8\n",
    "training_data = rawdata[msk]\n",
    "Testing_data = rawdata[~msk]\n",
    "\n",
    "X_train = training_data.loc[:, training_data.columns != label]\n",
    "Y_train = training_data.loc[:, training_data.columns == label]\n",
    "\n",
    "X_test = Testing_data.loc[:, Testing_data.columns != label]\n",
    "Y_test = Testing_data.loc[:, Testing_data.columns == label]"
   ]
  },
  {
   "cell_type": "code",
   "execution_count": 9,
   "metadata": {},
   "outputs": [
    {
     "name": "stderr",
     "output_type": "stream",
     "text": [
      "/anaconda/envs/py35/lib/python3.5/site-packages/autosklearn/automl.py:887: DataConversionWarning: A column-vector y was passed when a 1d array was expected. Will change shape via np.ravel().\n",
      "  y = self._check_y(y)\n",
      "/anaconda/envs/py35/lib/python3.5/site-packages/autosklearn/evaluation/train_evaluator.py:197: RuntimeWarning: Mean of empty slice\n",
      "  Y_train_pred = np.nanmean(Y_train_pred_full, axis=0)\n"
     ]
    },
    {
     "name": "stdout",
     "output_type": "stream",
     "text": [
      "[WARNING] [2020-01-07 12:00:42,404:EnsembleBuilder(1):696b67931d9035ea5c59e2b27ff87de1] No models better than random - using Dummy Score!\n",
      "Time limit for a single run is higher than total time limit. Capping the limit for a single run to the total time given to SMAC (97.194050)\n",
      "[WARNING] [2020-01-07 12:00:42,518:EnsembleBuilder(1):696b67931d9035ea5c59e2b27ff87de1] No models better than random - using Dummy Score!\n",
      "[WARNING] [2020-01-07 12:00:44,544:EnsembleBuilder(1):696b67931d9035ea5c59e2b27ff87de1] No models better than random - using Dummy Score!\n",
      "[WARNING] [2020-01-07 12:00:46,568:EnsembleBuilder(1):696b67931d9035ea5c59e2b27ff87de1] No models better than random - using Dummy Score!\n",
      "[WARNING] [2020-01-07 12:00:48,593:EnsembleBuilder(1):696b67931d9035ea5c59e2b27ff87de1] No models better than random - using Dummy Score!\n",
      "[WARNING] [2020-01-07 12:00:50,616:EnsembleBuilder(1):696b67931d9035ea5c59e2b27ff87de1] No models better than random - using Dummy Score!\n",
      "[WARNING] [2020-01-07 12:00:52,641:EnsembleBuilder(1):696b67931d9035ea5c59e2b27ff87de1] No models better than random - using Dummy Score!\n",
      "[WARNING] [2020-01-07 12:00:54,665:EnsembleBuilder(1):696b67931d9035ea5c59e2b27ff87de1] No models better than random - using Dummy Score!\n",
      "[WARNING] [2020-01-07 12:00:56,689:EnsembleBuilder(1):696b67931d9035ea5c59e2b27ff87de1] No models better than random - using Dummy Score!\n",
      "[WARNING] [2020-01-07 12:00:58,713:EnsembleBuilder(1):696b67931d9035ea5c59e2b27ff87de1] No models better than random - using Dummy Score!\n",
      "[WARNING] [2020-01-07 12:01:00,738:EnsembleBuilder(1):696b67931d9035ea5c59e2b27ff87de1] No models better than random - using Dummy Score!\n",
      "[WARNING] [2020-01-07 12:01:02,761:EnsembleBuilder(1):696b67931d9035ea5c59e2b27ff87de1] No models better than random - using Dummy Score!\n",
      "[WARNING] [2020-01-07 12:01:04,785:EnsembleBuilder(1):696b67931d9035ea5c59e2b27ff87de1] No models better than random - using Dummy Score!\n",
      "[WARNING] [2020-01-07 12:01:06,811:EnsembleBuilder(1):696b67931d9035ea5c59e2b27ff87de1] No models better than random - using Dummy Score!\n",
      "[WARNING] [2020-01-07 12:01:08,835:EnsembleBuilder(1):696b67931d9035ea5c59e2b27ff87de1] No models better than random - using Dummy Score!\n",
      "[WARNING] [2020-01-07 12:01:10,869:EnsembleBuilder(1):696b67931d9035ea5c59e2b27ff87de1] No models better than random - using Dummy Score!\n",
      "[WARNING] [2020-01-07 12:01:12,895:EnsembleBuilder(1):696b67931d9035ea5c59e2b27ff87de1] No models better than random - using Dummy Score!\n",
      "[WARNING] [2020-01-07 12:01:14,920:EnsembleBuilder(1):696b67931d9035ea5c59e2b27ff87de1] No models better than random - using Dummy Score!\n",
      "[WARNING] [2020-01-07 12:01:16,944:EnsembleBuilder(1):696b67931d9035ea5c59e2b27ff87de1] No models better than random - using Dummy Score!\n",
      "[WARNING] [2020-01-07 12:01:18,968:EnsembleBuilder(1):696b67931d9035ea5c59e2b27ff87de1] No models better than random - using Dummy Score!\n",
      "[WARNING] [2020-01-07 12:01:20,996:EnsembleBuilder(1):696b67931d9035ea5c59e2b27ff87de1] No models better than random - using Dummy Score!\n",
      "[WARNING] [2020-01-07 12:01:23,021:EnsembleBuilder(1):696b67931d9035ea5c59e2b27ff87de1] No models better than random - using Dummy Score!\n",
      "[WARNING] [2020-01-07 12:01:25,045:EnsembleBuilder(1):696b67931d9035ea5c59e2b27ff87de1] No models better than random - using Dummy Score!\n",
      "[WARNING] [2020-01-07 12:01:27,069:EnsembleBuilder(1):696b67931d9035ea5c59e2b27ff87de1] No models better than random - using Dummy Score!\n",
      "[WARNING] [2020-01-07 12:01:29,097:EnsembleBuilder(1):696b67931d9035ea5c59e2b27ff87de1] No models better than random - using Dummy Score!\n",
      "[WARNING] [2020-01-07 12:01:31,120:EnsembleBuilder(1):696b67931d9035ea5c59e2b27ff87de1] No models better than random - using Dummy Score!\n",
      "[WARNING] [2020-01-07 12:01:33,144:EnsembleBuilder(1):696b67931d9035ea5c59e2b27ff87de1] No models better than random - using Dummy Score!\n",
      "[WARNING] [2020-01-07 12:01:35,169:EnsembleBuilder(1):696b67931d9035ea5c59e2b27ff87de1] No models better than random - using Dummy Score!\n",
      "[WARNING] [2020-01-07 12:01:37,193:EnsembleBuilder(1):696b67931d9035ea5c59e2b27ff87de1] No models better than random - using Dummy Score!\n",
      "[WARNING] [2020-01-07 12:01:39,217:EnsembleBuilder(1):696b67931d9035ea5c59e2b27ff87de1] No models better than random - using Dummy Score!\n",
      "[WARNING] [2020-01-07 12:01:41,241:EnsembleBuilder(1):696b67931d9035ea5c59e2b27ff87de1] No models better than random - using Dummy Score!\n",
      "[WARNING] [2020-01-07 12:01:43,265:EnsembleBuilder(1):696b67931d9035ea5c59e2b27ff87de1] No models better than random - using Dummy Score!\n",
      "[WARNING] [2020-01-07 12:01:45,290:EnsembleBuilder(1):696b67931d9035ea5c59e2b27ff87de1] No models better than random - using Dummy Score!\n",
      "[WARNING] [2020-01-07 12:01:47,313:EnsembleBuilder(1):696b67931d9035ea5c59e2b27ff87de1] No models better than random - using Dummy Score!\n",
      "[WARNING] [2020-01-07 12:01:49,338:EnsembleBuilder(1):696b67931d9035ea5c59e2b27ff87de1] No models better than random - using Dummy Score!\n",
      "[WARNING] [2020-01-07 12:01:51,362:EnsembleBuilder(1):696b67931d9035ea5c59e2b27ff87de1] No models better than random - using Dummy Score!\n",
      "[WARNING] [2020-01-07 12:01:53,386:EnsembleBuilder(1):696b67931d9035ea5c59e2b27ff87de1] No models better than random - using Dummy Score!\n",
      "[WARNING] [2020-01-07 12:01:55,411:EnsembleBuilder(1):696b67931d9035ea5c59e2b27ff87de1] No models better than random - using Dummy Score!\n",
      "[WARNING] [2020-01-07 12:01:57,435:EnsembleBuilder(1):696b67931d9035ea5c59e2b27ff87de1] No models better than random - using Dummy Score!\n",
      "[WARNING] [2020-01-07 12:01:59,460:EnsembleBuilder(1):696b67931d9035ea5c59e2b27ff87de1] No models better than random - using Dummy Score!\n",
      "[WARNING] [2020-01-07 12:02:01,483:EnsembleBuilder(1):696b67931d9035ea5c59e2b27ff87de1] No models better than random - using Dummy Score!\n",
      "[WARNING] [2020-01-07 12:02:03,507:EnsembleBuilder(1):696b67931d9035ea5c59e2b27ff87de1] No models better than random - using Dummy Score!\n",
      "[WARNING] [2020-01-07 12:02:05,532:EnsembleBuilder(1):696b67931d9035ea5c59e2b27ff87de1] No models better than random - using Dummy Score!\n",
      "[WARNING] [2020-01-07 12:02:07,555:EnsembleBuilder(1):696b67931d9035ea5c59e2b27ff87de1] No models better than random - using Dummy Score!\n",
      "[WARNING] [2020-01-07 12:02:09,579:EnsembleBuilder(1):696b67931d9035ea5c59e2b27ff87de1] No models better than random - using Dummy Score!\n",
      "[WARNING] [2020-01-07 12:02:11,603:EnsembleBuilder(1):696b67931d9035ea5c59e2b27ff87de1] No models better than random - using Dummy Score!\n",
      "[WARNING] [2020-01-07 12:02:13,626:EnsembleBuilder(1):696b67931d9035ea5c59e2b27ff87de1] No models better than random - using Dummy Score!\n",
      "1\n",
      "['/tmp/autosklearn_tmp_39942_7942/.auto-sklearn/ensembles/1.0000000000.ensemble']\n",
      "Time:95.959944\n",
      "Accuracy score 0.5018128535064338\n"
     ]
    }
   ],
   "source": [
    "import autosklearn.classification\n",
    "#rawdata\n",
    "t1 = datetime.datetime.now()\n",
    "automl = autosklearn.classification.AutoSklearnClassifier(time_left_for_this_task=100, \n",
    "                                                          ensemble_size= 1,\n",
    "                                                          include_preprocessors=[\"no_preprocessing\"],\n",
    "                                                          ensemble_memory_limit=45000, \n",
    "                                                          seed=1, \n",
    "                                                          ml_memory_limit=45000)\n",
    "automl.fit(X_train, Y_train)\n",
    "y_hat = automl.predict(X_test)\n",
    "t2 = datetime.datetime.now()\n",
    "print(\"Time:\" + str((t2 - t1).total_seconds()))\n",
    "print(\"Accuracy score\", accuracy_score(Y_test, y_hat))\n",
    "\n",
    "#automl.cv_results_\n",
    "\n",
    "#automl.sprint_statistics()\n",
    "\n",
    "#automl.show_models()\n"
   ]
  },
  {
   "cell_type": "code",
   "execution_count": null,
   "metadata": {},
   "outputs": [],
   "source": [
    "accuracy_score(Y_test, y_hat)"
   ]
  },
  {
   "cell_type": "code",
   "execution_count": 12,
   "metadata": {},
   "outputs": [
    {
     "data": {
      "text/plain": [
       "'auto-sklearn results:\\n  Dataset name: 696b67931d9035ea5c59e2b27ff87de1\\n  Metric: accuracy\\n  Best validation score: 0.993557\\n  Number of target algorithm runs: 6\\n  Number of successful target algorithm runs: 2\\n  Number of crashed target algorithm runs: 0\\n  Number of target algorithms that exceeded the time limit: 4\\n  Number of target algorithms that exceeded the memory limit: 0\\n'"
      ]
     },
     "execution_count": 12,
     "metadata": {},
     "output_type": "execute_result"
    }
   ],
   "source": [
    "automl.sprint_statistics()"
   ]
  },
  {
   "cell_type": "code",
   "execution_count": null,
   "metadata": {},
   "outputs": [],
   "source": []
  }
 ],
 "metadata": {
  "kernelspec": {
   "display_name": "Python 3.5",
   "language": "python",
   "name": "python3"
  },
  "language_info": {
   "codemirror_mode": {
    "name": "ipython",
    "version": 3
   },
   "file_extension": ".py",
   "mimetype": "text/x-python",
   "name": "python",
   "nbconvert_exporter": "python",
   "pygments_lexer": "ipython3",
   "version": "3.5.6"
  }
 },
 "nbformat": 4,
 "nbformat_minor": 2
}
