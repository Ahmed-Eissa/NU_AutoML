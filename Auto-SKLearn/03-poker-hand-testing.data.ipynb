{
 "cells": [
  {
   "cell_type": "code",
   "execution_count": 1,
   "metadata": {},
   "outputs": [
    {
     "name": "stdout",
     "output_type": "stream",
     "text": [
      "The scikit-learn version is 0.19.2.\n"
     ]
    },
    {
     "name": "stderr",
     "output_type": "stream",
     "text": [
      "/anaconda/envs/py35/lib/python3.5/site-packages/sklearn/ensemble/weight_boosting.py:29: DeprecationWarning: numpy.core.umath_tests is an internal NumPy module and should not be imported. It will be removed in a future NumPy release.\n",
      "  from numpy.core.umath_tests import inner1d\n"
     ]
    },
    {
     "name": "stdout",
     "output_type": "stream",
     "text": [
      "The Auto scikit-learn version is 0.5.2.\n"
     ]
    }
   ],
   "source": [
    "#import needed package\n",
    "#---------------------------------------------------------\n",
    "import pandas as pd\n",
    "import numpy as np\n",
    "import sklearn\n",
    "import autosklearn\n",
    "from sklearn import preprocessing\n",
    "from sklearn.preprocessing import LabelEncoder \n",
    "from sklearn.metrics import accuracy_score\n",
    "import datetime\n",
    "print('The scikit-learn version is {}.'.format(sklearn.__version__))\n",
    "import autosklearn.classification\n",
    "print('The Auto scikit-learn version is {}.'.format(autosklearn.__version__))"
   ]
  },
  {
   "cell_type": "code",
   "execution_count": 3,
   "metadata": {},
   "outputs": [
    {
     "data": {
      "text/plain": [
       "(999999, 11)"
      ]
     },
     "execution_count": 3,
     "metadata": {},
     "output_type": "execute_result"
    }
   ],
   "source": [
    "\n",
    "#Load Data from CSV\n",
    "#--------------------------------------------------------\n",
    "filepath = '/data/home/eissa/Downloads/datasets_03-poker-hand-testing.data'\n",
    "rawdata = pd.read_csv( filepath ,  sep=','  ,  low_memory=False )\n",
    "\n",
    "label = 'label'\n",
    "rawdata.shape"
   ]
  },
  {
   "cell_type": "code",
   "execution_count": 8,
   "metadata": {},
   "outputs": [
    {
     "data": {
      "text/html": [
       "<div>\n",
       "<style scoped>\n",
       "    .dataframe tbody tr th:only-of-type {\n",
       "        vertical-align: middle;\n",
       "    }\n",
       "\n",
       "    .dataframe tbody tr th {\n",
       "        vertical-align: top;\n",
       "    }\n",
       "\n",
       "    .dataframe thead th {\n",
       "        text-align: right;\n",
       "    }\n",
       "</style>\n",
       "<table border=\"1\" class=\"dataframe\">\n",
       "  <thead>\n",
       "    <tr style=\"text-align: right;\">\n",
       "      <th></th>\n",
       "      <th>c1</th>\n",
       "      <th>c2</th>\n",
       "      <th>c3</th>\n",
       "      <th>c4</th>\n",
       "      <th>c5</th>\n",
       "      <th>c6</th>\n",
       "      <th>c7</th>\n",
       "      <th>c8</th>\n",
       "      <th>c9</th>\n",
       "      <th>c10</th>\n",
       "      <th>label</th>\n",
       "    </tr>\n",
       "  </thead>\n",
       "  <tbody>\n",
       "    <tr>\n",
       "      <th>0</th>\n",
       "      <td>3</td>\n",
       "      <td>12</td>\n",
       "      <td>3</td>\n",
       "      <td>2</td>\n",
       "      <td>3</td>\n",
       "      <td>11</td>\n",
       "      <td>4</td>\n",
       "      <td>5</td>\n",
       "      <td>2</td>\n",
       "      <td>5</td>\n",
       "      <td>1</td>\n",
       "    </tr>\n",
       "    <tr>\n",
       "      <th>1</th>\n",
       "      <td>1</td>\n",
       "      <td>9</td>\n",
       "      <td>4</td>\n",
       "      <td>6</td>\n",
       "      <td>1</td>\n",
       "      <td>4</td>\n",
       "      <td>3</td>\n",
       "      <td>2</td>\n",
       "      <td>3</td>\n",
       "      <td>9</td>\n",
       "      <td>1</td>\n",
       "    </tr>\n",
       "    <tr>\n",
       "      <th>2</th>\n",
       "      <td>1</td>\n",
       "      <td>4</td>\n",
       "      <td>3</td>\n",
       "      <td>13</td>\n",
       "      <td>2</td>\n",
       "      <td>13</td>\n",
       "      <td>2</td>\n",
       "      <td>1</td>\n",
       "      <td>3</td>\n",
       "      <td>6</td>\n",
       "      <td>1</td>\n",
       "    </tr>\n",
       "    <tr>\n",
       "      <th>3</th>\n",
       "      <td>3</td>\n",
       "      <td>10</td>\n",
       "      <td>2</td>\n",
       "      <td>7</td>\n",
       "      <td>1</td>\n",
       "      <td>2</td>\n",
       "      <td>2</td>\n",
       "      <td>11</td>\n",
       "      <td>4</td>\n",
       "      <td>9</td>\n",
       "      <td>0</td>\n",
       "    </tr>\n",
       "    <tr>\n",
       "      <th>4</th>\n",
       "      <td>1</td>\n",
       "      <td>3</td>\n",
       "      <td>4</td>\n",
       "      <td>5</td>\n",
       "      <td>3</td>\n",
       "      <td>4</td>\n",
       "      <td>1</td>\n",
       "      <td>12</td>\n",
       "      <td>4</td>\n",
       "      <td>6</td>\n",
       "      <td>0</td>\n",
       "    </tr>\n",
       "  </tbody>\n",
       "</table>\n",
       "</div>"
      ],
      "text/plain": [
       "   c1  c2  c3  c4  c5  c6  c7  c8  c9  c10  label\n",
       "0   3  12   3   2   3  11   4   5   2    5      1\n",
       "1   1   9   4   6   1   4   3   2   3    9      1\n",
       "2   1   4   3  13   2  13   2   1   3    6      1\n",
       "3   3  10   2   7   1   2   2  11   4    9      0\n",
       "4   1   3   4   5   3   4   1  12   4    6      0"
      ]
     },
     "execution_count": 8,
     "metadata": {},
     "output_type": "execute_result"
    }
   ],
   "source": [
    "rawdata.head(5)"
   ]
  },
  {
   "cell_type": "code",
   "execution_count": 7,
   "metadata": {},
   "outputs": [],
   "source": [
    "# set columns\n",
    "#----------------------------------------------------------------\n",
    "Columns = [ 'c1' , 'c2' , 'c3' , 'c4' , 'c5' , 'c6' ,\\\n",
    "           'c7' , 'c8' , 'c9' , 'c10' , 'label'  ]\n",
    "label = 'label'       \n",
    "rawdata.columns = Columns"
   ]
  },
  {
   "cell_type": "code",
   "execution_count": 9,
   "metadata": {},
   "outputs": [],
   "source": [
    "rawdata[[label]] = rawdata[[label]].astype(int)"
   ]
  },
  {
   "cell_type": "code",
   "execution_count": 10,
   "metadata": {},
   "outputs": [],
   "source": [
    "# split data into Testing and training\n",
    "# ---------------------------------------------------------------------------------------------------------------------\n",
    "np.random.seed(1234)\n",
    "msk = np.random.rand(len(rawdata)) < 0.8\n",
    "training_data = rawdata[msk]\n",
    "Testing_data = rawdata[~msk]\n",
    "\n",
    "X_train = training_data.loc[:, training_data.columns != label]\n",
    "Y_train = training_data.loc[:, training_data.columns == label]\n",
    "\n",
    "X_test = Testing_data.loc[:, Testing_data.columns != label]\n",
    "Y_test = Testing_data.loc[:, Testing_data.columns == label]"
   ]
  },
  {
   "cell_type": "code",
   "execution_count": 15,
   "metadata": {},
   "outputs": [
    {
     "name": "stderr",
     "output_type": "stream",
     "text": [
      "/anaconda/envs/py35/lib/python3.5/site-packages/autosklearn/automl.py:887: DataConversionWarning: A column-vector y was passed when a 1d array was expected. Will change shape via np.ravel().\n",
      "  y = self._check_y(y)\n",
      "/anaconda/envs/py35/lib/python3.5/site-packages/autosklearn/evaluation/train_evaluator.py:197: RuntimeWarning: Mean of empty slice\n",
      "  Y_train_pred = np.nanmean(Y_train_pred_full, axis=0)\n"
     ]
    },
    {
     "name": "stdout",
     "output_type": "stream",
     "text": [
      "[WARNING] [2020-01-04 09:36:46,891:EnsembleBuilder(1):696b67931d9035ea5c59e2b27ff87de1] No models better than random - using Dummy Score!\n",
      "[WARNING] [2020-01-04 09:36:47,008:EnsembleBuilder(1):696b67931d9035ea5c59e2b27ff87de1] No models better than random - using Dummy Score!\n",
      "[WARNING] [2020-01-04 09:36:49,032:EnsembleBuilder(1):696b67931d9035ea5c59e2b27ff87de1] No models better than random - using Dummy Score!\n",
      "[WARNING] [2020-01-04 09:36:51,057:EnsembleBuilder(1):696b67931d9035ea5c59e2b27ff87de1] No models better than random - using Dummy Score!\n",
      "[WARNING] [2020-01-04 09:36:53,082:EnsembleBuilder(1):696b67931d9035ea5c59e2b27ff87de1] No models better than random - using Dummy Score!\n",
      "[WARNING] [2020-01-04 09:36:55,106:EnsembleBuilder(1):696b67931d9035ea5c59e2b27ff87de1] No models better than random - using Dummy Score!\n",
      "[WARNING] [2020-01-04 09:36:57,130:EnsembleBuilder(1):696b67931d9035ea5c59e2b27ff87de1] No models better than random - using Dummy Score!\n",
      "[WARNING] [2020-01-04 09:36:59,154:EnsembleBuilder(1):696b67931d9035ea5c59e2b27ff87de1] No models better than random - using Dummy Score!\n",
      "[WARNING] [2020-01-04 09:37:01,179:EnsembleBuilder(1):696b67931d9035ea5c59e2b27ff87de1] No models better than random - using Dummy Score!\n",
      "[WARNING] [2020-01-04 09:37:03,204:EnsembleBuilder(1):696b67931d9035ea5c59e2b27ff87de1] No models better than random - using Dummy Score!\n",
      "[WARNING] [2020-01-04 09:37:05,228:EnsembleBuilder(1):696b67931d9035ea5c59e2b27ff87de1] No models better than random - using Dummy Score!\n",
      "[WARNING] [2020-01-04 09:37:07,252:EnsembleBuilder(1):696b67931d9035ea5c59e2b27ff87de1] No models better than random - using Dummy Score!\n",
      "[WARNING] [2020-01-04 09:37:09,276:EnsembleBuilder(1):696b67931d9035ea5c59e2b27ff87de1] No models better than random - using Dummy Score!\n",
      "[WARNING] [2020-01-04 09:37:11,302:EnsembleBuilder(1):696b67931d9035ea5c59e2b27ff87de1] No models better than random - using Dummy Score!\n",
      "[WARNING] [2020-01-04 09:37:13,326:EnsembleBuilder(1):696b67931d9035ea5c59e2b27ff87de1] No models better than random - using Dummy Score!\n",
      "[WARNING] [2020-01-04 09:37:15,350:EnsembleBuilder(1):696b67931d9035ea5c59e2b27ff87de1] No models better than random - using Dummy Score!\n",
      "[WARNING] [2020-01-04 09:37:17,374:EnsembleBuilder(1):696b67931d9035ea5c59e2b27ff87de1] No models better than random - using Dummy Score!\n",
      "[WARNING] [2020-01-04 09:37:19,399:EnsembleBuilder(1):696b67931d9035ea5c59e2b27ff87de1] No models better than random - using Dummy Score!\n",
      "[WARNING] [2020-01-04 09:37:21,423:EnsembleBuilder(1):696b67931d9035ea5c59e2b27ff87de1] No models better than random - using Dummy Score!\n",
      "[WARNING] [2020-01-04 09:37:23,448:EnsembleBuilder(1):696b67931d9035ea5c59e2b27ff87de1] No models better than random - using Dummy Score!\n",
      "[WARNING] [2020-01-04 09:37:25,472:EnsembleBuilder(1):696b67931d9035ea5c59e2b27ff87de1] No models better than random - using Dummy Score!\n",
      "[WARNING] [2020-01-04 09:37:27,545:EnsembleBuilder(1):696b67931d9035ea5c59e2b27ff87de1] No models better than random - using Dummy Score!\n",
      "[WARNING] [2020-01-04 09:37:29,569:EnsembleBuilder(1):696b67931d9035ea5c59e2b27ff87de1] No models better than random - using Dummy Score!\n",
      "[WARNING] [2020-01-04 09:37:31,593:EnsembleBuilder(1):696b67931d9035ea5c59e2b27ff87de1] No models better than random - using Dummy Score!\n",
      "[WARNING] [2020-01-04 09:37:33,618:EnsembleBuilder(1):696b67931d9035ea5c59e2b27ff87de1] No models better than random - using Dummy Score!\n",
      "[WARNING] [2020-01-04 09:37:35,642:EnsembleBuilder(1):696b67931d9035ea5c59e2b27ff87de1] No models better than random - using Dummy Score!\n",
      "[WARNING] [2020-01-04 09:37:37,667:EnsembleBuilder(1):696b67931d9035ea5c59e2b27ff87de1] No models better than random - using Dummy Score!\n",
      "[WARNING] [2020-01-04 09:37:39,691:EnsembleBuilder(1):696b67931d9035ea5c59e2b27ff87de1] No models better than random - using Dummy Score!\n",
      "[WARNING] [2020-01-04 09:37:41,715:EnsembleBuilder(1):696b67931d9035ea5c59e2b27ff87de1] No models better than random - using Dummy Score!\n",
      "[WARNING] [2020-01-04 09:37:43,739:EnsembleBuilder(1):696b67931d9035ea5c59e2b27ff87de1] No models better than random - using Dummy Score!\n",
      "[WARNING] [2020-01-04 09:37:45,764:EnsembleBuilder(1):696b67931d9035ea5c59e2b27ff87de1] No models better than random - using Dummy Score!\n",
      "[WARNING] [2020-01-04 09:37:47,788:EnsembleBuilder(1):696b67931d9035ea5c59e2b27ff87de1] No models better than random - using Dummy Score!\n",
      "[WARNING] [2020-01-04 09:37:49,812:EnsembleBuilder(1):696b67931d9035ea5c59e2b27ff87de1] No models better than random - using Dummy Score!\n",
      "[WARNING] [2020-01-04 09:37:51,843:EnsembleBuilder(1):696b67931d9035ea5c59e2b27ff87de1] No models better than random - using Dummy Score!\n",
      "[WARNING] [2020-01-04 09:37:53,867:EnsembleBuilder(1):696b67931d9035ea5c59e2b27ff87de1] No models better than random - using Dummy Score!\n",
      "[WARNING] [2020-01-04 09:37:55,892:EnsembleBuilder(1):696b67931d9035ea5c59e2b27ff87de1] No models better than random - using Dummy Score!\n",
      "[WARNING] [2020-01-04 09:37:57,919:EnsembleBuilder(1):696b67931d9035ea5c59e2b27ff87de1] No models better than random - using Dummy Score!\n",
      "[WARNING] [2020-01-04 09:37:59,946:EnsembleBuilder(1):696b67931d9035ea5c59e2b27ff87de1] No models better than random - using Dummy Score!\n",
      "[WARNING] [2020-01-04 09:38:01,972:EnsembleBuilder(1):696b67931d9035ea5c59e2b27ff87de1] No models better than random - using Dummy Score!\n",
      "[WARNING] [2020-01-04 09:38:03,998:EnsembleBuilder(1):696b67931d9035ea5c59e2b27ff87de1] No models better than random - using Dummy Score!\n",
      "[WARNING] [2020-01-04 09:38:06,023:EnsembleBuilder(1):696b67931d9035ea5c59e2b27ff87de1] No models better than random - using Dummy Score!\n",
      "[WARNING] [2020-01-04 09:38:08,048:EnsembleBuilder(1):696b67931d9035ea5c59e2b27ff87de1] No models better than random - using Dummy Score!\n",
      "[WARNING] [2020-01-04 09:38:10,078:EnsembleBuilder(1):696b67931d9035ea5c59e2b27ff87de1] No models better than random - using Dummy Score!\n",
      "[WARNING] [2020-01-04 09:38:12,103:EnsembleBuilder(1):696b67931d9035ea5c59e2b27ff87de1] No models better than random - using Dummy Score!\n",
      "[WARNING] [2020-01-04 09:38:14,127:EnsembleBuilder(1):696b67931d9035ea5c59e2b27ff87de1] No models better than random - using Dummy Score!\n",
      "[WARNING] [2020-01-04 09:38:16,151:EnsembleBuilder(1):696b67931d9035ea5c59e2b27ff87de1] No models better than random - using Dummy Score!\n",
      "[WARNING] [2020-01-04 09:38:18,175:EnsembleBuilder(1):696b67931d9035ea5c59e2b27ff87de1] No models better than random - using Dummy Score!\n",
      "[WARNING] [2020-01-04 09:38:20,199:EnsembleBuilder(1):696b67931d9035ea5c59e2b27ff87de1] No models better than random - using Dummy Score!\n",
      "[WARNING] [2020-01-04 09:38:22,224:EnsembleBuilder(1):696b67931d9035ea5c59e2b27ff87de1] No models better than random - using Dummy Score!\n",
      "[WARNING] [2020-01-04 09:38:24,248:EnsembleBuilder(1):696b67931d9035ea5c59e2b27ff87de1] No models better than random - using Dummy Score!\n",
      "[WARNING] [2020-01-04 09:38:26,273:EnsembleBuilder(1):696b67931d9035ea5c59e2b27ff87de1] No models better than random - using Dummy Score!\n",
      "[WARNING] [2020-01-04 09:38:28,298:EnsembleBuilder(1):696b67931d9035ea5c59e2b27ff87de1] No models better than random - using Dummy Score!\n",
      "[WARNING] [2020-01-04 09:38:30,324:EnsembleBuilder(1):696b67931d9035ea5c59e2b27ff87de1] No models better than random - using Dummy Score!\n",
      "[WARNING] [2020-01-04 09:38:32,348:EnsembleBuilder(1):696b67931d9035ea5c59e2b27ff87de1] No models better than random - using Dummy Score!\n",
      "[WARNING] [2020-01-04 09:38:34,371:EnsembleBuilder(1):696b67931d9035ea5c59e2b27ff87de1] No models better than random - using Dummy Score!\n",
      "[WARNING] [2020-01-04 09:38:36,395:EnsembleBuilder(1):696b67931d9035ea5c59e2b27ff87de1] No models better than random - using Dummy Score!\n",
      "[WARNING] [2020-01-04 09:38:38,419:EnsembleBuilder(1):696b67931d9035ea5c59e2b27ff87de1] No models better than random - using Dummy Score!\n",
      "[WARNING] [2020-01-04 09:38:40,444:EnsembleBuilder(1):696b67931d9035ea5c59e2b27ff87de1] No models better than random - using Dummy Score!\n",
      "[WARNING] [2020-01-04 09:38:42,468:EnsembleBuilder(1):696b67931d9035ea5c59e2b27ff87de1] No models better than random - using Dummy Score!\n",
      "[WARNING] [2020-01-04 09:38:44,494:EnsembleBuilder(1):696b67931d9035ea5c59e2b27ff87de1] No models better than random - using Dummy Score!\n"
     ]
    },
    {
     "name": "stdout",
     "output_type": "stream",
     "text": [
      "[WARNING] [2020-01-04 09:38:46,518:EnsembleBuilder(1):696b67931d9035ea5c59e2b27ff87de1] No models better than random - using Dummy Score!\n",
      "[WARNING] [2020-01-04 09:38:48,543:EnsembleBuilder(1):696b67931d9035ea5c59e2b27ff87de1] No models better than random - using Dummy Score!\n",
      "[WARNING] [2020-01-04 09:38:50,567:EnsembleBuilder(1):696b67931d9035ea5c59e2b27ff87de1] No models better than random - using Dummy Score!\n",
      "[WARNING] [2020-01-04 09:38:52,592:EnsembleBuilder(1):696b67931d9035ea5c59e2b27ff87de1] No models better than random - using Dummy Score!\n",
      "[WARNING] [2020-01-04 09:38:54,616:EnsembleBuilder(1):696b67931d9035ea5c59e2b27ff87de1] No models better than random - using Dummy Score!\n",
      "[WARNING] [2020-01-04 09:38:56,640:EnsembleBuilder(1):696b67931d9035ea5c59e2b27ff87de1] No models better than random - using Dummy Score!\n",
      "[WARNING] [2020-01-04 09:38:58,666:EnsembleBuilder(1):696b67931d9035ea5c59e2b27ff87de1] No models better than random - using Dummy Score!\n",
      "[WARNING] [2020-01-04 09:39:00,690:EnsembleBuilder(1):696b67931d9035ea5c59e2b27ff87de1] No models better than random - using Dummy Score!\n",
      "[WARNING] [2020-01-04 09:39:02,714:EnsembleBuilder(1):696b67931d9035ea5c59e2b27ff87de1] No models better than random - using Dummy Score!\n",
      "[WARNING] [2020-01-04 09:39:04,739:EnsembleBuilder(1):696b67931d9035ea5c59e2b27ff87de1] No models better than random - using Dummy Score!\n",
      "[WARNING] [2020-01-04 09:39:06,763:EnsembleBuilder(1):696b67931d9035ea5c59e2b27ff87de1] No models better than random - using Dummy Score!\n",
      "[WARNING] [2020-01-04 09:39:08,787:EnsembleBuilder(1):696b67931d9035ea5c59e2b27ff87de1] No models better than random - using Dummy Score!\n",
      "[WARNING] [2020-01-04 09:39:10,811:EnsembleBuilder(1):696b67931d9035ea5c59e2b27ff87de1] No models better than random - using Dummy Score!\n",
      "[WARNING] [2020-01-04 09:39:12,836:EnsembleBuilder(1):696b67931d9035ea5c59e2b27ff87de1] No models better than random - using Dummy Score!\n",
      "[WARNING] [2020-01-04 09:39:14,861:EnsembleBuilder(1):696b67931d9035ea5c59e2b27ff87de1] No models better than random - using Dummy Score!\n",
      "[WARNING] [2020-01-04 09:39:16,886:EnsembleBuilder(1):696b67931d9035ea5c59e2b27ff87de1] No models better than random - using Dummy Score!\n",
      "[WARNING] [2020-01-04 09:39:18,910:EnsembleBuilder(1):696b67931d9035ea5c59e2b27ff87de1] No models better than random - using Dummy Score!\n",
      "[WARNING] [2020-01-04 09:39:20,935:EnsembleBuilder(1):696b67931d9035ea5c59e2b27ff87de1] No models better than random - using Dummy Score!\n",
      "[WARNING] [2020-01-04 09:39:22,959:EnsembleBuilder(1):696b67931d9035ea5c59e2b27ff87de1] No models better than random - using Dummy Score!\n",
      "[WARNING] [2020-01-04 09:39:24,982:EnsembleBuilder(1):696b67931d9035ea5c59e2b27ff87de1] No models better than random - using Dummy Score!\n",
      "[WARNING] [2020-01-04 09:39:27,006:EnsembleBuilder(1):696b67931d9035ea5c59e2b27ff87de1] No models better than random - using Dummy Score!\n",
      "[WARNING] [2020-01-04 09:39:29,085:EnsembleBuilder(1):696b67931d9035ea5c59e2b27ff87de1] No models better than random - using Dummy Score!\n",
      "[WARNING] [2020-01-04 09:39:31,109:EnsembleBuilder(1):696b67931d9035ea5c59e2b27ff87de1] No models better than random - using Dummy Score!\n",
      "[WARNING] [2020-01-04 09:39:33,134:EnsembleBuilder(1):696b67931d9035ea5c59e2b27ff87de1] No models better than random - using Dummy Score!\n",
      "[WARNING] [2020-01-04 09:39:35,158:EnsembleBuilder(1):696b67931d9035ea5c59e2b27ff87de1] No models better than random - using Dummy Score!\n",
      "[WARNING] [2020-01-04 09:39:37,183:EnsembleBuilder(1):696b67931d9035ea5c59e2b27ff87de1] No models better than random - using Dummy Score!\n",
      "[WARNING] [2020-01-04 09:39:39,208:EnsembleBuilder(1):696b67931d9035ea5c59e2b27ff87de1] No models better than random - using Dummy Score!\n",
      "[WARNING] [2020-01-04 09:39:41,233:EnsembleBuilder(1):696b67931d9035ea5c59e2b27ff87de1] No models better than random - using Dummy Score!\n",
      "[WARNING] [2020-01-04 09:39:43,257:EnsembleBuilder(1):696b67931d9035ea5c59e2b27ff87de1] No models better than random - using Dummy Score!\n",
      "[WARNING] [2020-01-04 09:39:45,281:EnsembleBuilder(1):696b67931d9035ea5c59e2b27ff87de1] No models better than random - using Dummy Score!\n",
      "[WARNING] [2020-01-04 09:39:47,306:EnsembleBuilder(1):696b67931d9035ea5c59e2b27ff87de1] No models better than random - using Dummy Score!\n",
      "[WARNING] [2020-01-04 09:39:49,330:EnsembleBuilder(1):696b67931d9035ea5c59e2b27ff87de1] No models better than random - using Dummy Score!\n",
      "[WARNING] [2020-01-04 09:39:51,355:EnsembleBuilder(1):696b67931d9035ea5c59e2b27ff87de1] No models better than random - using Dummy Score!\n",
      "[WARNING] [2020-01-04 09:39:53,379:EnsembleBuilder(1):696b67931d9035ea5c59e2b27ff87de1] No models better than random - using Dummy Score!\n",
      "[WARNING] [2020-01-04 09:39:55,406:EnsembleBuilder(1):696b67931d9035ea5c59e2b27ff87de1] No models better than random - using Dummy Score!\n",
      "[WARNING] [2020-01-04 09:39:57,430:EnsembleBuilder(1):696b67931d9035ea5c59e2b27ff87de1] No models better than random - using Dummy Score!\n",
      "[WARNING] [2020-01-04 09:39:59,454:EnsembleBuilder(1):696b67931d9035ea5c59e2b27ff87de1] No models better than random - using Dummy Score!\n",
      "[WARNING] [2020-01-04 09:40:01,479:EnsembleBuilder(1):696b67931d9035ea5c59e2b27ff87de1] No models better than random - using Dummy Score!\n",
      "[WARNING] [2020-01-04 09:40:03,504:EnsembleBuilder(1):696b67931d9035ea5c59e2b27ff87de1] No models better than random - using Dummy Score!\n",
      "[WARNING] [2020-01-04 09:40:05,531:EnsembleBuilder(1):696b67931d9035ea5c59e2b27ff87de1] No models better than random - using Dummy Score!\n",
      "[WARNING] [2020-01-04 09:40:07,555:EnsembleBuilder(1):696b67931d9035ea5c59e2b27ff87de1] No models better than random - using Dummy Score!\n",
      "[WARNING] [2020-01-04 09:40:09,583:EnsembleBuilder(1):696b67931d9035ea5c59e2b27ff87de1] No models better than random - using Dummy Score!\n",
      "[WARNING] [2020-01-04 09:40:11,607:EnsembleBuilder(1):696b67931d9035ea5c59e2b27ff87de1] No models better than random - using Dummy Score!\n",
      "[WARNING] [2020-01-04 09:40:13,632:EnsembleBuilder(1):696b67931d9035ea5c59e2b27ff87de1] No models better than random - using Dummy Score!\n",
      "[WARNING] [2020-01-04 09:40:15,656:EnsembleBuilder(1):696b67931d9035ea5c59e2b27ff87de1] No models better than random - using Dummy Score!\n",
      "[WARNING] [2020-01-04 09:40:17,680:EnsembleBuilder(1):696b67931d9035ea5c59e2b27ff87de1] No models better than random - using Dummy Score!\n",
      "[WARNING] [2020-01-04 09:40:19,705:EnsembleBuilder(1):696b67931d9035ea5c59e2b27ff87de1] No models better than random - using Dummy Score!\n",
      "[WARNING] [2020-01-04 09:40:21,728:EnsembleBuilder(1):696b67931d9035ea5c59e2b27ff87de1] No models better than random - using Dummy Score!\n",
      "[WARNING] [2020-01-04 09:40:23,753:EnsembleBuilder(1):696b67931d9035ea5c59e2b27ff87de1] No models better than random - using Dummy Score!\n",
      "[WARNING] [2020-01-04 09:40:25,777:EnsembleBuilder(1):696b67931d9035ea5c59e2b27ff87de1] No models better than random - using Dummy Score!\n",
      "[WARNING] [2020-01-04 09:40:27,802:EnsembleBuilder(1):696b67931d9035ea5c59e2b27ff87de1] No models better than random - using Dummy Score!\n",
      "[WARNING] [2020-01-04 09:40:29,828:EnsembleBuilder(1):696b67931d9035ea5c59e2b27ff87de1] No models better than random - using Dummy Score!\n",
      "[WARNING] [2020-01-04 09:40:31,851:EnsembleBuilder(1):696b67931d9035ea5c59e2b27ff87de1] No models better than random - using Dummy Score!\n",
      "[WARNING] [2020-01-04 09:40:33,876:EnsembleBuilder(1):696b67931d9035ea5c59e2b27ff87de1] No models better than random - using Dummy Score!\n",
      "[WARNING] [2020-01-04 09:40:35,900:EnsembleBuilder(1):696b67931d9035ea5c59e2b27ff87de1] No models better than random - using Dummy Score!\n",
      "[WARNING] [2020-01-04 09:40:37,922:EnsembleBuilder(1):696b67931d9035ea5c59e2b27ff87de1] No models better than random - using Dummy Score!\n",
      "[WARNING] [2020-01-04 09:40:39,947:EnsembleBuilder(1):696b67931d9035ea5c59e2b27ff87de1] No models better than random - using Dummy Score!\n",
      "[WARNING] [2020-01-04 09:40:41,971:EnsembleBuilder(1):696b67931d9035ea5c59e2b27ff87de1] No models better than random - using Dummy Score!\n",
      "[WARNING] [2020-01-04 09:40:43,995:EnsembleBuilder(1):696b67931d9035ea5c59e2b27ff87de1] No models better than random - using Dummy Score!\n",
      "[WARNING] [2020-01-04 09:40:46,020:EnsembleBuilder(1):696b67931d9035ea5c59e2b27ff87de1] No models better than random - using Dummy Score!\n"
     ]
    },
    {
     "name": "stdout",
     "output_type": "stream",
     "text": [
      "[WARNING] [2020-01-04 09:40:48,045:EnsembleBuilder(1):696b67931d9035ea5c59e2b27ff87de1] No models better than random - using Dummy Score!\n",
      "[WARNING] [2020-01-04 09:40:50,070:EnsembleBuilder(1):696b67931d9035ea5c59e2b27ff87de1] No models better than random - using Dummy Score!\n",
      "[WARNING] [2020-01-04 09:40:52,094:EnsembleBuilder(1):696b67931d9035ea5c59e2b27ff87de1] No models better than random - using Dummy Score!\n",
      "[WARNING] [2020-01-04 09:40:54,121:EnsembleBuilder(1):696b67931d9035ea5c59e2b27ff87de1] No models better than random - using Dummy Score!\n",
      "[WARNING] [2020-01-04 09:40:56,146:EnsembleBuilder(1):696b67931d9035ea5c59e2b27ff87de1] No models better than random - using Dummy Score!\n",
      "[WARNING] [2020-01-04 09:40:58,170:EnsembleBuilder(1):696b67931d9035ea5c59e2b27ff87de1] No models better than random - using Dummy Score!\n",
      "[WARNING] [2020-01-04 09:41:00,243:EnsembleBuilder(1):696b67931d9035ea5c59e2b27ff87de1] No models better than random - using Dummy Score!\n",
      "[WARNING] [2020-01-04 09:41:02,267:EnsembleBuilder(1):696b67931d9035ea5c59e2b27ff87de1] No models better than random - using Dummy Score!\n",
      "[WARNING] [2020-01-04 09:41:04,291:EnsembleBuilder(1):696b67931d9035ea5c59e2b27ff87de1] No models better than random - using Dummy Score!\n",
      "[WARNING] [2020-01-04 09:41:06,316:EnsembleBuilder(1):696b67931d9035ea5c59e2b27ff87de1] No models better than random - using Dummy Score!\n",
      "[WARNING] [2020-01-04 09:41:08,342:EnsembleBuilder(1):696b67931d9035ea5c59e2b27ff87de1] No models better than random - using Dummy Score!\n",
      "[WARNING] [2020-01-04 09:41:10,367:EnsembleBuilder(1):696b67931d9035ea5c59e2b27ff87de1] No models better than random - using Dummy Score!\n"
     ]
    },
    {
     "name": "stderr",
     "output_type": "stream",
     "text": [
      "/anaconda/envs/py35/lib/python3.5/site-packages/autosklearn/evaluation/train_evaluator.py:197: RuntimeWarning: Mean of empty slice\n",
      "  Y_train_pred = np.nanmean(Y_train_pred_full, axis=0)\n"
     ]
    },
    {
     "name": "stdout",
     "output_type": "stream",
     "text": [
      "[WARNING] [2020-01-04 09:41:12,391:EnsembleBuilder(1):696b67931d9035ea5c59e2b27ff87de1] No models better than random - using Dummy Score!\n",
      "[WARNING] [2020-01-04 09:41:14,417:EnsembleBuilder(1):696b67931d9035ea5c59e2b27ff87de1] No models better than random - using Dummy Score!\n",
      "[WARNING] [2020-01-04 09:41:16,443:EnsembleBuilder(1):696b67931d9035ea5c59e2b27ff87de1] No models better than random - using Dummy Score!\n",
      "[WARNING] [2020-01-04 09:41:18,469:EnsembleBuilder(1):696b67931d9035ea5c59e2b27ff87de1] No models better than random - using Dummy Score!\n",
      "[WARNING] [2020-01-04 09:41:20,494:EnsembleBuilder(1):696b67931d9035ea5c59e2b27ff87de1] No models better than random - using Dummy Score!\n",
      "1\n",
      "['/tmp/autosklearn_tmp_5074_8313/.auto-sklearn/ensembles/1.0000000000.ensemble', '/tmp/autosklearn_tmp_5074_8313/.auto-sklearn/ensembles/1.0000000001.ensemble']\n",
      "Time:613.510739\n",
      "Accuracy score 0.7359735148353929\n"
     ]
    }
   ],
   "source": [
    "import autosklearn.classification\n",
    "#rawdata\n",
    "t1 = datetime.datetime.now()\n",
    "automl = autosklearn.classification.AutoSklearnClassifier(time_left_for_this_task=600, \n",
    "                                                          #per_run_time_limit=100,\n",
    "                                                          ensemble_memory_limit=45000, seed=1, ml_memory_limit=45000)\n",
    "automl.fit(X_train, Y_train)\n",
    "y_hat = automl.predict(X_test)\n",
    "t2 = datetime.datetime.now()\n",
    "print(\"Time:\" + str((t2 - t1).total_seconds()))\n",
    "print(\"Accuracy score\", accuracy_score(Y_test, y_hat))\n",
    "\n",
    "#automl.cv_results_\n",
    "\n",
    "#automl.sprint_statistics()\n",
    "\n",
    "#automl.show_models()\n"
   ]
  },
  {
   "cell_type": "code",
   "execution_count": null,
   "metadata": {},
   "outputs": [],
   "source": [
    "accuracy_score(Y_test, y_hat)"
   ]
  },
  {
   "cell_type": "code",
   "execution_count": 12,
   "metadata": {},
   "outputs": [
    {
     "data": {
      "text/plain": [
       "'auto-sklearn results:\\n  Dataset name: 696b67931d9035ea5c59e2b27ff87de1\\n  Metric: accuracy\\n  Best validation score: 0.993557\\n  Number of target algorithm runs: 6\\n  Number of successful target algorithm runs: 2\\n  Number of crashed target algorithm runs: 0\\n  Number of target algorithms that exceeded the time limit: 4\\n  Number of target algorithms that exceeded the memory limit: 0\\n'"
      ]
     },
     "execution_count": 12,
     "metadata": {},
     "output_type": "execute_result"
    }
   ],
   "source": [
    "automl.sprint_statistics()"
   ]
  },
  {
   "cell_type": "code",
   "execution_count": null,
   "metadata": {},
   "outputs": [],
   "source": []
  }
 ],
 "metadata": {
  "kernelspec": {
   "display_name": "Python 3.5",
   "language": "python",
   "name": "python3"
  },
  "language_info": {
   "codemirror_mode": {
    "name": "ipython",
    "version": 3
   },
   "file_extension": ".py",
   "mimetype": "text/x-python",
   "name": "python",
   "nbconvert_exporter": "python",
   "pygments_lexer": "ipython3",
   "version": "3.5.6"
  }
 },
 "nbformat": 4,
 "nbformat_minor": 2
}
