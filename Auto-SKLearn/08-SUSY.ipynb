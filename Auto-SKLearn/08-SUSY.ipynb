{
 "cells": [
  {
   "cell_type": "code",
   "execution_count": 1,
   "metadata": {},
   "outputs": [
    {
     "name": "stdout",
     "output_type": "stream",
     "text": [
      "The scikit-learn version is 0.19.2.\n",
      "The Auto scikit-learn version is 0.5.2.\n"
     ]
    },
    {
     "name": "stderr",
     "output_type": "stream",
     "text": [
      "/anaconda/envs/py35/lib/python3.5/site-packages/sklearn/ensemble/weight_boosting.py:29: DeprecationWarning: numpy.core.umath_tests is an internal NumPy module and should not be imported. It will be removed in a future NumPy release.\n",
      "  from numpy.core.umath_tests import inner1d\n"
     ]
    }
   ],
   "source": [
    "#import needed package\n",
    "#---------------------------------------------------------\n",
    "import pandas as pd\n",
    "import numpy as np\n",
    "import sklearn\n",
    "import autosklearn\n",
    "from sklearn import preprocessing\n",
    "from sklearn.preprocessing import LabelEncoder \n",
    "from sklearn.metrics import accuracy_score\n",
    "import datetime\n",
    "print('The scikit-learn version is {}.'.format(sklearn.__version__))\n",
    "import autosklearn.classification\n",
    "print('The Auto scikit-learn version is {}.'.format(autosklearn.__version__))"
   ]
  },
  {
   "cell_type": "code",
   "execution_count": 2,
   "metadata": {},
   "outputs": [
    {
     "data": {
      "text/plain": [
       "(4999999, 19)"
      ]
     },
     "execution_count": 2,
     "metadata": {},
     "output_type": "execute_result"
    }
   ],
   "source": [
    "\n",
    "#Load Data from CSV\n",
    "#--------------------------------------------------------\n",
    "filepath = '/data/home/eissa/Downloads/datasets_08-SUSY.csv'\n",
    "rawdata = pd.read_csv( filepath ,  sep=','  ,  low_memory=False )\n",
    "\n",
    "label = 'Label'\n",
    "rawdata.shape"
   ]
  },
  {
   "cell_type": "code",
   "execution_count": 3,
   "metadata": {},
   "outputs": [],
   "source": [
    "# set columns\n",
    "#----------------------------------------------------------------\n",
    "Columns = ['Label' , 'c1' , 'c2' , 'c3' , 'c4' , 'c5' , 'c6' ,\\\n",
    "           'c7' , 'c8' , 'c9' , 'c10' , 'c11' , 'c12' , 'c13' , \\\n",
    "           'c14' , 'c15' , 'c16' , 'c17' , 'c18' ]\n",
    "         \n",
    "rawdata.columns = Columns"
   ]
  },
  {
   "cell_type": "code",
   "execution_count": 4,
   "metadata": {},
   "outputs": [],
   "source": [
    "label = 'Label'\n",
    "rawdata[[label]] = rawdata[[label]].astype(int)"
   ]
  },
  {
   "cell_type": "code",
   "execution_count": 5,
   "metadata": {},
   "outputs": [],
   "source": [
    "# split data into Testing and training\n",
    "# ---------------------------------------------------------------------------------------------------------------------\n",
    "np.random.seed(1234)\n",
    "msk = np.random.rand(len(rawdata)) < 0.8\n",
    "training_data = rawdata[msk]\n",
    "Testing_data = rawdata[~msk]\n",
    "\n",
    "X_train = training_data.loc[:, training_data.columns != label]\n",
    "Y_train = training_data.loc[:, training_data.columns == label]\n",
    "\n",
    "X_test = Testing_data.loc[:, Testing_data.columns != label]\n",
    "Y_test = Testing_data.loc[:, Testing_data.columns == label]"
   ]
  },
  {
   "cell_type": "code",
   "execution_count": 8,
   "metadata": {},
   "outputs": [
    {
     "name": "stderr",
     "output_type": "stream",
     "text": [
      "/anaconda/envs/py35/lib/python3.5/site-packages/autosklearn/automl.py:887: DataConversionWarning: A column-vector y was passed when a 1d array was expected. Will change shape via np.ravel().\n",
      "  y = self._check_y(y)\n",
      "/anaconda/envs/py35/lib/python3.5/site-packages/autosklearn/evaluation/train_evaluator.py:197: RuntimeWarning: Mean of empty slice\n",
      "  Y_train_pred = np.nanmean(Y_train_pred_full, axis=0)\n"
     ]
    },
    {
     "name": "stdout",
     "output_type": "stream",
     "text": [
      "Time limit for a single run is higher than total time limit. Capping the limit for a single run to the total time given to SMAC (86.336235)\n",
      "[WARNING] [2020-01-07 09:01:38,865:EnsembleBuilder(1):b2e137ddc38c2bc92b8437b6bec631a6] No models better than random - using Dummy Score!\n",
      "[WARNING] [2020-01-07 09:01:39,249:EnsembleBuilder(1):b2e137ddc38c2bc92b8437b6bec631a6] No models better than random - using Dummy Score!\n",
      "[WARNING] [2020-01-07 09:01:41,273:EnsembleBuilder(1):b2e137ddc38c2bc92b8437b6bec631a6] No models better than random - using Dummy Score!\n",
      "[WARNING] [2020-01-07 09:01:43,304:EnsembleBuilder(1):b2e137ddc38c2bc92b8437b6bec631a6] No models better than random - using Dummy Score!\n",
      "[WARNING] [2020-01-07 09:01:45,327:EnsembleBuilder(1):b2e137ddc38c2bc92b8437b6bec631a6] No models better than random - using Dummy Score!\n",
      "[WARNING] [2020-01-07 09:01:47,352:EnsembleBuilder(1):b2e137ddc38c2bc92b8437b6bec631a6] No models better than random - using Dummy Score!\n",
      "[WARNING] [2020-01-07 09:01:49,378:EnsembleBuilder(1):b2e137ddc38c2bc92b8437b6bec631a6] No models better than random - using Dummy Score!\n",
      "[WARNING] [2020-01-07 09:01:51,411:EnsembleBuilder(1):b2e137ddc38c2bc92b8437b6bec631a6] No models better than random - using Dummy Score!\n",
      "[WARNING] [2020-01-07 09:01:53,435:EnsembleBuilder(1):b2e137ddc38c2bc92b8437b6bec631a6] No models better than random - using Dummy Score!\n",
      "[WARNING] [2020-01-07 09:01:55,460:EnsembleBuilder(1):b2e137ddc38c2bc92b8437b6bec631a6] No models better than random - using Dummy Score!\n",
      "[WARNING] [2020-01-07 09:01:57,485:EnsembleBuilder(1):b2e137ddc38c2bc92b8437b6bec631a6] No models better than random - using Dummy Score!\n",
      "[WARNING] [2020-01-07 09:01:59,515:EnsembleBuilder(1):b2e137ddc38c2bc92b8437b6bec631a6] No models better than random - using Dummy Score!\n",
      "[WARNING] [2020-01-07 09:02:01,539:EnsembleBuilder(1):b2e137ddc38c2bc92b8437b6bec631a6] No models better than random - using Dummy Score!\n",
      "[WARNING] [2020-01-07 09:02:03,564:EnsembleBuilder(1):b2e137ddc38c2bc92b8437b6bec631a6] No models better than random - using Dummy Score!\n",
      "[WARNING] [2020-01-07 09:02:05,590:EnsembleBuilder(1):b2e137ddc38c2bc92b8437b6bec631a6] No models better than random - using Dummy Score!\n",
      "[WARNING] [2020-01-07 09:02:07,620:EnsembleBuilder(1):b2e137ddc38c2bc92b8437b6bec631a6] No models better than random - using Dummy Score!\n",
      "[WARNING] [2020-01-07 09:02:09,662:EnsembleBuilder(1):b2e137ddc38c2bc92b8437b6bec631a6] No models better than random - using Dummy Score!\n",
      "[WARNING] [2020-01-07 09:02:11,687:EnsembleBuilder(1):b2e137ddc38c2bc92b8437b6bec631a6] No models better than random - using Dummy Score!\n",
      "[WARNING] [2020-01-07 09:02:13,713:EnsembleBuilder(1):b2e137ddc38c2bc92b8437b6bec631a6] No models better than random - using Dummy Score!\n",
      "[WARNING] [2020-01-07 09:02:15,737:EnsembleBuilder(1):b2e137ddc38c2bc92b8437b6bec631a6] No models better than random - using Dummy Score!\n",
      "[WARNING] [2020-01-07 09:02:17,761:EnsembleBuilder(1):b2e137ddc38c2bc92b8437b6bec631a6] No models better than random - using Dummy Score!\n",
      "[WARNING] [2020-01-07 09:02:19,786:EnsembleBuilder(1):b2e137ddc38c2bc92b8437b6bec631a6] No models better than random - using Dummy Score!\n",
      "[WARNING] [2020-01-07 09:02:21,811:EnsembleBuilder(1):b2e137ddc38c2bc92b8437b6bec631a6] No models better than random - using Dummy Score!\n",
      "[WARNING] [2020-01-07 09:02:23,835:EnsembleBuilder(1):b2e137ddc38c2bc92b8437b6bec631a6] No models better than random - using Dummy Score!\n",
      "[WARNING] [2020-01-07 09:02:25,863:EnsembleBuilder(1):b2e137ddc38c2bc92b8437b6bec631a6] No models better than random - using Dummy Score!\n",
      "[WARNING] [2020-01-07 09:02:27,889:EnsembleBuilder(1):b2e137ddc38c2bc92b8437b6bec631a6] No models better than random - using Dummy Score!\n",
      "[WARNING] [2020-01-07 09:02:29,918:EnsembleBuilder(1):b2e137ddc38c2bc92b8437b6bec631a6] No models better than random - using Dummy Score!\n",
      "[WARNING] [2020-01-07 09:02:31,943:EnsembleBuilder(1):b2e137ddc38c2bc92b8437b6bec631a6] No models better than random - using Dummy Score!\n",
      "[WARNING] [2020-01-07 09:02:33,968:EnsembleBuilder(1):b2e137ddc38c2bc92b8437b6bec631a6] No models better than random - using Dummy Score!\n",
      "[WARNING] [2020-01-07 09:02:35,992:EnsembleBuilder(1):b2e137ddc38c2bc92b8437b6bec631a6] No models better than random - using Dummy Score!\n",
      "[WARNING] [2020-01-07 09:02:38,019:EnsembleBuilder(1):b2e137ddc38c2bc92b8437b6bec631a6] No models better than random - using Dummy Score!\n",
      "[WARNING] [2020-01-07 09:02:40,047:EnsembleBuilder(1):b2e137ddc38c2bc92b8437b6bec631a6] No models better than random - using Dummy Score!\n",
      "[WARNING] [2020-01-07 09:02:42,072:EnsembleBuilder(1):b2e137ddc38c2bc92b8437b6bec631a6] No models better than random - using Dummy Score!\n",
      "[WARNING] [2020-01-07 09:02:44,096:EnsembleBuilder(1):b2e137ddc38c2bc92b8437b6bec631a6] No models better than random - using Dummy Score!\n",
      "[WARNING] [2020-01-07 09:02:46,126:EnsembleBuilder(1):b2e137ddc38c2bc92b8437b6bec631a6] No models better than random - using Dummy Score!\n",
      "[WARNING] [2020-01-07 09:02:48,151:EnsembleBuilder(1):b2e137ddc38c2bc92b8437b6bec631a6] No models better than random - using Dummy Score!\n",
      "[WARNING] [2020-01-07 09:02:50,177:EnsembleBuilder(1):b2e137ddc38c2bc92b8437b6bec631a6] No models better than random - using Dummy Score!\n",
      "[WARNING] [2020-01-07 09:02:52,202:EnsembleBuilder(1):b2e137ddc38c2bc92b8437b6bec631a6] No models better than random - using Dummy Score!\n",
      "[WARNING] [2020-01-07 09:02:54,228:EnsembleBuilder(1):b2e137ddc38c2bc92b8437b6bec631a6] No models better than random - using Dummy Score!\n",
      "[WARNING] [2020-01-07 09:02:56,253:EnsembleBuilder(1):b2e137ddc38c2bc92b8437b6bec631a6] No models better than random - using Dummy Score!\n",
      "[WARNING] [2020-01-07 09:02:58,326:EnsembleBuilder(1):b2e137ddc38c2bc92b8437b6bec631a6] No models better than random - using Dummy Score!\n",
      "1\n",
      "['/tmp/autosklearn_tmp_17153_9905/.auto-sklearn/ensembles/1.0000000000.ensemble']\n",
      "Time:97.047763\n",
      "Accuracy score 0.5421618160535452\n"
     ]
    }
   ],
   "source": [
    "import autosklearn.classification\n",
    "#rawdata\n",
    "t1 = datetime.datetime.now()\n",
    "automl = autosklearn.classification.AutoSklearnClassifier(time_left_for_this_task=100, \n",
    "                                                          ensemble_size= 1,\n",
    "                                                          include_preprocessors=[\"no_preprocessing\"],\n",
    "                                                          ensemble_memory_limit=45000, \n",
    "                                                          seed=1, \n",
    "                                                          ml_memory_limit=45000)\n",
    "automl.fit(X_train, Y_train)\n",
    "y_hat = automl.predict(X_test)\n",
    "t2 = datetime.datetime.now()\n",
    "print(\"Time:\" + str((t2 - t1).total_seconds()))\n",
    "print(\"Accuracy score\", accuracy_score(Y_test, y_hat))\n",
    "\n",
    "#automl.cv_results_\n",
    "\n",
    "#automl.sprint_statistics()\n",
    "\n",
    "#automl.show_models()\n"
   ]
  },
  {
   "cell_type": "code",
   "execution_count": null,
   "metadata": {},
   "outputs": [],
   "source": [
    "accuracy_score(Y_test, y_hat)"
   ]
  },
  {
   "cell_type": "code",
   "execution_count": null,
   "metadata": {},
   "outputs": [],
   "source": [
    "automl.sprint_statistics()"
   ]
  },
  {
   "cell_type": "code",
   "execution_count": null,
   "metadata": {},
   "outputs": [],
   "source": []
  }
 ],
 "metadata": {
  "kernelspec": {
   "display_name": "Python 3.5",
   "language": "python",
   "name": "python3"
  },
  "language_info": {
   "codemirror_mode": {
    "name": "ipython",
    "version": 3
   },
   "file_extension": ".py",
   "mimetype": "text/x-python",
   "name": "python",
   "nbconvert_exporter": "python",
   "pygments_lexer": "ipython3",
   "version": "3.5.6"
  }
 },
 "nbformat": 4,
 "nbformat_minor": 2
}
