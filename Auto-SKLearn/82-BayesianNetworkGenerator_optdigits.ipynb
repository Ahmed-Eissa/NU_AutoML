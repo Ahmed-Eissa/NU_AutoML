{
 "cells": [
  {
   "cell_type": "code",
   "execution_count": 1,
   "metadata": {},
   "outputs": [
    {
     "name": "stderr",
     "output_type": "stream",
     "text": [
      "/anaconda/envs/py35/lib/python3.5/site-packages/sklearn/ensemble/weight_boosting.py:29: DeprecationWarning: numpy.core.umath_tests is an internal NumPy module and should not be imported. It will be removed in a future NumPy release.\n",
      "  from numpy.core.umath_tests import inner1d\n"
     ]
    }
   ],
   "source": [
    "#import needed package\n",
    "#---------------------------------------------------------\n",
    "import pandas as pd\n",
    "import numpy as np\n",
    "import sklearn\n",
    "import autosklearn\n",
    "from sklearn import preprocessing\n",
    "from sklearn.metrics import accuracy_score\n",
    "import datetime\n",
    "import autosklearn.classification\n",
    "from sklearn.preprocessing import LabelEncoder #OrdinalEncoder"
   ]
  },
  {
   "cell_type": "code",
   "execution_count": 2,
   "metadata": {},
   "outputs": [
    {
     "name": "stdout",
     "output_type": "stream",
     "text": [
      "The scikit-learn version is 0.19.2.\n",
      "The Auto scikit-learn version is 0.5.2.\n"
     ]
    }
   ],
   "source": [
    "#print versions\n",
    "#---------------------------------------------------------\n",
    "print('The scikit-learn version is {}.'.format(sklearn.__version__))\n",
    "print('The Auto scikit-learn version is {}.'.format(autosklearn.__version__))"
   ]
  },
  {
   "cell_type": "code",
   "execution_count": 3,
   "metadata": {},
   "outputs": [
    {
     "data": {
      "text/plain": [
       "(1000000, 65)"
      ]
     },
     "execution_count": 3,
     "metadata": {},
     "output_type": "execute_result"
    }
   ],
   "source": [
    "#Load Data from CSV\n",
    "#--------------------------------------------------------\n",
    "filepath = '/data/home/eissa/Downloads/datasets_82-BayesianNetworkGenerator_optdigits.csv'\n",
    "rawdata = pd.read_csv( filepath ,  sep=','  ,  low_memory=False )\n",
    "rawdata.shape"
   ]
  },
  {
   "cell_type": "code",
   "execution_count": null,
   "metadata": {},
   "outputs": [],
   "source": [
    "rawdata.head(10)"
   ]
  },
  {
   "cell_type": "code",
   "execution_count": 4,
   "metadata": {},
   "outputs": [],
   "source": [
    "#Categorical feature encoding\n",
    "#--------------------------------------------------------\n",
    "label = 'class'\n",
    "le = LabelEncoder()\n",
    "for column in rawdata.columns: \n",
    "    rawdata[column] = le.fit_transform(rawdata[column])"
   ]
  },
  {
   "cell_type": "code",
   "execution_count": null,
   "metadata": {},
   "outputs": [],
   "source": [
    "rawdata.head(10)"
   ]
  },
  {
   "cell_type": "code",
   "execution_count": 5,
   "metadata": {},
   "outputs": [],
   "source": [
    "# split data into Testing and training\n",
    "# ---------------------------------------------------------------------------------------------------------------------\n",
    "np.random.seed(1234)\n",
    "msk = np.random.rand(len(rawdata)) < 0.8\n",
    "training_data = rawdata[msk]\n",
    "Testing_data = rawdata[~msk]\n",
    "\n",
    "X_train = training_data.loc[:, training_data.columns != label]\n",
    "Y_train = training_data.loc[:, training_data.columns == label]\n",
    "\n",
    "X_test = Testing_data.loc[:, Testing_data.columns != label]\n",
    "Y_test = Testing_data.loc[:, Testing_data.columns == label]"
   ]
  },
  {
   "cell_type": "code",
   "execution_count": null,
   "metadata": {},
   "outputs": [
    {
     "name": "stderr",
     "output_type": "stream",
     "text": [
      "/anaconda/envs/py35/lib/python3.5/site-packages/autosklearn/automl.py:887: DataConversionWarning: A column-vector y was passed when a 1d array was expected. Will change shape via np.ravel().\n",
      "  y = self._check_y(y)\n",
      "/anaconda/envs/py35/lib/python3.5/site-packages/autosklearn/evaluation/train_evaluator.py:197: RuntimeWarning: Mean of empty slice\n",
      "  Y_train_pred = np.nanmean(Y_train_pred_full, axis=0)\n"
     ]
    },
    {
     "name": "stdout",
     "output_type": "stream",
     "text": [
      "[WARNING] [2020-01-06 09:50:13,225:EnsembleBuilder(1):7230684ee04503c5e4dafc92a6c739af] No models better than random - using Dummy Score!\n",
      "[WARNING] [2020-01-06 09:50:13,329:EnsembleBuilder(1):7230684ee04503c5e4dafc92a6c739af] No models better than random - using Dummy Score!\n",
      "Time limit for a single run is higher than total time limit. Capping the limit for a single run to the total time given to SMAC (295.660245)\n",
      "[WARNING] [2020-01-06 09:50:15,347:EnsembleBuilder(1):7230684ee04503c5e4dafc92a6c739af] No models better than random - using Dummy Score!\n",
      "[WARNING] [2020-01-06 09:50:17,364:EnsembleBuilder(1):7230684ee04503c5e4dafc92a6c739af] No models better than random - using Dummy Score!\n",
      "[WARNING] [2020-01-06 09:50:19,381:EnsembleBuilder(1):7230684ee04503c5e4dafc92a6c739af] No models better than random - using Dummy Score!\n",
      "[WARNING] [2020-01-06 09:50:21,400:EnsembleBuilder(1):7230684ee04503c5e4dafc92a6c739af] No models better than random - using Dummy Score!\n",
      "[WARNING] [2020-01-06 09:50:23,417:EnsembleBuilder(1):7230684ee04503c5e4dafc92a6c739af] No models better than random - using Dummy Score!\n",
      "[WARNING] [2020-01-06 09:50:25,433:EnsembleBuilder(1):7230684ee04503c5e4dafc92a6c739af] No models better than random - using Dummy Score!\n",
      "[WARNING] [2020-01-06 09:50:27,449:EnsembleBuilder(1):7230684ee04503c5e4dafc92a6c739af] No models better than random - using Dummy Score!\n",
      "[WARNING] [2020-01-06 09:50:29,465:EnsembleBuilder(1):7230684ee04503c5e4dafc92a6c739af] No models better than random - using Dummy Score!\n",
      "[WARNING] [2020-01-06 09:50:31,481:EnsembleBuilder(1):7230684ee04503c5e4dafc92a6c739af] No models better than random - using Dummy Score!\n",
      "[WARNING] [2020-01-06 09:50:33,498:EnsembleBuilder(1):7230684ee04503c5e4dafc92a6c739af] No models better than random - using Dummy Score!\n",
      "[WARNING] [2020-01-06 09:50:35,514:EnsembleBuilder(1):7230684ee04503c5e4dafc92a6c739af] No models better than random - using Dummy Score!\n",
      "[WARNING] [2020-01-06 09:50:37,531:EnsembleBuilder(1):7230684ee04503c5e4dafc92a6c739af] No models better than random - using Dummy Score!\n",
      "[WARNING] [2020-01-06 09:50:39,548:EnsembleBuilder(1):7230684ee04503c5e4dafc92a6c739af] No models better than random - using Dummy Score!\n",
      "[WARNING] [2020-01-06 09:50:41,565:EnsembleBuilder(1):7230684ee04503c5e4dafc92a6c739af] No models better than random - using Dummy Score!\n",
      "[WARNING] [2020-01-06 09:50:43,582:EnsembleBuilder(1):7230684ee04503c5e4dafc92a6c739af] No models better than random - using Dummy Score!\n",
      "[WARNING] [2020-01-06 09:50:45,598:EnsembleBuilder(1):7230684ee04503c5e4dafc92a6c739af] No models better than random - using Dummy Score!\n",
      "[WARNING] [2020-01-06 09:50:47,615:EnsembleBuilder(1):7230684ee04503c5e4dafc92a6c739af] No models better than random - using Dummy Score!\n",
      "[WARNING] [2020-01-06 09:50:49,632:EnsembleBuilder(1):7230684ee04503c5e4dafc92a6c739af] No models better than random - using Dummy Score!\n",
      "[WARNING] [2020-01-06 09:50:51,648:EnsembleBuilder(1):7230684ee04503c5e4dafc92a6c739af] No models better than random - using Dummy Score!\n",
      "[WARNING] [2020-01-06 09:50:53,665:EnsembleBuilder(1):7230684ee04503c5e4dafc92a6c739af] No models better than random - using Dummy Score!\n",
      "[WARNING] [2020-01-06 09:50:55,681:EnsembleBuilder(1):7230684ee04503c5e4dafc92a6c739af] No models better than random - using Dummy Score!\n",
      "[WARNING] [2020-01-06 09:50:57,698:EnsembleBuilder(1):7230684ee04503c5e4dafc92a6c739af] No models better than random - using Dummy Score!\n",
      "[WARNING] [2020-01-06 09:50:59,714:EnsembleBuilder(1):7230684ee04503c5e4dafc92a6c739af] No models better than random - using Dummy Score!\n",
      "[WARNING] [2020-01-06 09:51:01,731:EnsembleBuilder(1):7230684ee04503c5e4dafc92a6c739af] No models better than random - using Dummy Score!\n",
      "[WARNING] [2020-01-06 09:51:03,747:EnsembleBuilder(1):7230684ee04503c5e4dafc92a6c739af] No models better than random - using Dummy Score!\n",
      "[WARNING] [2020-01-06 09:51:05,763:EnsembleBuilder(1):7230684ee04503c5e4dafc92a6c739af] No models better than random - using Dummy Score!\n",
      "[WARNING] [2020-01-06 09:51:07,779:EnsembleBuilder(1):7230684ee04503c5e4dafc92a6c739af] No models better than random - using Dummy Score!\n",
      "[WARNING] [2020-01-06 09:51:09,795:EnsembleBuilder(1):7230684ee04503c5e4dafc92a6c739af] No models better than random - using Dummy Score!\n",
      "[WARNING] [2020-01-06 09:51:11,812:EnsembleBuilder(1):7230684ee04503c5e4dafc92a6c739af] No models better than random - using Dummy Score!\n",
      "[WARNING] [2020-01-06 09:51:13,829:EnsembleBuilder(1):7230684ee04503c5e4dafc92a6c739af] No models better than random - using Dummy Score!\n",
      "[WARNING] [2020-01-06 09:51:15,845:EnsembleBuilder(1):7230684ee04503c5e4dafc92a6c739af] No models better than random - using Dummy Score!\n",
      "[WARNING] [2020-01-06 09:51:17,862:EnsembleBuilder(1):7230684ee04503c5e4dafc92a6c739af] No models better than random - using Dummy Score!\n",
      "[WARNING] [2020-01-06 09:51:19,878:EnsembleBuilder(1):7230684ee04503c5e4dafc92a6c739af] No models better than random - using Dummy Score!\n"
     ]
    }
   ],
   "source": [
    "# auto ML\n",
    "# ---------------------------------------------------------------------------------------------------------------------\n",
    "t1 = datetime.datetime.now()\n",
    "automl = autosklearn.classification.AutoSklearnClassifier(time_left_for_this_task=300, \n",
    "                                                          ensemble_size= 1,\n",
    "                                                          include_preprocessors=[\"no_preprocessing\"],\n",
    "                                                          ensemble_memory_limit=45000, \n",
    "                                                          seed=1, \n",
    "                                                          ml_memory_limit=45000)\n",
    "automl.fit(X_train, Y_train)\n",
    "y_hat = automl.predict(X_test)\n",
    "t2 = datetime.datetime.now()\n",
    "print(\"Time:\" + str((t2 - t1).total_seconds()))\n",
    "print(\"Accuracy score\", accuracy_score(Y_test, y_hat))\n"
   ]
  },
  {
   "cell_type": "code",
   "execution_count": null,
   "metadata": {},
   "outputs": [],
   "source": [
    "automl.cv_results_"
   ]
  },
  {
   "cell_type": "code",
   "execution_count": null,
   "metadata": {},
   "outputs": [],
   "source": [
    "automl.show_models("
   ]
  },
  {
   "cell_type": "code",
   "execution_count": null,
   "metadata": {},
   "outputs": [],
   "source": [
    "automl.sprint_statistics()"
   ]
  },
  {
   "cell_type": "code",
   "execution_count": null,
   "metadata": {},
   "outputs": [],
   "source": [
    "print(\"Accuracy score\", accuracy_score(Y_test, y_hat))"
   ]
  },
  {
   "cell_type": "code",
   "execution_count": null,
   "metadata": {},
   "outputs": [],
   "source": []
  }
 ],
 "metadata": {
  "kernelspec": {
   "display_name": "Python 3.5",
   "language": "python",
   "name": "python3"
  },
  "language_info": {
   "codemirror_mode": {
    "name": "ipython",
    "version": 3
   },
   "file_extension": ".py",
   "mimetype": "text/x-python",
   "name": "python",
   "nbconvert_exporter": "python",
   "pygments_lexer": "ipython3",
   "version": "3.5.6"
  }
 },
 "nbformat": 4,
 "nbformat_minor": 2
}
