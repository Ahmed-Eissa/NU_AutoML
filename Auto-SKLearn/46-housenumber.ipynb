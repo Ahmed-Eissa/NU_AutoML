{
 "cells": [
  {
   "cell_type": "code",
   "execution_count": 1,
   "metadata": {},
   "outputs": [
    {
     "name": "stdout",
     "output_type": "stream",
     "text": [
      "The scikit-learn version is 0.19.2.\n"
     ]
    },
    {
     "name": "stderr",
     "output_type": "stream",
     "text": [
      "/anaconda/envs/py35/lib/python3.5/site-packages/sklearn/ensemble/weight_boosting.py:29: DeprecationWarning: numpy.core.umath_tests is an internal NumPy module and should not be imported. It will be removed in a future NumPy release.\n",
      "  from numpy.core.umath_tests import inner1d\n"
     ]
    },
    {
     "name": "stdout",
     "output_type": "stream",
     "text": [
      "The Auto scikit-learn version is 0.5.2.\n"
     ]
    }
   ],
   "source": [
    "#import needed package\n",
    "#---------------------------------------------------------\n",
    "import pandas as pd\n",
    "import numpy as np\n",
    "import sklearn\n",
    "import autosklearn\n",
    "from sklearn import preprocessing\n",
    "from sklearn.preprocessing import LabelEncoder \n",
    "from sklearn.metrics import accuracy_score\n",
    "import datetime\n",
    "print('The scikit-learn version is {}.'.format(sklearn.__version__))\n",
    "import autosklearn.classification\n",
    "print('The Auto scikit-learn version is {}.'.format(autosklearn.__version__))"
   ]
  },
  {
   "cell_type": "code",
   "execution_count": 2,
   "metadata": {},
   "outputs": [
    {
     "data": {
      "text/plain": [
       "(64000, 1030)"
      ]
     },
     "execution_count": 2,
     "metadata": {},
     "output_type": "execute_result"
    }
   ],
   "source": [
    "\n",
    "#Load Data from CSV\n",
    "#--------------------------------------------------------\n",
    "filepath = '/data/home/eissa/Downloads/datasets_46-housenumbers.csv'\n",
    "rawdata = pd.read_csv( filepath ,  sep=','  ,  low_memory=False )\n",
    "\n",
    "label = 'y4'\n",
    "rawdata.shape"
   ]
  },
  {
   "cell_type": "code",
   "execution_count": 4,
   "metadata": {},
   "outputs": [],
   "source": [
    "#Categorical feature encoding\n",
    "#--------------------------------------------------------\n",
    "rawdata = rawdata.drop( 'y0' , 1)\n",
    "rawdata = rawdata.drop( 'y1' , 1)\n",
    "rawdata = rawdata.drop( 'y2' , 1)\n",
    "rawdata = rawdata.drop( 'y3' , 1)\n",
    "rawdata = rawdata.drop( 'filename' , 1)"
   ]
  },
  {
   "cell_type": "code",
   "execution_count": 6,
   "metadata": {},
   "outputs": [],
   "source": [
    "label = 'y4'\n",
    "rawdata[[label]] = rawdata[[label]].astype(int)"
   ]
  },
  {
   "cell_type": "code",
   "execution_count": 7,
   "metadata": {},
   "outputs": [],
   "source": [
    "# split data into Testing and training\n",
    "# ---------------------------------------------------------------------------------------------------------------------\n",
    "np.random.seed(1234)\n",
    "msk = np.random.rand(len(rawdata)) < 0.8\n",
    "training_data = rawdata[msk]\n",
    "Testing_data = rawdata[~msk]\n",
    "\n",
    "X_train = training_data.loc[:, training_data.columns != label]\n",
    "Y_train = training_data.loc[:, training_data.columns == label]\n",
    "\n",
    "X_test = Testing_data.loc[:, Testing_data.columns != label]\n",
    "Y_test = Testing_data.loc[:, Testing_data.columns == label]"
   ]
  },
  {
   "cell_type": "code",
   "execution_count": 12,
   "metadata": {},
   "outputs": [
    {
     "name": "stderr",
     "output_type": "stream",
     "text": [
      "/anaconda/envs/py35/lib/python3.5/site-packages/autosklearn/automl.py:887: DataConversionWarning: A column-vector y was passed when a 1d array was expected. Will change shape via np.ravel().\n",
      "  y = self._check_y(y)\n",
      "/anaconda/envs/py35/lib/python3.5/site-packages/autosklearn/evaluation/train_evaluator.py:197: RuntimeWarning: Mean of empty slice\n",
      "  Y_train_pred = np.nanmean(Y_train_pred_full, axis=0)\n"
     ]
    },
    {
     "name": "stdout",
     "output_type": "stream",
     "text": [
      "[WARNING] [2020-01-02 08:07:45,456:EnsembleBuilder(1):bf9eacd682268f478684eca31b6be667] No models better than random - using Dummy Score!\n",
      "[WARNING] [2020-01-02 08:07:45,469:EnsembleBuilder(1):bf9eacd682268f478684eca31b6be667] No models better than random - using Dummy Score!\n",
      "[WARNING] [2020-01-02 08:07:47,480:EnsembleBuilder(1):bf9eacd682268f478684eca31b6be667] No models better than random - using Dummy Score!\n",
      "[WARNING] [2020-01-02 08:07:49,485:EnsembleBuilder(1):bf9eacd682268f478684eca31b6be667] No models better than random - using Dummy Score!\n",
      "[WARNING] [2020-01-02 08:07:51,492:EnsembleBuilder(1):bf9eacd682268f478684eca31b6be667] No models better than random - using Dummy Score!\n",
      "[WARNING] [2020-01-02 08:07:53,497:EnsembleBuilder(1):bf9eacd682268f478684eca31b6be667] No models better than random - using Dummy Score!\n",
      "[WARNING] [2020-01-02 08:07:55,502:EnsembleBuilder(1):bf9eacd682268f478684eca31b6be667] No models better than random - using Dummy Score!\n",
      "[WARNING] [2020-01-02 08:07:57,506:EnsembleBuilder(1):bf9eacd682268f478684eca31b6be667] No models better than random - using Dummy Score!\n",
      "[WARNING] [2020-01-02 08:07:59,511:EnsembleBuilder(1):bf9eacd682268f478684eca31b6be667] No models better than random - using Dummy Score!\n",
      "[WARNING] [2020-01-02 08:08:01,517:EnsembleBuilder(1):bf9eacd682268f478684eca31b6be667] No models better than random - using Dummy Score!\n",
      "[WARNING] [2020-01-02 08:08:03,523:EnsembleBuilder(1):bf9eacd682268f478684eca31b6be667] No models better than random - using Dummy Score!\n",
      "[WARNING] [2020-01-02 08:08:05,528:EnsembleBuilder(1):bf9eacd682268f478684eca31b6be667] No models better than random - using Dummy Score!\n",
      "[WARNING] [2020-01-02 08:08:07,534:EnsembleBuilder(1):bf9eacd682268f478684eca31b6be667] No models better than random - using Dummy Score!\n",
      "[WARNING] [2020-01-02 08:08:09,539:EnsembleBuilder(1):bf9eacd682268f478684eca31b6be667] No models better than random - using Dummy Score!\n",
      "[WARNING] [2020-01-02 08:08:11,544:EnsembleBuilder(1):bf9eacd682268f478684eca31b6be667] No models better than random - using Dummy Score!\n",
      "[WARNING] [2020-01-02 08:08:13,551:EnsembleBuilder(1):bf9eacd682268f478684eca31b6be667] No models better than random - using Dummy Score!\n",
      "[WARNING] [2020-01-02 08:08:15,556:EnsembleBuilder(1):bf9eacd682268f478684eca31b6be667] No models better than random - using Dummy Score!\n",
      "[WARNING] [2020-01-02 08:08:17,561:EnsembleBuilder(1):bf9eacd682268f478684eca31b6be667] No models better than random - using Dummy Score!\n",
      "[WARNING] [2020-01-02 08:08:19,569:EnsembleBuilder(1):bf9eacd682268f478684eca31b6be667] No models better than random - using Dummy Score!\n",
      "[WARNING] [2020-01-02 08:08:21,574:EnsembleBuilder(1):bf9eacd682268f478684eca31b6be667] No models better than random - using Dummy Score!\n",
      "[WARNING] [2020-01-02 08:08:23,579:EnsembleBuilder(1):bf9eacd682268f478684eca31b6be667] No models better than random - using Dummy Score!\n",
      "[WARNING] [2020-01-02 08:08:25,584:EnsembleBuilder(1):bf9eacd682268f478684eca31b6be667] No models better than random - using Dummy Score!\n",
      "[WARNING] [2020-01-02 08:08:27,589:EnsembleBuilder(1):bf9eacd682268f478684eca31b6be667] No models better than random - using Dummy Score!\n",
      "[WARNING] [2020-01-02 08:08:29,595:EnsembleBuilder(1):bf9eacd682268f478684eca31b6be667] No models better than random - using Dummy Score!\n",
      "[WARNING] [2020-01-02 08:08:31,600:EnsembleBuilder(1):bf9eacd682268f478684eca31b6be667] No models better than random - using Dummy Score!\n",
      "[WARNING] [2020-01-02 08:08:33,604:EnsembleBuilder(1):bf9eacd682268f478684eca31b6be667] No models better than random - using Dummy Score!\n",
      "[WARNING] [2020-01-02 08:08:35,610:EnsembleBuilder(1):bf9eacd682268f478684eca31b6be667] No models better than random - using Dummy Score!\n",
      "[WARNING] [2020-01-02 08:08:37,614:EnsembleBuilder(1):bf9eacd682268f478684eca31b6be667] No models better than random - using Dummy Score!\n",
      "[WARNING] [2020-01-02 08:08:39,619:EnsembleBuilder(1):bf9eacd682268f478684eca31b6be667] No models better than random - using Dummy Score!\n",
      "[WARNING] [2020-01-02 08:08:41,624:EnsembleBuilder(1):bf9eacd682268f478684eca31b6be667] No models better than random - using Dummy Score!\n",
      "[WARNING] [2020-01-02 08:08:43,629:EnsembleBuilder(1):bf9eacd682268f478684eca31b6be667] No models better than random - using Dummy Score!\n",
      "[WARNING] [2020-01-02 08:08:45,634:EnsembleBuilder(1):bf9eacd682268f478684eca31b6be667] No models better than random - using Dummy Score!\n",
      "[WARNING] [2020-01-02 08:08:47,639:EnsembleBuilder(1):bf9eacd682268f478684eca31b6be667] No models better than random - using Dummy Score!\n",
      "[WARNING] [2020-01-02 08:08:49,646:EnsembleBuilder(1):bf9eacd682268f478684eca31b6be667] No models better than random - using Dummy Score!\n",
      "[WARNING] [2020-01-02 08:08:51,651:EnsembleBuilder(1):bf9eacd682268f478684eca31b6be667] No models better than random - using Dummy Score!\n",
      "[WARNING] [2020-01-02 08:08:53,656:EnsembleBuilder(1):bf9eacd682268f478684eca31b6be667] No models better than random - using Dummy Score!\n",
      "[WARNING] [2020-01-02 08:08:55,660:EnsembleBuilder(1):bf9eacd682268f478684eca31b6be667] No models better than random - using Dummy Score!\n",
      "[WARNING] [2020-01-02 08:08:57,665:EnsembleBuilder(1):bf9eacd682268f478684eca31b6be667] No models better than random - using Dummy Score!\n",
      "[WARNING] [2020-01-02 08:08:59,670:EnsembleBuilder(1):bf9eacd682268f478684eca31b6be667] No models better than random - using Dummy Score!\n",
      "[WARNING] [2020-01-02 08:09:01,675:EnsembleBuilder(1):bf9eacd682268f478684eca31b6be667] No models better than random - using Dummy Score!\n",
      "[WARNING] [2020-01-02 08:09:03,680:EnsembleBuilder(1):bf9eacd682268f478684eca31b6be667] No models better than random - using Dummy Score!\n",
      "[WARNING] [2020-01-02 08:09:05,685:EnsembleBuilder(1):bf9eacd682268f478684eca31b6be667] No models better than random - using Dummy Score!\n",
      "[WARNING] [2020-01-02 08:09:07,689:EnsembleBuilder(1):bf9eacd682268f478684eca31b6be667] No models better than random - using Dummy Score!\n",
      "[WARNING] [2020-01-02 08:09:09,696:EnsembleBuilder(1):bf9eacd682268f478684eca31b6be667] No models better than random - using Dummy Score!\n",
      "[WARNING] [2020-01-02 08:09:11,700:EnsembleBuilder(1):bf9eacd682268f478684eca31b6be667] No models better than random - using Dummy Score!\n",
      "[WARNING] [2020-01-02 08:09:13,706:EnsembleBuilder(1):bf9eacd682268f478684eca31b6be667] No models better than random - using Dummy Score!\n",
      "[WARNING] [2020-01-02 08:09:15,711:EnsembleBuilder(1):bf9eacd682268f478684eca31b6be667] No models better than random - using Dummy Score!\n",
      "[WARNING] [2020-01-02 08:09:17,716:EnsembleBuilder(1):bf9eacd682268f478684eca31b6be667] No models better than random - using Dummy Score!\n",
      "[WARNING] [2020-01-02 08:09:19,722:EnsembleBuilder(1):bf9eacd682268f478684eca31b6be667] No models better than random - using Dummy Score!\n",
      "[WARNING] [2020-01-02 08:09:21,727:EnsembleBuilder(1):bf9eacd682268f478684eca31b6be667] No models better than random - using Dummy Score!\n",
      "[WARNING] [2020-01-02 08:09:23,732:EnsembleBuilder(1):bf9eacd682268f478684eca31b6be667] No models better than random - using Dummy Score!\n",
      "[WARNING] [2020-01-02 08:09:25,737:EnsembleBuilder(1):bf9eacd682268f478684eca31b6be667] No models better than random - using Dummy Score!\n",
      "[WARNING] [2020-01-02 08:09:27,742:EnsembleBuilder(1):bf9eacd682268f478684eca31b6be667] No models better than random - using Dummy Score!\n",
      "[WARNING] [2020-01-02 08:09:29,747:EnsembleBuilder(1):bf9eacd682268f478684eca31b6be667] No models better than random - using Dummy Score!\n",
      "[WARNING] [2020-01-02 08:09:31,751:EnsembleBuilder(1):bf9eacd682268f478684eca31b6be667] No models better than random - using Dummy Score!\n",
      "[WARNING] [2020-01-02 08:09:33,756:EnsembleBuilder(1):bf9eacd682268f478684eca31b6be667] No models better than random - using Dummy Score!\n",
      "[WARNING] [2020-01-02 08:09:35,761:EnsembleBuilder(1):bf9eacd682268f478684eca31b6be667] No models better than random - using Dummy Score!\n",
      "[WARNING] [2020-01-02 08:09:37,766:EnsembleBuilder(1):bf9eacd682268f478684eca31b6be667] No models better than random - using Dummy Score!\n",
      "[WARNING] [2020-01-02 08:09:39,772:EnsembleBuilder(1):bf9eacd682268f478684eca31b6be667] No models better than random - using Dummy Score!\n",
      "[WARNING] [2020-01-02 08:09:41,777:EnsembleBuilder(1):bf9eacd682268f478684eca31b6be667] No models better than random - using Dummy Score!\n"
     ]
    },
    {
     "name": "stdout",
     "output_type": "stream",
     "text": [
      "[WARNING] [2020-01-02 08:09:43,782:EnsembleBuilder(1):bf9eacd682268f478684eca31b6be667] No models better than random - using Dummy Score!\n",
      "[WARNING] [2020-01-02 08:09:45,787:EnsembleBuilder(1):bf9eacd682268f478684eca31b6be667] No models better than random - using Dummy Score!\n",
      "[WARNING] [2020-01-02 08:09:47,792:EnsembleBuilder(1):bf9eacd682268f478684eca31b6be667] No models better than random - using Dummy Score!\n",
      "[WARNING] [2020-01-02 08:09:49,799:EnsembleBuilder(1):bf9eacd682268f478684eca31b6be667] No models better than random - using Dummy Score!\n",
      "[WARNING] [2020-01-02 08:09:51,804:EnsembleBuilder(1):bf9eacd682268f478684eca31b6be667] No models better than random - using Dummy Score!\n",
      "[WARNING] [2020-01-02 08:09:53,809:EnsembleBuilder(1):bf9eacd682268f478684eca31b6be667] No models better than random - using Dummy Score!\n",
      "[WARNING] [2020-01-02 08:09:55,814:EnsembleBuilder(1):bf9eacd682268f478684eca31b6be667] No models better than random - using Dummy Score!\n",
      "[WARNING] [2020-01-02 08:09:57,818:EnsembleBuilder(1):bf9eacd682268f478684eca31b6be667] No models better than random - using Dummy Score!\n",
      "[WARNING] [2020-01-02 08:09:59,822:EnsembleBuilder(1):bf9eacd682268f478684eca31b6be667] No models better than random - using Dummy Score!\n",
      "[WARNING] [2020-01-02 08:10:01,827:EnsembleBuilder(1):bf9eacd682268f478684eca31b6be667] No models better than random - using Dummy Score!\n",
      "[WARNING] [2020-01-02 08:10:03,834:EnsembleBuilder(1):bf9eacd682268f478684eca31b6be667] No models better than random - using Dummy Score!\n",
      "[WARNING] [2020-01-02 08:10:05,840:EnsembleBuilder(1):bf9eacd682268f478684eca31b6be667] No models better than random - using Dummy Score!\n",
      "[WARNING] [2020-01-02 08:10:07,845:EnsembleBuilder(1):bf9eacd682268f478684eca31b6be667] No models better than random - using Dummy Score!\n",
      "[WARNING] [2020-01-02 08:10:09,849:EnsembleBuilder(1):bf9eacd682268f478684eca31b6be667] No models better than random - using Dummy Score!\n",
      "[WARNING] [2020-01-02 08:10:11,853:EnsembleBuilder(1):bf9eacd682268f478684eca31b6be667] No models better than random - using Dummy Score!\n",
      "[WARNING] [2020-01-02 08:10:13,858:EnsembleBuilder(1):bf9eacd682268f478684eca31b6be667] No models better than random - using Dummy Score!\n",
      "[WARNING] [2020-01-02 08:10:15,863:EnsembleBuilder(1):bf9eacd682268f478684eca31b6be667] No models better than random - using Dummy Score!\n",
      "[WARNING] [2020-01-02 08:10:17,868:EnsembleBuilder(1):bf9eacd682268f478684eca31b6be667] No models better than random - using Dummy Score!\n",
      "[WARNING] [2020-01-02 08:10:19,873:EnsembleBuilder(1):bf9eacd682268f478684eca31b6be667] No models better than random - using Dummy Score!\n",
      "[WARNING] [2020-01-02 08:10:21,880:EnsembleBuilder(1):bf9eacd682268f478684eca31b6be667] No models better than random - using Dummy Score!\n",
      "[WARNING] [2020-01-02 08:10:23,885:EnsembleBuilder(1):bf9eacd682268f478684eca31b6be667] No models better than random - using Dummy Score!\n",
      "[WARNING] [2020-01-02 08:10:25,890:EnsembleBuilder(1):bf9eacd682268f478684eca31b6be667] No models better than random - using Dummy Score!\n",
      "[WARNING] [2020-01-02 08:10:27,895:EnsembleBuilder(1):bf9eacd682268f478684eca31b6be667] No models better than random - using Dummy Score!\n",
      "[WARNING] [2020-01-02 08:10:29,900:EnsembleBuilder(1):bf9eacd682268f478684eca31b6be667] No models better than random - using Dummy Score!\n",
      "[WARNING] [2020-01-02 08:10:31,905:EnsembleBuilder(1):bf9eacd682268f478684eca31b6be667] No models better than random - using Dummy Score!\n",
      "[WARNING] [2020-01-02 08:10:33,910:EnsembleBuilder(1):bf9eacd682268f478684eca31b6be667] No models better than random - using Dummy Score!\n",
      "[WARNING] [2020-01-02 08:10:35,914:EnsembleBuilder(1):bf9eacd682268f478684eca31b6be667] No models better than random - using Dummy Score!\n",
      "[WARNING] [2020-01-02 08:10:37,919:EnsembleBuilder(1):bf9eacd682268f478684eca31b6be667] No models better than random - using Dummy Score!\n",
      "[WARNING] [2020-01-02 08:10:39,926:EnsembleBuilder(1):bf9eacd682268f478684eca31b6be667] No models better than random - using Dummy Score!\n",
      "[WARNING] [2020-01-02 08:10:41,931:EnsembleBuilder(1):bf9eacd682268f478684eca31b6be667] No models better than random - using Dummy Score!\n",
      "[WARNING] [2020-01-02 08:10:43,935:EnsembleBuilder(1):bf9eacd682268f478684eca31b6be667] No models better than random - using Dummy Score!\n",
      "[WARNING] [2020-01-02 08:10:45,941:EnsembleBuilder(1):bf9eacd682268f478684eca31b6be667] No models better than random - using Dummy Score!\n",
      "[WARNING] [2020-01-02 08:10:47,945:EnsembleBuilder(1):bf9eacd682268f478684eca31b6be667] No models better than random - using Dummy Score!\n",
      "[WARNING] [2020-01-02 08:10:49,952:EnsembleBuilder(1):bf9eacd682268f478684eca31b6be667] No models better than random - using Dummy Score!\n",
      "[WARNING] [2020-01-02 08:10:51,957:EnsembleBuilder(1):bf9eacd682268f478684eca31b6be667] No models better than random - using Dummy Score!\n",
      "[WARNING] [2020-01-02 08:10:53,962:EnsembleBuilder(1):bf9eacd682268f478684eca31b6be667] No models better than random - using Dummy Score!\n",
      "[WARNING] [2020-01-02 08:10:55,967:EnsembleBuilder(1):bf9eacd682268f478684eca31b6be667] No models better than random - using Dummy Score!\n",
      "[WARNING] [2020-01-02 08:10:57,972:EnsembleBuilder(1):bf9eacd682268f478684eca31b6be667] No models better than random - using Dummy Score!\n",
      "[WARNING] [2020-01-02 08:10:59,977:EnsembleBuilder(1):bf9eacd682268f478684eca31b6be667] No models better than random - using Dummy Score!\n",
      "[WARNING] [2020-01-02 08:11:01,981:EnsembleBuilder(1):bf9eacd682268f478684eca31b6be667] No models better than random - using Dummy Score!\n",
      "[WARNING] [2020-01-02 08:11:03,987:EnsembleBuilder(1):bf9eacd682268f478684eca31b6be667] No models better than random - using Dummy Score!\n",
      "[WARNING] [2020-01-02 08:11:05,992:EnsembleBuilder(1):bf9eacd682268f478684eca31b6be667] No models better than random - using Dummy Score!\n",
      "[WARNING] [2020-01-02 08:11:07,996:EnsembleBuilder(1):bf9eacd682268f478684eca31b6be667] No models better than random - using Dummy Score!\n",
      "[WARNING] [2020-01-02 08:11:10,001:EnsembleBuilder(1):bf9eacd682268f478684eca31b6be667] No models better than random - using Dummy Score!\n",
      "[WARNING] [2020-01-02 08:11:12,006:EnsembleBuilder(1):bf9eacd682268f478684eca31b6be667] No models better than random - using Dummy Score!\n",
      "[WARNING] [2020-01-02 08:11:14,011:EnsembleBuilder(1):bf9eacd682268f478684eca31b6be667] No models better than random - using Dummy Score!\n",
      "[WARNING] [2020-01-02 08:11:16,016:EnsembleBuilder(1):bf9eacd682268f478684eca31b6be667] No models better than random - using Dummy Score!\n",
      "[WARNING] [2020-01-02 08:11:18,023:EnsembleBuilder(1):bf9eacd682268f478684eca31b6be667] No models better than random - using Dummy Score!\n",
      "[WARNING] [2020-01-02 08:11:20,029:EnsembleBuilder(1):bf9eacd682268f478684eca31b6be667] No models better than random - using Dummy Score!\n",
      "[WARNING] [2020-01-02 08:11:22,033:EnsembleBuilder(1):bf9eacd682268f478684eca31b6be667] No models better than random - using Dummy Score!\n",
      "[WARNING] [2020-01-02 08:11:24,038:EnsembleBuilder(1):bf9eacd682268f478684eca31b6be667] No models better than random - using Dummy Score!\n",
      "[WARNING] [2020-01-02 08:11:26,044:EnsembleBuilder(1):bf9eacd682268f478684eca31b6be667] No models better than random - using Dummy Score!\n",
      "[WARNING] [2020-01-02 08:11:28,049:EnsembleBuilder(1):bf9eacd682268f478684eca31b6be667] No models better than random - using Dummy Score!\n",
      "[WARNING] [2020-01-02 08:11:30,054:EnsembleBuilder(1):bf9eacd682268f478684eca31b6be667] No models better than random - using Dummy Score!\n",
      "[WARNING] [2020-01-02 08:11:32,060:EnsembleBuilder(1):bf9eacd682268f478684eca31b6be667] No models better than random - using Dummy Score!\n",
      "[WARNING] [2020-01-02 08:11:34,065:EnsembleBuilder(1):bf9eacd682268f478684eca31b6be667] No models better than random - using Dummy Score!\n",
      "[WARNING] [2020-01-02 08:11:36,070:EnsembleBuilder(1):bf9eacd682268f478684eca31b6be667] No models better than random - using Dummy Score!\n",
      "[WARNING] [2020-01-02 08:11:38,075:EnsembleBuilder(1):bf9eacd682268f478684eca31b6be667] No models better than random - using Dummy Score!\n",
      "[WARNING] [2020-01-02 08:11:40,080:EnsembleBuilder(1):bf9eacd682268f478684eca31b6be667] No models better than random - using Dummy Score!\n",
      "[WARNING] [2020-01-02 08:11:42,085:EnsembleBuilder(1):bf9eacd682268f478684eca31b6be667] No models better than random - using Dummy Score!\n"
     ]
    },
    {
     "name": "stdout",
     "output_type": "stream",
     "text": [
      "[WARNING] [2020-01-02 08:11:44,090:EnsembleBuilder(1):bf9eacd682268f478684eca31b6be667] No models better than random - using Dummy Score!\n",
      "[WARNING] [2020-01-02 08:11:46,095:EnsembleBuilder(1):bf9eacd682268f478684eca31b6be667] No models better than random - using Dummy Score!\n",
      "[WARNING] [2020-01-02 08:11:48,099:EnsembleBuilder(1):bf9eacd682268f478684eca31b6be667] No models better than random - using Dummy Score!\n",
      "[WARNING] [2020-01-02 08:11:50,104:EnsembleBuilder(1):bf9eacd682268f478684eca31b6be667] No models better than random - using Dummy Score!\n",
      "[WARNING] [2020-01-02 08:11:52,109:EnsembleBuilder(1):bf9eacd682268f478684eca31b6be667] No models better than random - using Dummy Score!\n",
      "[WARNING] [2020-01-02 08:11:54,114:EnsembleBuilder(1):bf9eacd682268f478684eca31b6be667] No models better than random - using Dummy Score!\n",
      "[WARNING] [2020-01-02 08:11:56,119:EnsembleBuilder(1):bf9eacd682268f478684eca31b6be667] No models better than random - using Dummy Score!\n",
      "[WARNING] [2020-01-02 08:11:58,124:EnsembleBuilder(1):bf9eacd682268f478684eca31b6be667] No models better than random - using Dummy Score!\n",
      "[WARNING] [2020-01-02 08:12:00,129:EnsembleBuilder(1):bf9eacd682268f478684eca31b6be667] No models better than random - using Dummy Score!\n",
      "[WARNING] [2020-01-02 08:12:02,134:EnsembleBuilder(1):bf9eacd682268f478684eca31b6be667] No models better than random - using Dummy Score!\n",
      "[WARNING] [2020-01-02 08:12:04,139:EnsembleBuilder(1):bf9eacd682268f478684eca31b6be667] No models better than random - using Dummy Score!\n",
      "[WARNING] [2020-01-02 08:12:06,144:EnsembleBuilder(1):bf9eacd682268f478684eca31b6be667] No models better than random - using Dummy Score!\n",
      "[WARNING] [2020-01-02 08:12:08,148:EnsembleBuilder(1):bf9eacd682268f478684eca31b6be667] No models better than random - using Dummy Score!\n",
      "[WARNING] [2020-01-02 08:12:10,153:EnsembleBuilder(1):bf9eacd682268f478684eca31b6be667] No models better than random - using Dummy Score!\n",
      "[WARNING] [2020-01-02 08:12:12,158:EnsembleBuilder(1):bf9eacd682268f478684eca31b6be667] No models better than random - using Dummy Score!\n",
      "[WARNING] [2020-01-02 08:12:14,163:EnsembleBuilder(1):bf9eacd682268f478684eca31b6be667] No models better than random - using Dummy Score!\n",
      "[WARNING] [2020-01-02 08:12:16,167:EnsembleBuilder(1):bf9eacd682268f478684eca31b6be667] No models better than random - using Dummy Score!\n",
      "[WARNING] [2020-01-02 08:12:18,173:EnsembleBuilder(1):bf9eacd682268f478684eca31b6be667] No models better than random - using Dummy Score!\n",
      "[WARNING] [2020-01-02 08:12:20,177:EnsembleBuilder(1):bf9eacd682268f478684eca31b6be667] No models better than random - using Dummy Score!\n",
      "[WARNING] [2020-01-02 08:12:22,182:EnsembleBuilder(1):bf9eacd682268f478684eca31b6be667] No models better than random - using Dummy Score!\n",
      "[WARNING] [2020-01-02 08:12:24,188:EnsembleBuilder(1):bf9eacd682268f478684eca31b6be667] No models better than random - using Dummy Score!\n",
      "[WARNING] [2020-01-02 08:12:26,196:EnsembleBuilder(1):bf9eacd682268f478684eca31b6be667] No models better than random - using Dummy Score!\n",
      "[WARNING] [2020-01-02 08:12:28,200:EnsembleBuilder(1):bf9eacd682268f478684eca31b6be667] No models better than random - using Dummy Score!\n",
      "[WARNING] [2020-01-02 08:12:30,205:EnsembleBuilder(1):bf9eacd682268f478684eca31b6be667] No models better than random - using Dummy Score!\n",
      "[WARNING] [2020-01-02 08:12:32,210:EnsembleBuilder(1):bf9eacd682268f478684eca31b6be667] No models better than random - using Dummy Score!\n",
      "[WARNING] [2020-01-02 08:12:34,216:EnsembleBuilder(1):bf9eacd682268f478684eca31b6be667] No models better than random - using Dummy Score!\n",
      "[WARNING] [2020-01-02 08:12:36,222:EnsembleBuilder(1):bf9eacd682268f478684eca31b6be667] No models better than random - using Dummy Score!\n",
      "1\n",
      "['/tmp/autosklearn_tmp_4664_286/.auto-sklearn/ensembles/1.0000000000.ensemble']\n",
      "Time:295.874688\n",
      "Accuracy score 0.11571916744330538\n"
     ]
    }
   ],
   "source": [
    "import autosklearn.classification\n",
    "#rawdata\n",
    "t1 = datetime.datetime.now()\n",
    "automl = autosklearn.classification.AutoSklearnClassifier(time_left_for_this_task=300, \n",
    "                                                          per_run_time_limit=100,ensemble_memory_limit=10000, seed=1, ml_memory_limit=10000)\n",
    "automl.fit(X_train, Y_train)\n",
    "y_hat = automl.predict(X_test)\n",
    "t2 = datetime.datetime.now()\n",
    "print(\"Time:\" + str((t2 - t1).total_seconds()))\n",
    "print(\"Accuracy score\", accuracy_score(Y_test, y_hat))\n",
    "\n",
    "#automl.cv_results_\n",
    "\n",
    "#automl.sprint_statistics()\n",
    "\n",
    "#automl.show_models()\n"
   ]
  },
  {
   "cell_type": "code",
   "execution_count": null,
   "metadata": {},
   "outputs": [],
   "source": [
    "accuracy_score(Y_test, y_hat)"
   ]
  },
  {
   "cell_type": "code",
   "execution_count": 9,
   "metadata": {},
   "outputs": [
    {
     "data": {
      "text/plain": [
       "'auto-sklearn results:\\n  Dataset name: bf9eacd682268f478684eca31b6be667\\n  Metric: accuracy\\n  Best validation score: 0.564282\\n  Number of target algorithm runs: 6\\n  Number of successful target algorithm runs: 1\\n  Number of crashed target algorithm runs: 3\\n  Number of target algorithms that exceeded the time limit: 2\\n  Number of target algorithms that exceeded the memory limit: 0\\n'"
      ]
     },
     "execution_count": 9,
     "metadata": {},
     "output_type": "execute_result"
    }
   ],
   "source": [
    "automl.sprint_statistics()"
   ]
  },
  {
   "cell_type": "code",
   "execution_count": null,
   "metadata": {},
   "outputs": [],
   "source": []
  }
 ],
 "metadata": {
  "kernelspec": {
   "display_name": "Python 3.5",
   "language": "python",
   "name": "python3"
  },
  "language_info": {
   "codemirror_mode": {
    "name": "ipython",
    "version": 3
   },
   "file_extension": ".py",
   "mimetype": "text/x-python",
   "name": "python",
   "nbconvert_exporter": "python",
   "pygments_lexer": "ipython3",
   "version": "3.5.6"
  }
 },
 "nbformat": 4,
 "nbformat_minor": 2
}
