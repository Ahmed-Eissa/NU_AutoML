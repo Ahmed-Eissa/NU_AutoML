{
 "cells": [
  {
   "cell_type": "code",
   "execution_count": 1,
   "metadata": {},
   "outputs": [
    {
     "name": "stdout",
     "output_type": "stream",
     "text": [
      "The scikit-learn version is 0.19.2.\n",
      "The Auto scikit-learn version is 0.5.2.\n"
     ]
    },
    {
     "name": "stderr",
     "output_type": "stream",
     "text": [
      "/anaconda/envs/py35/lib/python3.5/site-packages/sklearn/ensemble/weight_boosting.py:29: DeprecationWarning: numpy.core.umath_tests is an internal NumPy module and should not be imported. It will be removed in a future NumPy release.\n",
      "  from numpy.core.umath_tests import inner1d\n"
     ]
    }
   ],
   "source": [
    "#import needed package\n",
    "#---------------------------------------------------------\n",
    "import pandas as pd\n",
    "import numpy as np\n",
    "import sklearn\n",
    "import autosklearn\n",
    "from sklearn import preprocessing\n",
    "from sklearn.preprocessing import LabelEncoder \n",
    "from sklearn.metrics import accuracy_score\n",
    "import datetime\n",
    "print('The scikit-learn version is {}.'.format(sklearn.__version__))\n",
    "import autosklearn.classification\n",
    "print('The Auto scikit-learn version is {}.'.format(autosklearn.__version__))"
   ]
  },
  {
   "cell_type": "code",
   "execution_count": 2,
   "metadata": {},
   "outputs": [
    {
     "data": {
      "text/plain": [
       "(64000, 1030)"
      ]
     },
     "execution_count": 2,
     "metadata": {},
     "output_type": "execute_result"
    }
   ],
   "source": [
    "\n",
    "#Load Data from CSV\n",
    "#--------------------------------------------------------\n",
    "filepath = '/data/home/eissa/Downloads/datasets_46-housenumbers.csv'\n",
    "rawdata = pd.read_csv( filepath ,  sep=','  ,  low_memory=False )\n",
    "\n",
    "label = 'y4'\n",
    "rawdata.shape"
   ]
  },
  {
   "cell_type": "code",
   "execution_count": 3,
   "metadata": {},
   "outputs": [],
   "source": [
    "#Categorical feature encoding\n",
    "#--------------------------------------------------------\n",
    "rawdata = rawdata.drop( 'y0' , 1)\n",
    "rawdata = rawdata.drop( 'y1' , 1)\n",
    "rawdata = rawdata.drop( 'y2' , 1)\n",
    "rawdata = rawdata.drop( 'y3' , 1)\n",
    "rawdata = rawdata.drop( 'filename' , 1)"
   ]
  },
  {
   "cell_type": "code",
   "execution_count": 4,
   "metadata": {},
   "outputs": [],
   "source": [
    "label = 'y4'\n",
    "rawdata[[label]] = rawdata[[label]].astype(int)"
   ]
  },
  {
   "cell_type": "code",
   "execution_count": 5,
   "metadata": {},
   "outputs": [],
   "source": [
    "# split data into Testing and training\n",
    "# ---------------------------------------------------------------------------------------------------------------------\n",
    "np.random.seed(1234)\n",
    "msk = np.random.rand(len(rawdata)) < 0.8\n",
    "training_data = rawdata[msk]\n",
    "Testing_data = rawdata[~msk]\n",
    "\n",
    "X_train = training_data.loc[:, training_data.columns != label]\n",
    "Y_train = training_data.loc[:, training_data.columns == label]\n",
    "\n",
    "X_test = Testing_data.loc[:, Testing_data.columns != label]\n",
    "Y_test = Testing_data.loc[:, Testing_data.columns == label]"
   ]
  },
  {
   "cell_type": "code",
   "execution_count": 8,
   "metadata": {},
   "outputs": [
    {
     "name": "stderr",
     "output_type": "stream",
     "text": [
      "/anaconda/envs/py35/lib/python3.5/site-packages/autosklearn/automl.py:887: DataConversionWarning: A column-vector y was passed when a 1d array was expected. Will change shape via np.ravel().\n",
      "  y = self._check_y(y)\n",
      "/anaconda/envs/py35/lib/python3.5/site-packages/autosklearn/evaluation/train_evaluator.py:197: RuntimeWarning: Mean of empty slice\n",
      "  Y_train_pred = np.nanmean(Y_train_pred_full, axis=0)\n"
     ]
    },
    {
     "name": "stdout",
     "output_type": "stream",
     "text": [
      "[WARNING] [2020-01-07 15:33:50,026:EnsembleBuilder(1):bf9eacd682268f478684eca31b6be667] No models better than random - using Dummy Score!\n",
      "[WARNING] [2020-01-07 15:33:50,051:EnsembleBuilder(1):bf9eacd682268f478684eca31b6be667] No models better than random - using Dummy Score!\n",
      "Time limit for a single run is higher than total time limit. Capping the limit for a single run to the total time given to SMAC (294.403419)\n",
      "[WARNING] [2020-01-07 15:33:52,058:EnsembleBuilder(1):bf9eacd682268f478684eca31b6be667] No models better than random - using Dummy Score!\n",
      "[WARNING] [2020-01-07 15:33:54,066:EnsembleBuilder(1):bf9eacd682268f478684eca31b6be667] No models better than random - using Dummy Score!\n",
      "[WARNING] [2020-01-07 15:33:56,074:EnsembleBuilder(1):bf9eacd682268f478684eca31b6be667] No models better than random - using Dummy Score!\n",
      "[WARNING] [2020-01-07 15:33:58,081:EnsembleBuilder(1):bf9eacd682268f478684eca31b6be667] No models better than random - using Dummy Score!\n",
      "[WARNING] [2020-01-07 15:34:00,088:EnsembleBuilder(1):bf9eacd682268f478684eca31b6be667] No models better than random - using Dummy Score!\n",
      "[WARNING] [2020-01-07 15:34:02,095:EnsembleBuilder(1):bf9eacd682268f478684eca31b6be667] No models better than random - using Dummy Score!\n",
      "[WARNING] [2020-01-07 15:34:04,102:EnsembleBuilder(1):bf9eacd682268f478684eca31b6be667] No models better than random - using Dummy Score!\n",
      "[WARNING] [2020-01-07 15:34:06,109:EnsembleBuilder(1):bf9eacd682268f478684eca31b6be667] No models better than random - using Dummy Score!\n",
      "[WARNING] [2020-01-07 15:34:08,116:EnsembleBuilder(1):bf9eacd682268f478684eca31b6be667] No models better than random - using Dummy Score!\n",
      "[WARNING] [2020-01-07 15:34:10,123:EnsembleBuilder(1):bf9eacd682268f478684eca31b6be667] No models better than random - using Dummy Score!\n",
      "[WARNING] [2020-01-07 15:34:12,129:EnsembleBuilder(1):bf9eacd682268f478684eca31b6be667] No models better than random - using Dummy Score!\n",
      "[WARNING] [2020-01-07 15:34:14,136:EnsembleBuilder(1):bf9eacd682268f478684eca31b6be667] No models better than random - using Dummy Score!\n",
      "[WARNING] [2020-01-07 15:34:16,143:EnsembleBuilder(1):bf9eacd682268f478684eca31b6be667] No models better than random - using Dummy Score!\n",
      "[WARNING] [2020-01-07 15:34:18,151:EnsembleBuilder(1):bf9eacd682268f478684eca31b6be667] No models better than random - using Dummy Score!\n",
      "[WARNING] [2020-01-07 15:34:20,158:EnsembleBuilder(1):bf9eacd682268f478684eca31b6be667] No models better than random - using Dummy Score!\n",
      "[WARNING] [2020-01-07 15:34:22,165:EnsembleBuilder(1):bf9eacd682268f478684eca31b6be667] No models better than random - using Dummy Score!\n",
      "[WARNING] [2020-01-07 15:34:24,171:EnsembleBuilder(1):bf9eacd682268f478684eca31b6be667] No models better than random - using Dummy Score!\n",
      "[WARNING] [2020-01-07 15:34:26,178:EnsembleBuilder(1):bf9eacd682268f478684eca31b6be667] No models better than random - using Dummy Score!\n",
      "[WARNING] [2020-01-07 15:34:28,184:EnsembleBuilder(1):bf9eacd682268f478684eca31b6be667] No models better than random - using Dummy Score!\n",
      "[WARNING] [2020-01-07 15:34:30,191:EnsembleBuilder(1):bf9eacd682268f478684eca31b6be667] No models better than random - using Dummy Score!\n",
      "[WARNING] [2020-01-07 15:34:32,198:EnsembleBuilder(1):bf9eacd682268f478684eca31b6be667] No models better than random - using Dummy Score!\n",
      "[WARNING] [2020-01-07 15:34:34,204:EnsembleBuilder(1):bf9eacd682268f478684eca31b6be667] No models better than random - using Dummy Score!\n",
      "[WARNING] [2020-01-07 15:34:36,211:EnsembleBuilder(1):bf9eacd682268f478684eca31b6be667] No models better than random - using Dummy Score!\n",
      "[WARNING] [2020-01-07 15:34:38,218:EnsembleBuilder(1):bf9eacd682268f478684eca31b6be667] No models better than random - using Dummy Score!\n",
      "[WARNING] [2020-01-07 15:34:40,225:EnsembleBuilder(1):bf9eacd682268f478684eca31b6be667] No models better than random - using Dummy Score!\n",
      "[WARNING] [2020-01-07 15:34:42,232:EnsembleBuilder(1):bf9eacd682268f478684eca31b6be667] No models better than random - using Dummy Score!\n",
      "[WARNING] [2020-01-07 15:34:44,239:EnsembleBuilder(1):bf9eacd682268f478684eca31b6be667] No models better than random - using Dummy Score!\n",
      "[WARNING] [2020-01-07 15:34:46,246:EnsembleBuilder(1):bf9eacd682268f478684eca31b6be667] No models better than random - using Dummy Score!\n",
      "[WARNING] [2020-01-07 15:34:48,252:EnsembleBuilder(1):bf9eacd682268f478684eca31b6be667] No models better than random - using Dummy Score!\n",
      "[WARNING] [2020-01-07 15:34:50,258:EnsembleBuilder(1):bf9eacd682268f478684eca31b6be667] No models better than random - using Dummy Score!\n",
      "[WARNING] [2020-01-07 15:34:52,266:EnsembleBuilder(1):bf9eacd682268f478684eca31b6be667] No models better than random - using Dummy Score!\n",
      "[WARNING] [2020-01-07 15:34:54,273:EnsembleBuilder(1):bf9eacd682268f478684eca31b6be667] No models better than random - using Dummy Score!\n",
      "[WARNING] [2020-01-07 15:34:56,280:EnsembleBuilder(1):bf9eacd682268f478684eca31b6be667] No models better than random - using Dummy Score!\n",
      "[WARNING] [2020-01-07 15:34:58,286:EnsembleBuilder(1):bf9eacd682268f478684eca31b6be667] No models better than random - using Dummy Score!\n",
      "[WARNING] [2020-01-07 15:35:00,294:EnsembleBuilder(1):bf9eacd682268f478684eca31b6be667] No models better than random - using Dummy Score!\n",
      "[WARNING] [2020-01-07 15:35:02,301:EnsembleBuilder(1):bf9eacd682268f478684eca31b6be667] No models better than random - using Dummy Score!\n",
      "[WARNING] [2020-01-07 15:35:04,307:EnsembleBuilder(1):bf9eacd682268f478684eca31b6be667] No models better than random - using Dummy Score!\n",
      "[WARNING] [2020-01-07 15:35:06,313:EnsembleBuilder(1):bf9eacd682268f478684eca31b6be667] No models better than random - using Dummy Score!\n",
      "[WARNING] [2020-01-07 15:35:08,319:EnsembleBuilder(1):bf9eacd682268f478684eca31b6be667] No models better than random - using Dummy Score!\n",
      "[WARNING] [2020-01-07 15:35:10,326:EnsembleBuilder(1):bf9eacd682268f478684eca31b6be667] No models better than random - using Dummy Score!\n",
      "[WARNING] [2020-01-07 15:35:12,333:EnsembleBuilder(1):bf9eacd682268f478684eca31b6be667] No models better than random - using Dummy Score!\n",
      "[WARNING] [2020-01-07 15:35:14,340:EnsembleBuilder(1):bf9eacd682268f478684eca31b6be667] No models better than random - using Dummy Score!\n",
      "[WARNING] [2020-01-07 15:35:16,347:EnsembleBuilder(1):bf9eacd682268f478684eca31b6be667] No models better than random - using Dummy Score!\n",
      "[WARNING] [2020-01-07 15:35:18,354:EnsembleBuilder(1):bf9eacd682268f478684eca31b6be667] No models better than random - using Dummy Score!\n",
      "[WARNING] [2020-01-07 15:35:20,360:EnsembleBuilder(1):bf9eacd682268f478684eca31b6be667] No models better than random - using Dummy Score!\n",
      "[WARNING] [2020-01-07 15:35:22,367:EnsembleBuilder(1):bf9eacd682268f478684eca31b6be667] No models better than random - using Dummy Score!\n",
      "[WARNING] [2020-01-07 15:35:24,373:EnsembleBuilder(1):bf9eacd682268f478684eca31b6be667] No models better than random - using Dummy Score!\n",
      "[WARNING] [2020-01-07 15:35:26,379:EnsembleBuilder(1):bf9eacd682268f478684eca31b6be667] No models better than random - using Dummy Score!\n",
      "[WARNING] [2020-01-07 15:35:28,386:EnsembleBuilder(1):bf9eacd682268f478684eca31b6be667] No models better than random - using Dummy Score!\n",
      "[WARNING] [2020-01-07 15:35:30,393:EnsembleBuilder(1):bf9eacd682268f478684eca31b6be667] No models better than random - using Dummy Score!\n",
      "[WARNING] [2020-01-07 15:35:32,402:EnsembleBuilder(1):bf9eacd682268f478684eca31b6be667] No models better than random - using Dummy Score!\n",
      "[WARNING] [2020-01-07 15:35:34,409:EnsembleBuilder(1):bf9eacd682268f478684eca31b6be667] No models better than random - using Dummy Score!\n",
      "[WARNING] [2020-01-07 15:35:36,416:EnsembleBuilder(1):bf9eacd682268f478684eca31b6be667] No models better than random - using Dummy Score!\n",
      "[WARNING] [2020-01-07 15:35:38,421:EnsembleBuilder(1):bf9eacd682268f478684eca31b6be667] No models better than random - using Dummy Score!\n",
      "[WARNING] [2020-01-07 15:35:40,428:EnsembleBuilder(1):bf9eacd682268f478684eca31b6be667] No models better than random - using Dummy Score!\n",
      "[WARNING] [2020-01-07 15:35:42,434:EnsembleBuilder(1):bf9eacd682268f478684eca31b6be667] No models better than random - using Dummy Score!\n",
      "[WARNING] [2020-01-07 15:35:44,441:EnsembleBuilder(1):bf9eacd682268f478684eca31b6be667] No models better than random - using Dummy Score!\n"
     ]
    },
    {
     "name": "stdout",
     "output_type": "stream",
     "text": [
      "[WARNING] [2020-01-07 15:35:46,448:EnsembleBuilder(1):bf9eacd682268f478684eca31b6be667] No models better than random - using Dummy Score!\n",
      "[WARNING] [2020-01-07 15:35:48,455:EnsembleBuilder(1):bf9eacd682268f478684eca31b6be667] No models better than random - using Dummy Score!\n",
      "[WARNING] [2020-01-07 15:35:50,462:EnsembleBuilder(1):bf9eacd682268f478684eca31b6be667] No models better than random - using Dummy Score!\n",
      "[WARNING] [2020-01-07 15:35:52,469:EnsembleBuilder(1):bf9eacd682268f478684eca31b6be667] No models better than random - using Dummy Score!\n",
      "[WARNING] [2020-01-07 15:35:54,475:EnsembleBuilder(1):bf9eacd682268f478684eca31b6be667] No models better than random - using Dummy Score!\n",
      "[WARNING] [2020-01-07 15:35:56,484:EnsembleBuilder(1):bf9eacd682268f478684eca31b6be667] No models better than random - using Dummy Score!\n",
      "[WARNING] [2020-01-07 15:35:58,491:EnsembleBuilder(1):bf9eacd682268f478684eca31b6be667] No models better than random - using Dummy Score!\n",
      "[WARNING] [2020-01-07 15:36:00,498:EnsembleBuilder(1):bf9eacd682268f478684eca31b6be667] No models better than random - using Dummy Score!\n",
      "[WARNING] [2020-01-07 15:36:02,505:EnsembleBuilder(1):bf9eacd682268f478684eca31b6be667] No models better than random - using Dummy Score!\n",
      "[WARNING] [2020-01-07 15:36:04,512:EnsembleBuilder(1):bf9eacd682268f478684eca31b6be667] No models better than random - using Dummy Score!\n",
      "[WARNING] [2020-01-07 15:36:06,519:EnsembleBuilder(1):bf9eacd682268f478684eca31b6be667] No models better than random - using Dummy Score!\n",
      "[WARNING] [2020-01-07 15:36:08,525:EnsembleBuilder(1):bf9eacd682268f478684eca31b6be667] No models better than random - using Dummy Score!\n",
      "[WARNING] [2020-01-07 15:36:10,532:EnsembleBuilder(1):bf9eacd682268f478684eca31b6be667] No models better than random - using Dummy Score!\n",
      "[WARNING] [2020-01-07 15:36:12,539:EnsembleBuilder(1):bf9eacd682268f478684eca31b6be667] No models better than random - using Dummy Score!\n",
      "[WARNING] [2020-01-07 15:36:14,546:EnsembleBuilder(1):bf9eacd682268f478684eca31b6be667] No models better than random - using Dummy Score!\n",
      "[WARNING] [2020-01-07 15:36:16,553:EnsembleBuilder(1):bf9eacd682268f478684eca31b6be667] No models better than random - using Dummy Score!\n",
      "[WARNING] [2020-01-07 15:36:18,563:EnsembleBuilder(1):bf9eacd682268f478684eca31b6be667] No models better than random - using Dummy Score!\n",
      "[WARNING] [2020-01-07 15:36:20,569:EnsembleBuilder(1):bf9eacd682268f478684eca31b6be667] No models better than random - using Dummy Score!\n",
      "[WARNING] [2020-01-07 15:36:22,576:EnsembleBuilder(1):bf9eacd682268f478684eca31b6be667] No models better than random - using Dummy Score!\n",
      "[WARNING] [2020-01-07 15:36:24,584:EnsembleBuilder(1):bf9eacd682268f478684eca31b6be667] No models better than random - using Dummy Score!\n",
      "[WARNING] [2020-01-07 15:36:26,590:EnsembleBuilder(1):bf9eacd682268f478684eca31b6be667] No models better than random - using Dummy Score!\n",
      "[WARNING] [2020-01-07 15:36:28,597:EnsembleBuilder(1):bf9eacd682268f478684eca31b6be667] No models better than random - using Dummy Score!\n",
      "[WARNING] [2020-01-07 15:36:30,604:EnsembleBuilder(1):bf9eacd682268f478684eca31b6be667] No models better than random - using Dummy Score!\n",
      "[WARNING] [2020-01-07 15:36:32,611:EnsembleBuilder(1):bf9eacd682268f478684eca31b6be667] No models better than random - using Dummy Score!\n",
      "[WARNING] [2020-01-07 15:36:34,618:EnsembleBuilder(1):bf9eacd682268f478684eca31b6be667] No models better than random - using Dummy Score!\n",
      "[WARNING] [2020-01-07 15:36:36,625:EnsembleBuilder(1):bf9eacd682268f478684eca31b6be667] No models better than random - using Dummy Score!\n",
      "[WARNING] [2020-01-07 15:36:38,631:EnsembleBuilder(1):bf9eacd682268f478684eca31b6be667] No models better than random - using Dummy Score!\n",
      "[WARNING] [2020-01-07 15:36:40,638:EnsembleBuilder(1):bf9eacd682268f478684eca31b6be667] No models better than random - using Dummy Score!\n",
      "[WARNING] [2020-01-07 15:36:42,645:EnsembleBuilder(1):bf9eacd682268f478684eca31b6be667] No models better than random - using Dummy Score!\n",
      "[WARNING] [2020-01-07 15:36:44,651:EnsembleBuilder(1):bf9eacd682268f478684eca31b6be667] No models better than random - using Dummy Score!\n",
      "[WARNING] [2020-01-07 15:36:46,658:EnsembleBuilder(1):bf9eacd682268f478684eca31b6be667] No models better than random - using Dummy Score!\n",
      "[WARNING] [2020-01-07 15:36:48,665:EnsembleBuilder(1):bf9eacd682268f478684eca31b6be667] No models better than random - using Dummy Score!\n",
      "[WARNING] [2020-01-07 15:36:50,672:EnsembleBuilder(1):bf9eacd682268f478684eca31b6be667] No models better than random - using Dummy Score!\n",
      "[WARNING] [2020-01-07 15:36:52,679:EnsembleBuilder(1):bf9eacd682268f478684eca31b6be667] No models better than random - using Dummy Score!\n",
      "[WARNING] [2020-01-07 15:36:54,686:EnsembleBuilder(1):bf9eacd682268f478684eca31b6be667] No models better than random - using Dummy Score!\n",
      "[WARNING] [2020-01-07 15:36:56,693:EnsembleBuilder(1):bf9eacd682268f478684eca31b6be667] No models better than random - using Dummy Score!\n",
      "[WARNING] [2020-01-07 15:36:58,700:EnsembleBuilder(1):bf9eacd682268f478684eca31b6be667] No models better than random - using Dummy Score!\n",
      "[WARNING] [2020-01-07 15:37:00,705:EnsembleBuilder(1):bf9eacd682268f478684eca31b6be667] No models better than random - using Dummy Score!\n",
      "[WARNING] [2020-01-07 15:37:02,712:EnsembleBuilder(1):bf9eacd682268f478684eca31b6be667] No models better than random - using Dummy Score!\n",
      "[WARNING] [2020-01-07 15:37:04,719:EnsembleBuilder(1):bf9eacd682268f478684eca31b6be667] No models better than random - using Dummy Score!\n",
      "[WARNING] [2020-01-07 15:37:06,726:EnsembleBuilder(1):bf9eacd682268f478684eca31b6be667] No models better than random - using Dummy Score!\n",
      "[WARNING] [2020-01-07 15:37:08,733:EnsembleBuilder(1):bf9eacd682268f478684eca31b6be667] No models better than random - using Dummy Score!\n",
      "[WARNING] [2020-01-07 15:37:10,739:EnsembleBuilder(1):bf9eacd682268f478684eca31b6be667] No models better than random - using Dummy Score!\n",
      "[WARNING] [2020-01-07 15:37:12,746:EnsembleBuilder(1):bf9eacd682268f478684eca31b6be667] No models better than random - using Dummy Score!\n",
      "[WARNING] [2020-01-07 15:37:14,753:EnsembleBuilder(1):bf9eacd682268f478684eca31b6be667] No models better than random - using Dummy Score!\n",
      "[WARNING] [2020-01-07 15:37:16,761:EnsembleBuilder(1):bf9eacd682268f478684eca31b6be667] No models better than random - using Dummy Score!\n",
      "[WARNING] [2020-01-07 15:37:18,767:EnsembleBuilder(1):bf9eacd682268f478684eca31b6be667] No models better than random - using Dummy Score!\n",
      "[WARNING] [2020-01-07 15:37:20,774:EnsembleBuilder(1):bf9eacd682268f478684eca31b6be667] No models better than random - using Dummy Score!\n",
      "[WARNING] [2020-01-07 15:37:22,783:EnsembleBuilder(1):bf9eacd682268f478684eca31b6be667] No models better than random - using Dummy Score!\n",
      "[WARNING] [2020-01-07 15:37:24,789:EnsembleBuilder(1):bf9eacd682268f478684eca31b6be667] No models better than random - using Dummy Score!\n",
      "[WARNING] [2020-01-07 15:37:26,796:EnsembleBuilder(1):bf9eacd682268f478684eca31b6be667] No models better than random - using Dummy Score!\n",
      "[WARNING] [2020-01-07 15:37:28,803:EnsembleBuilder(1):bf9eacd682268f478684eca31b6be667] No models better than random - using Dummy Score!\n",
      "[WARNING] [2020-01-07 15:37:30,809:EnsembleBuilder(1):bf9eacd682268f478684eca31b6be667] No models better than random - using Dummy Score!\n",
      "[WARNING] [2020-01-07 15:37:32,817:EnsembleBuilder(1):bf9eacd682268f478684eca31b6be667] No models better than random - using Dummy Score!\n",
      "[WARNING] [2020-01-07 15:37:34,823:EnsembleBuilder(1):bf9eacd682268f478684eca31b6be667] No models better than random - using Dummy Score!\n",
      "[WARNING] [2020-01-07 15:37:36,830:EnsembleBuilder(1):bf9eacd682268f478684eca31b6be667] No models better than random - using Dummy Score!\n",
      "[WARNING] [2020-01-07 15:37:38,837:EnsembleBuilder(1):bf9eacd682268f478684eca31b6be667] No models better than random - using Dummy Score!\n",
      "[WARNING] [2020-01-07 15:37:40,845:EnsembleBuilder(1):bf9eacd682268f478684eca31b6be667] No models better than random - using Dummy Score!\n",
      "[WARNING] [2020-01-07 15:37:42,852:EnsembleBuilder(1):bf9eacd682268f478684eca31b6be667] No models better than random - using Dummy Score!\n",
      "[WARNING] [2020-01-07 15:37:44,859:EnsembleBuilder(1):bf9eacd682268f478684eca31b6be667] No models better than random - using Dummy Score!\n"
     ]
    },
    {
     "name": "stdout",
     "output_type": "stream",
     "text": [
      "[WARNING] [2020-01-07 15:37:46,866:EnsembleBuilder(1):bf9eacd682268f478684eca31b6be667] No models better than random - using Dummy Score!\n",
      "[WARNING] [2020-01-07 15:37:48,873:EnsembleBuilder(1):bf9eacd682268f478684eca31b6be667] No models better than random - using Dummy Score!\n",
      "[WARNING] [2020-01-07 15:37:50,881:EnsembleBuilder(1):bf9eacd682268f478684eca31b6be667] No models better than random - using Dummy Score!\n",
      "[WARNING] [2020-01-07 15:37:52,886:EnsembleBuilder(1):bf9eacd682268f478684eca31b6be667] No models better than random - using Dummy Score!\n",
      "[WARNING] [2020-01-07 15:37:54,895:EnsembleBuilder(1):bf9eacd682268f478684eca31b6be667] No models better than random - using Dummy Score!\n",
      "[WARNING] [2020-01-07 15:37:56,902:EnsembleBuilder(1):bf9eacd682268f478684eca31b6be667] No models better than random - using Dummy Score!\n",
      "[WARNING] [2020-01-07 15:37:58,909:EnsembleBuilder(1):bf9eacd682268f478684eca31b6be667] No models better than random - using Dummy Score!\n",
      "[WARNING] [2020-01-07 15:38:00,915:EnsembleBuilder(1):bf9eacd682268f478684eca31b6be667] No models better than random - using Dummy Score!\n",
      "[WARNING] [2020-01-07 15:38:02,921:EnsembleBuilder(1):bf9eacd682268f478684eca31b6be667] No models better than random - using Dummy Score!\n",
      "[WARNING] [2020-01-07 15:38:04,928:EnsembleBuilder(1):bf9eacd682268f478684eca31b6be667] No models better than random - using Dummy Score!\n",
      "[WARNING] [2020-01-07 15:38:06,934:EnsembleBuilder(1):bf9eacd682268f478684eca31b6be667] No models better than random - using Dummy Score!\n",
      "[WARNING] [2020-01-07 15:38:08,941:EnsembleBuilder(1):bf9eacd682268f478684eca31b6be667] No models better than random - using Dummy Score!\n",
      "[WARNING] [2020-01-07 15:38:10,947:EnsembleBuilder(1):bf9eacd682268f478684eca31b6be667] No models better than random - using Dummy Score!\n",
      "[WARNING] [2020-01-07 15:38:12,954:EnsembleBuilder(1):bf9eacd682268f478684eca31b6be667] No models better than random - using Dummy Score!\n",
      "[WARNING] [2020-01-07 15:38:14,961:EnsembleBuilder(1):bf9eacd682268f478684eca31b6be667] No models better than random - using Dummy Score!\n",
      "[WARNING] [2020-01-07 15:38:16,968:EnsembleBuilder(1):bf9eacd682268f478684eca31b6be667] No models better than random - using Dummy Score!\n",
      "[WARNING] [2020-01-07 15:38:18,975:EnsembleBuilder(1):bf9eacd682268f478684eca31b6be667] No models better than random - using Dummy Score!\n",
      "[WARNING] [2020-01-07 15:38:20,982:EnsembleBuilder(1):bf9eacd682268f478684eca31b6be667] No models better than random - using Dummy Score!\n",
      "[WARNING] [2020-01-07 15:38:22,992:EnsembleBuilder(1):bf9eacd682268f478684eca31b6be667] No models better than random - using Dummy Score!\n",
      "[WARNING] [2020-01-07 15:38:24,999:EnsembleBuilder(1):bf9eacd682268f478684eca31b6be667] No models better than random - using Dummy Score!\n",
      "[WARNING] [2020-01-07 15:38:27,005:EnsembleBuilder(1):bf9eacd682268f478684eca31b6be667] No models better than random - using Dummy Score!\n",
      "[WARNING] [2020-01-07 15:38:29,012:EnsembleBuilder(1):bf9eacd682268f478684eca31b6be667] No models better than random - using Dummy Score!\n",
      "[WARNING] [2020-01-07 15:38:31,019:EnsembleBuilder(1):bf9eacd682268f478684eca31b6be667] No models better than random - using Dummy Score!\n",
      "[WARNING] [2020-01-07 15:38:33,026:EnsembleBuilder(1):bf9eacd682268f478684eca31b6be667] No models better than random - using Dummy Score!\n",
      "[WARNING] [2020-01-07 15:38:35,032:EnsembleBuilder(1):bf9eacd682268f478684eca31b6be667] No models better than random - using Dummy Score!\n",
      "[WARNING] [2020-01-07 15:38:37,039:EnsembleBuilder(1):bf9eacd682268f478684eca31b6be667] No models better than random - using Dummy Score!\n",
      "1\n",
      "['/tmp/autosklearn_tmp_68528_4564/.auto-sklearn/ensembles/1.0000000000.ensemble']\n",
      "Time:296.021247\n",
      "Accuracy score 0.11571916744330538\n"
     ]
    }
   ],
   "source": [
    "import autosklearn.classification\n",
    "#rawdata\n",
    "t1 = datetime.datetime.now()\n",
    "automl = autosklearn.classification.AutoSklearnClassifier(time_left_for_this_task=300, \n",
    "                                                          ensemble_size= 1,\n",
    "                                                          include_preprocessors=[\"no_preprocessing\"],\n",
    "                                                          ensemble_memory_limit=45000, \n",
    "                                                          seed=1, \n",
    "                                                          ml_memory_limit=45000)\n",
    "automl.fit(X_train, Y_train)\n",
    "y_hat = automl.predict(X_test)\n",
    "t2 = datetime.datetime.now()\n",
    "print(\"Time:\" + str((t2 - t1).total_seconds()))\n",
    "print(\"Accuracy score\", accuracy_score(Y_test, y_hat))\n",
    "\n",
    "#automl.cv_results_\n",
    "\n",
    "#automl.sprint_statistics()\n",
    "\n",
    "#automl.show_models()\n"
   ]
  },
  {
   "cell_type": "code",
   "execution_count": null,
   "metadata": {},
   "outputs": [],
   "source": [
    "accuracy_score(Y_test, y_hat)"
   ]
  },
  {
   "cell_type": "code",
   "execution_count": 9,
   "metadata": {},
   "outputs": [
    {
     "data": {
      "text/plain": [
       "'auto-sklearn results:\\n  Dataset name: bf9eacd682268f478684eca31b6be667\\n  Metric: accuracy\\n  Best validation score: 0.564282\\n  Number of target algorithm runs: 6\\n  Number of successful target algorithm runs: 1\\n  Number of crashed target algorithm runs: 3\\n  Number of target algorithms that exceeded the time limit: 2\\n  Number of target algorithms that exceeded the memory limit: 0\\n'"
      ]
     },
     "execution_count": 9,
     "metadata": {},
     "output_type": "execute_result"
    }
   ],
   "source": [
    "automl.sprint_statistics()"
   ]
  },
  {
   "cell_type": "code",
   "execution_count": null,
   "metadata": {},
   "outputs": [],
   "source": []
  }
 ],
 "metadata": {
  "kernelspec": {
   "display_name": "Python 3.5",
   "language": "python",
   "name": "python3"
  },
  "language_info": {
   "codemirror_mode": {
    "name": "ipython",
    "version": 3
   },
   "file_extension": ".py",
   "mimetype": "text/x-python",
   "name": "python",
   "nbconvert_exporter": "python",
   "pygments_lexer": "ipython3",
   "version": "3.5.6"
  }
 },
 "nbformat": 4,
 "nbformat_minor": 2
}
