{
 "cells": [
  {
   "cell_type": "code",
   "execution_count": null,
   "metadata": {},
   "outputs": [],
   "source": [
    "#import needed package\n",
    "#---------------------------------------------------------\n",
    "import pandas as pd\n",
    "import numpy as np\n",
    "import sklearn\n",
    "import autosklearn\n",
    "from sklearn import preprocessing\n",
    "from sklearn.metrics import accuracy_score\n",
    "import datetime\n",
    "import autosklearn.classification\n",
    "from sklearn.preprocessing import LabelEncoder #OrdinalEncoder"
   ]
  },
  {
   "cell_type": "code",
   "execution_count": null,
   "metadata": {},
   "outputs": [],
   "source": [
    "\n",
    "#Load Data from CSV\n",
    "#--------------------------------------------------------\n",
    "filepath = '/data/home/eissa/Downloads/datasets_54-HEPMASS.csv'\n",
    "mylist = []\n",
    "for chunk in  pd.read_csv(filepath ,  sep=','  ,  low_memory=False , chunksize=20000):\n",
    "    mylist.append(chunk)\n",
    "\n",
    "rawdata = pd.concat(mylist, axis= 0)\n",
    "del mylist\n",
    "rawdata = pd.DataFrame(data=rawdata)\n",
    "label = 'Label'\n",
    "rawdata.shape"
   ]
  },
  {
   "cell_type": "code",
   "execution_count": null,
   "metadata": {},
   "outputs": [],
   "source": [
    "# set columns\n",
    "#------------------------------------------------------------------\n",
    "Columns = ['Label' , 'c1' , 'c2' , 'c3' , 'c4' , 'c5' , 'c6' ,\\\n",
    "           'c7' , 'c8' , 'c9' , 'c10' , 'c11' , 'c12' , 'c13' , \\\n",
    "           'c14' , 'c15' , 'c16' , 'c17' , 'c18' ,\n",
    "           \n",
    "          'c19' , 'c20' , 'c21' , 'c22' , 'c23' , 'c24' , 'c25' , 'c26' , 'c27' , 'c28']\n",
    "rawdata.columns = Columns"
   ]
  },
  {
   "cell_type": "code",
   "execution_count": null,
   "metadata": {},
   "outputs": [],
   "source": [
    "# cast label\n",
    "#------------------------------------------------------------------\n",
    "rawdata[[label]] = rawdata[[label]].astype(int)"
   ]
  },
  {
   "cell_type": "code",
   "execution_count": null,
   "metadata": {},
   "outputs": [],
   "source": [
    "# split data into Testing and training\n",
    "# ---------------------------------------------------------------------------------------------------------------------\n",
    "np.random.seed(1234)\n",
    "msk = np.random.rand(len(rawdata)) < 0.8\n",
    "training_data = rawdata[msk]\n",
    "Testing_data = rawdata[~msk]\n",
    "\n",
    "X_train = training_data.loc[:, training_data.columns != label]\n",
    "Y_train = training_data.loc[:, training_data.columns == label]\n",
    "\n",
    "X_test = Testing_data.loc[:, Testing_data.columns != label]\n",
    "Y_test = Testing_data.loc[:, Testing_data.columns == label]"
   ]
  },
  {
   "cell_type": "code",
   "execution_count": null,
   "metadata": {},
   "outputs": [],
   "source": [
    "# auto ML\n",
    "# ---------------------------------------------------------------------------------------------------------------------\n",
    "t1 = datetime.datetime.now()\n",
    "automl = autosklearn.classification.AutoSklearnClassifier(time_left_for_this_task=600, \n",
    "                                                          per_run_time_limit=600,\n",
    "                                                          ensemble_memory_limit=10000, \n",
    "                                                          seed=1, ml_memory_limit=10000)\n",
    "automl.fit(X_train, Y_train)\n",
    "y_hat = automl.predict(X_test)\n",
    "t2 = datetime.datetime.now()\n",
    "print(\"Time:\" + str((t2 - t1).total_seconds()))\n",
    "print(\"Accuracy score\", accuracy_score(Y_test, y_hat))\n"
   ]
  },
  {
   "cell_type": "code",
   "execution_count": null,
   "metadata": {},
   "outputs": [],
   "source": [
    "automl.sprint_statistics()"
   ]
  }
 ],
 "metadata": {
  "kernelspec": {
   "display_name": "Python 3.5",
   "language": "python",
   "name": "python3"
  },
  "language_info": {
   "codemirror_mode": {
    "name": "ipython",
    "version": 3
   },
   "file_extension": ".py",
   "mimetype": "text/x-python",
   "name": "python",
   "nbconvert_exporter": "python",
   "pygments_lexer": "ipython3",
   "version": "3.5.6"
  }
 },
 "nbformat": 4,
 "nbformat_minor": 2
}
