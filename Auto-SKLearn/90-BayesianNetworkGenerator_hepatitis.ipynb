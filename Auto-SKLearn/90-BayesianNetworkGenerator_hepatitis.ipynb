{
 "cells": [
  {
   "cell_type": "code",
   "execution_count": 1,
   "metadata": {},
   "outputs": [
    {
     "name": "stderr",
     "output_type": "stream",
     "text": [
      "/anaconda/envs/py35/lib/python3.5/site-packages/sklearn/ensemble/weight_boosting.py:29: DeprecationWarning: numpy.core.umath_tests is an internal NumPy module and should not be imported. It will be removed in a future NumPy release.\n",
      "  from numpy.core.umath_tests import inner1d\n"
     ]
    }
   ],
   "source": [
    "#import needed package\n",
    "#---------------------------------------------------------\n",
    "import pandas as pd\n",
    "import numpy as np\n",
    "import sklearn\n",
    "import autosklearn\n",
    "from sklearn import preprocessing\n",
    "from sklearn.metrics import accuracy_score\n",
    "import datetime\n",
    "import autosklearn.classification\n",
    "from sklearn.preprocessing import LabelEncoder #OrdinalEncoder"
   ]
  },
  {
   "cell_type": "code",
   "execution_count": 2,
   "metadata": {},
   "outputs": [
    {
     "name": "stdout",
     "output_type": "stream",
     "text": [
      "The scikit-learn version is 0.19.2.\n",
      "The Auto scikit-learn version is 0.5.2.\n"
     ]
    }
   ],
   "source": [
    "#print versions\n",
    "#---------------------------------------------------------\n",
    "print('The scikit-learn version is {}.'.format(sklearn.__version__))\n",
    "print('The Auto scikit-learn version is {}.'.format(autosklearn.__version__))"
   ]
  },
  {
   "cell_type": "code",
   "execution_count": 25,
   "metadata": {},
   "outputs": [
    {
     "data": {
      "text/plain": [
       "(1000000, 20)"
      ]
     },
     "execution_count": 25,
     "metadata": {},
     "output_type": "execute_result"
    }
   ],
   "source": [
    "#Load Data from CSV\n",
    "#--------------------------------------------------------\n",
    "filepath = '/data/home/eissa/Downloads/datasets_90-BayesianNetworkGenerator_hepatitis.csv'\n",
    "rawdata = pd.read_csv( filepath ,  sep=','  ,  low_memory=False )\n",
    "rawdata.shape"
   ]
  },
  {
   "cell_type": "code",
   "execution_count": 26,
   "metadata": {},
   "outputs": [],
   "source": [
    "#Categorical feature encoding\n",
    "#--------------------------------------------------------\n",
    "label = 'Class'\n",
    "le = LabelEncoder()\n",
    "for column in rawdata.columns: \n",
    "    rawdata[column] = le.fit_transform(rawdata[column])"
   ]
  },
  {
   "cell_type": "code",
   "execution_count": 27,
   "metadata": {},
   "outputs": [],
   "source": [
    "# split data into Testing and training\n",
    "# ---------------------------------------------------------------------------------------------------------------------\n",
    "np.random.seed(1234)\n",
    "msk = np.random.rand(len(rawdata)) < 0.8\n",
    "training_data = rawdata[msk]\n",
    "Testing_data = rawdata[~msk]\n",
    "\n",
    "X_train = training_data.loc[:, training_data.columns != label]\n",
    "Y_train = training_data.loc[:, training_data.columns == label]\n",
    "\n",
    "X_test = Testing_data.loc[:, Testing_data.columns != label]\n",
    "Y_test = Testing_data.loc[:, Testing_data.columns == label]"
   ]
  },
  {
   "cell_type": "code",
   "execution_count": 31,
   "metadata": {},
   "outputs": [
    {
     "name": "stderr",
     "output_type": "stream",
     "text": [
      "/anaconda/envs/py35/lib/python3.5/site-packages/autosklearn/automl.py:887: DataConversionWarning: A column-vector y was passed when a 1d array was expected. Will change shape via np.ravel().\n",
      "  y = self._check_y(y)\n",
      "/anaconda/envs/py35/lib/python3.5/site-packages/autosklearn/evaluation/train_evaluator.py:197: RuntimeWarning: Mean of empty slice\n",
      "  Y_train_pred = np.nanmean(Y_train_pred_full, axis=0)\n"
     ]
    },
    {
     "name": "stdout",
     "output_type": "stream",
     "text": [
      "[WARNING] [2020-01-07 17:30:08,403:EnsembleBuilder(1):9c6a4c6c23306d22194471aef941047e] No models better than random - using Dummy Score!\n",
      "[WARNING] [2020-01-07 17:30:08,484:EnsembleBuilder(1):9c6a4c6c23306d22194471aef941047e] No models better than random - using Dummy Score!\n",
      "Time limit for a single run is higher than total time limit. Capping the limit for a single run to the total time given to SMAC (96.298150)\n",
      "[WARNING] [2020-01-07 17:30:10,495:EnsembleBuilder(1):9c6a4c6c23306d22194471aef941047e] No models better than random - using Dummy Score!\n",
      "[WARNING] [2020-01-07 17:30:12,505:EnsembleBuilder(1):9c6a4c6c23306d22194471aef941047e] No models better than random - using Dummy Score!\n",
      "[WARNING] [2020-01-07 17:30:14,514:EnsembleBuilder(1):9c6a4c6c23306d22194471aef941047e] No models better than random - using Dummy Score!\n",
      "[WARNING] [2020-01-07 17:30:16,524:EnsembleBuilder(1):9c6a4c6c23306d22194471aef941047e] No models better than random - using Dummy Score!\n",
      "[WARNING] [2020-01-07 17:30:18,533:EnsembleBuilder(1):9c6a4c6c23306d22194471aef941047e] No models better than random - using Dummy Score!\n",
      "[WARNING] [2020-01-07 17:30:20,543:EnsembleBuilder(1):9c6a4c6c23306d22194471aef941047e] No models better than random - using Dummy Score!\n",
      "[WARNING] [2020-01-07 17:30:22,551:EnsembleBuilder(1):9c6a4c6c23306d22194471aef941047e] No models better than random - using Dummy Score!\n",
      "[WARNING] [2020-01-07 17:30:24,561:EnsembleBuilder(1):9c6a4c6c23306d22194471aef941047e] No models better than random - using Dummy Score!\n",
      "[WARNING] [2020-01-07 17:30:26,570:EnsembleBuilder(1):9c6a4c6c23306d22194471aef941047e] No models better than random - using Dummy Score!\n",
      "[WARNING] [2020-01-07 17:30:28,580:EnsembleBuilder(1):9c6a4c6c23306d22194471aef941047e] No models better than random - using Dummy Score!\n",
      "[WARNING] [2020-01-07 17:30:30,589:EnsembleBuilder(1):9c6a4c6c23306d22194471aef941047e] No models better than random - using Dummy Score!\n",
      "[WARNING] [2020-01-07 17:30:32,598:EnsembleBuilder(1):9c6a4c6c23306d22194471aef941047e] No models better than random - using Dummy Score!\n",
      "[WARNING] [2020-01-07 17:30:34,607:EnsembleBuilder(1):9c6a4c6c23306d22194471aef941047e] No models better than random - using Dummy Score!\n",
      "[WARNING] [2020-01-07 17:30:36,617:EnsembleBuilder(1):9c6a4c6c23306d22194471aef941047e] No models better than random - using Dummy Score!\n",
      "[WARNING] [2020-01-07 17:30:38,626:EnsembleBuilder(1):9c6a4c6c23306d22194471aef941047e] No models better than random - using Dummy Score!\n",
      "[WARNING] [2020-01-07 17:30:40,635:EnsembleBuilder(1):9c6a4c6c23306d22194471aef941047e] No models better than random - using Dummy Score!\n",
      "[WARNING] [2020-01-07 17:30:42,645:EnsembleBuilder(1):9c6a4c6c23306d22194471aef941047e] No models better than random - using Dummy Score!\n",
      "[WARNING] [2020-01-07 17:30:44,654:EnsembleBuilder(1):9c6a4c6c23306d22194471aef941047e] No models better than random - using Dummy Score!\n",
      "[WARNING] [2020-01-07 17:30:46,663:EnsembleBuilder(1):9c6a4c6c23306d22194471aef941047e] No models better than random - using Dummy Score!\n",
      "[WARNING] [2020-01-07 17:30:48,672:EnsembleBuilder(1):9c6a4c6c23306d22194471aef941047e] No models better than random - using Dummy Score!\n",
      "[WARNING] [2020-01-07 17:30:50,682:EnsembleBuilder(1):9c6a4c6c23306d22194471aef941047e] No models better than random - using Dummy Score!\n",
      "[WARNING] [2020-01-07 17:30:52,692:EnsembleBuilder(1):9c6a4c6c23306d22194471aef941047e] No models better than random - using Dummy Score!\n",
      "[WARNING] [2020-01-07 17:30:54,702:EnsembleBuilder(1):9c6a4c6c23306d22194471aef941047e] No models better than random - using Dummy Score!\n",
      "[WARNING] [2020-01-07 17:30:56,711:EnsembleBuilder(1):9c6a4c6c23306d22194471aef941047e] No models better than random - using Dummy Score!\n",
      "[WARNING] [2020-01-07 17:30:58,720:EnsembleBuilder(1):9c6a4c6c23306d22194471aef941047e] No models better than random - using Dummy Score!\n",
      "[WARNING] [2020-01-07 17:31:00,729:EnsembleBuilder(1):9c6a4c6c23306d22194471aef941047e] No models better than random - using Dummy Score!\n",
      "[WARNING] [2020-01-07 17:31:02,738:EnsembleBuilder(1):9c6a4c6c23306d22194471aef941047e] No models better than random - using Dummy Score!\n",
      "[WARNING] [2020-01-07 17:31:04,748:EnsembleBuilder(1):9c6a4c6c23306d22194471aef941047e] No models better than random - using Dummy Score!\n",
      "[WARNING] [2020-01-07 17:31:06,757:EnsembleBuilder(1):9c6a4c6c23306d22194471aef941047e] No models better than random - using Dummy Score!\n",
      "[WARNING] [2020-01-07 17:31:08,766:EnsembleBuilder(1):9c6a4c6c23306d22194471aef941047e] No models better than random - using Dummy Score!\n",
      "[WARNING] [2020-01-07 17:31:10,775:EnsembleBuilder(1):9c6a4c6c23306d22194471aef941047e] No models better than random - using Dummy Score!\n",
      "[WARNING] [2020-01-07 17:31:12,785:EnsembleBuilder(1):9c6a4c6c23306d22194471aef941047e] No models better than random - using Dummy Score!\n",
      "[WARNING] [2020-01-07 17:31:14,794:EnsembleBuilder(1):9c6a4c6c23306d22194471aef941047e] No models better than random - using Dummy Score!\n",
      "[WARNING] [2020-01-07 17:31:16,803:EnsembleBuilder(1):9c6a4c6c23306d22194471aef941047e] No models better than random - using Dummy Score!\n",
      "[WARNING] [2020-01-07 17:31:18,812:EnsembleBuilder(1):9c6a4c6c23306d22194471aef941047e] No models better than random - using Dummy Score!\n",
      "[WARNING] [2020-01-07 17:31:20,822:EnsembleBuilder(1):9c6a4c6c23306d22194471aef941047e] No models better than random - using Dummy Score!\n",
      "[WARNING] [2020-01-07 17:31:22,833:EnsembleBuilder(1):9c6a4c6c23306d22194471aef941047e] No models better than random - using Dummy Score!\n",
      "[WARNING] [2020-01-07 17:31:24,842:EnsembleBuilder(1):9c6a4c6c23306d22194471aef941047e] No models better than random - using Dummy Score!\n",
      "[WARNING] [2020-01-07 17:31:26,852:EnsembleBuilder(1):9c6a4c6c23306d22194471aef941047e] No models better than random - using Dummy Score!\n",
      "[WARNING] [2020-01-07 17:31:28,861:EnsembleBuilder(1):9c6a4c6c23306d22194471aef941047e] No models better than random - using Dummy Score!\n",
      "[WARNING] [2020-01-07 17:31:30,871:EnsembleBuilder(1):9c6a4c6c23306d22194471aef941047e] No models better than random - using Dummy Score!\n",
      "[WARNING] [2020-01-07 17:31:32,880:EnsembleBuilder(1):9c6a4c6c23306d22194471aef941047e] No models better than random - using Dummy Score!\n",
      "[WARNING] [2020-01-07 17:31:34,888:EnsembleBuilder(1):9c6a4c6c23306d22194471aef941047e] No models better than random - using Dummy Score!\n",
      "[WARNING] [2020-01-07 17:31:36,897:EnsembleBuilder(1):9c6a4c6c23306d22194471aef941047e] No models better than random - using Dummy Score!\n",
      "[WARNING] [2020-01-07 17:31:38,906:EnsembleBuilder(1):9c6a4c6c23306d22194471aef941047e] No models better than random - using Dummy Score!\n",
      "1\n",
      "['/tmp/autosklearn_tmp_80571_3165/.auto-sklearn/ensembles/1.0000000000.ensemble']\n",
      "Time:95.351419\n",
      "Accuracy score 0.20864068493356205\n"
     ]
    }
   ],
   "source": [
    "import autosklearn.classification\n",
    "#rawdata\n",
    "t1 = datetime.datetime.now()\n",
    "automl = autosklearn.classification.AutoSklearnClassifier(time_left_for_this_task=100, \n",
    "                                                          ensemble_size= 1,\n",
    "                                                          include_preprocessors=[\"no_preprocessing\"],\n",
    "                                                          ensemble_memory_limit=45000, \n",
    "                                                          seed=1, \n",
    "                                                          ml_memory_limit=45000)\n",
    "\n",
    "automl.fit(X_train, Y_train)\n",
    "y_hat = automl.predict(X_test)\n",
    "t2 = datetime.datetime.now()\n",
    "print(\"Time:\" + str((t2 - t1).total_seconds()))\n",
    "print(\"Accuracy score\", accuracy_score(Y_test, y_hat))\n",
    "\n",
    "#automl.cv_results_\n",
    "\n",
    "#automl.sprint_statistics()\n",
    "\n",
    "#automl.show_models()\n"
   ]
  },
  {
   "cell_type": "code",
   "execution_count": 11,
   "metadata": {},
   "outputs": [
    {
     "ename": "TypeError",
     "evalue": "'NoneType' object is not subscriptable",
     "output_type": "error",
     "traceback": [
      "\u001b[0;31m---------------------------------------------------------------------------\u001b[0m",
      "\u001b[0;31mTypeError\u001b[0m                                 Traceback (most recent call last)",
      "\u001b[0;32m<ipython-input-11-dfdc7d4b954e>\u001b[0m in \u001b[0;36m<module>\u001b[0;34m()\u001b[0m\n\u001b[0;32m----> 1\u001b[0;31m \u001b[0mautoml\u001b[0m\u001b[0;34m.\u001b[0m\u001b[0mcv_results_\u001b[0m\u001b[0;34m\u001b[0m\u001b[0m\n\u001b[0m",
      "\u001b[0;32m/anaconda/envs/py35/lib/python3.5/site-packages/autosklearn/estimators.py\u001b[0m in \u001b[0;36mcv_results_\u001b[0;34m(self)\u001b[0m\n\u001b[1;32m    542\u001b[0m     \u001b[0;34m@\u001b[0m\u001b[0mproperty\u001b[0m\u001b[0;34m\u001b[0m\u001b[0m\n\u001b[1;32m    543\u001b[0m     \u001b[0;32mdef\u001b[0m \u001b[0mcv_results_\u001b[0m\u001b[0;34m(\u001b[0m\u001b[0mself\u001b[0m\u001b[0;34m)\u001b[0m\u001b[0;34m:\u001b[0m\u001b[0;34m\u001b[0m\u001b[0m\n\u001b[0;32m--> 544\u001b[0;31m         \u001b[0;32mreturn\u001b[0m \u001b[0mself\u001b[0m\u001b[0;34m.\u001b[0m\u001b[0m_automl\u001b[0m\u001b[0;34m[\u001b[0m\u001b[0;36m0\u001b[0m\u001b[0;34m]\u001b[0m\u001b[0;34m.\u001b[0m\u001b[0mcv_results_\u001b[0m\u001b[0;34m\u001b[0m\u001b[0m\n\u001b[0m\u001b[1;32m    545\u001b[0m \u001b[0;34m\u001b[0m\u001b[0m\n\u001b[1;32m    546\u001b[0m     \u001b[0;34m@\u001b[0m\u001b[0mproperty\u001b[0m\u001b[0;34m\u001b[0m\u001b[0m\n",
      "\u001b[0;31mTypeError\u001b[0m: 'NoneType' object is not subscriptable"
     ]
    }
   ],
   "source": [
    "automl.cv_results_"
   ]
  },
  {
   "cell_type": "code",
   "execution_count": null,
   "metadata": {},
   "outputs": [],
   "source": [
    "automl.show_models("
   ]
  },
  {
   "cell_type": "code",
   "execution_count": null,
   "metadata": {},
   "outputs": [],
   "source": [
    "automl.sprint_statistics()"
   ]
  },
  {
   "cell_type": "code",
   "execution_count": null,
   "metadata": {},
   "outputs": [],
   "source": [
    "print(\"Accuracy score\", accuracy_score(Y_test, y_hat))"
   ]
  },
  {
   "cell_type": "code",
   "execution_count": null,
   "metadata": {},
   "outputs": [],
   "source": []
  }
 ],
 "metadata": {
  "kernelspec": {
   "display_name": "Python 3.5",
   "language": "python",
   "name": "python3"
  },
  "language_info": {
   "codemirror_mode": {
    "name": "ipython",
    "version": 3
   },
   "file_extension": ".py",
   "mimetype": "text/x-python",
   "name": "python",
   "nbconvert_exporter": "python",
   "pygments_lexer": "ipython3",
   "version": "3.5.6"
  }
 },
 "nbformat": 4,
 "nbformat_minor": 2
}
