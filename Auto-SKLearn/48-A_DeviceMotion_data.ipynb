{
 "cells": [
  {
   "cell_type": "code",
   "execution_count": 1,
   "metadata": {},
   "outputs": [
    {
     "name": "stdout",
     "output_type": "stream",
     "text": [
      "The scikit-learn version is 0.19.2.\n",
      "The Auto scikit-learn version is 0.5.2.\n"
     ]
    },
    {
     "name": "stderr",
     "output_type": "stream",
     "text": [
      "/anaconda/envs/py35/lib/python3.5/site-packages/sklearn/ensemble/weight_boosting.py:29: DeprecationWarning: numpy.core.umath_tests is an internal NumPy module and should not be imported. It will be removed in a future NumPy release.\n",
      "  from numpy.core.umath_tests import inner1d\n"
     ]
    }
   ],
   "source": [
    "#import needed package\n",
    "#---------------------------------------------------------\n",
    "import pandas as pd\n",
    "import numpy as np\n",
    "import sklearn\n",
    "import autosklearn\n",
    "from sklearn import preprocessing\n",
    "from sklearn.preprocessing import LabelEncoder \n",
    "from sklearn.metrics import accuracy_score\n",
    "import datetime\n",
    "print('The scikit-learn version is {}.'.format(sklearn.__version__))\n",
    "import autosklearn.classification\n",
    "print('The Auto scikit-learn version is {}.'.format(autosklearn.__version__))"
   ]
  },
  {
   "cell_type": "code",
   "execution_count": 2,
   "metadata": {},
   "outputs": [
    {
     "data": {
      "text/plain": [
       "(1544721, 14)"
      ]
     },
     "execution_count": 2,
     "metadata": {},
     "output_type": "execute_result"
    }
   ],
   "source": [
    "\n",
    "#Load Data from CSV\n",
    "#--------------------------------------------------------\n",
    "filepath = '/data/home/eissa/Downloads/datasets_48-A_DeviceMotion_data.csv'\n",
    "rawdata = pd.read_csv( filepath ,  sep=','  ,  low_memory=False )\n",
    "\n",
    "label = 'Label'\n",
    "rawdata.shape"
   ]
  },
  {
   "cell_type": "code",
   "execution_count": 3,
   "metadata": {},
   "outputs": [],
   "source": [
    "rawdata.columns\n",
    "rawdata = rawdata.drop('Unnamed: 0' , 1)\n"
   ]
  },
  {
   "cell_type": "code",
   "execution_count": 4,
   "metadata": {},
   "outputs": [],
   "source": [
    "label = 'y'\n",
    "rawdata[[label]] = rawdata[[label]].astype(int)"
   ]
  },
  {
   "cell_type": "code",
   "execution_count": 5,
   "metadata": {},
   "outputs": [],
   "source": [
    "# split data into Testing and training\n",
    "# ---------------------------------------------------------------------------------------------------------------------\n",
    "np.random.seed(1234)\n",
    "msk = np.random.rand(len(rawdata)) < 0.8\n",
    "training_data = rawdata[msk]\n",
    "Testing_data = rawdata[~msk]\n",
    "\n",
    "X_train = training_data.loc[:, training_data.columns != label]\n",
    "Y_train = training_data.loc[:, training_data.columns == label]\n",
    "\n",
    "X_test = Testing_data.loc[:, Testing_data.columns != label]\n",
    "Y_test = Testing_data.loc[:, Testing_data.columns == label]"
   ]
  },
  {
   "cell_type": "code",
   "execution_count": 8,
   "metadata": {},
   "outputs": [
    {
     "name": "stderr",
     "output_type": "stream",
     "text": [
      "/anaconda/envs/py35/lib/python3.5/site-packages/autosklearn/automl.py:887: DataConversionWarning: A column-vector y was passed when a 1d array was expected. Will change shape via np.ravel().\n",
      "  y = self._check_y(y)\n",
      "/anaconda/envs/py35/lib/python3.5/site-packages/autosklearn/evaluation/train_evaluator.py:197: RuntimeWarning: Mean of empty slice\n",
      "  Y_train_pred = np.nanmean(Y_train_pred_full, axis=0)\n"
     ]
    },
    {
     "name": "stdout",
     "output_type": "stream",
     "text": [
      "[WARNING] [2020-01-07 10:42:23,850:EnsembleBuilder(1):6d09944782ab7bea0f26a3572ad9165d] No models better than random - using Dummy Score!\n",
      "Time limit for a single run is higher than total time limit. Capping the limit for a single run to the total time given to SMAC (96.112273)\n",
      "[WARNING] [2020-01-07 10:42:23,982:EnsembleBuilder(1):6d09944782ab7bea0f26a3572ad9165d] No models better than random - using Dummy Score!\n",
      "[WARNING] [2020-01-07 10:42:26,005:EnsembleBuilder(1):6d09944782ab7bea0f26a3572ad9165d] No models better than random - using Dummy Score!\n",
      "[WARNING] [2020-01-07 10:42:28,028:EnsembleBuilder(1):6d09944782ab7bea0f26a3572ad9165d] No models better than random - using Dummy Score!\n",
      "[WARNING] [2020-01-07 10:42:30,052:EnsembleBuilder(1):6d09944782ab7bea0f26a3572ad9165d] No models better than random - using Dummy Score!\n",
      "[WARNING] [2020-01-07 10:42:32,075:EnsembleBuilder(1):6d09944782ab7bea0f26a3572ad9165d] No models better than random - using Dummy Score!\n",
      "[WARNING] [2020-01-07 10:42:34,098:EnsembleBuilder(1):6d09944782ab7bea0f26a3572ad9165d] No models better than random - using Dummy Score!\n",
      "[WARNING] [2020-01-07 10:42:36,121:EnsembleBuilder(1):6d09944782ab7bea0f26a3572ad9165d] No models better than random - using Dummy Score!\n",
      "[WARNING] [2020-01-07 10:42:38,145:EnsembleBuilder(1):6d09944782ab7bea0f26a3572ad9165d] No models better than random - using Dummy Score!\n",
      "[WARNING] [2020-01-07 10:42:40,169:EnsembleBuilder(1):6d09944782ab7bea0f26a3572ad9165d] No models better than random - using Dummy Score!\n",
      "[WARNING] [2020-01-07 10:42:42,193:EnsembleBuilder(1):6d09944782ab7bea0f26a3572ad9165d] No models better than random - using Dummy Score!\n",
      "[WARNING] [2020-01-07 10:42:44,217:EnsembleBuilder(1):6d09944782ab7bea0f26a3572ad9165d] No models better than random - using Dummy Score!\n",
      "[WARNING] [2020-01-07 10:42:46,244:EnsembleBuilder(1):6d09944782ab7bea0f26a3572ad9165d] No models better than random - using Dummy Score!\n",
      "[WARNING] [2020-01-07 10:42:48,267:EnsembleBuilder(1):6d09944782ab7bea0f26a3572ad9165d] No models better than random - using Dummy Score!\n",
      "[WARNING] [2020-01-07 10:42:50,290:EnsembleBuilder(1):6d09944782ab7bea0f26a3572ad9165d] No models better than random - using Dummy Score!\n",
      "[WARNING] [2020-01-07 10:42:52,316:EnsembleBuilder(1):6d09944782ab7bea0f26a3572ad9165d] No models better than random - using Dummy Score!\n",
      "[WARNING] [2020-01-07 10:42:54,339:EnsembleBuilder(1):6d09944782ab7bea0f26a3572ad9165d] No models better than random - using Dummy Score!\n",
      "[WARNING] [2020-01-07 10:42:56,362:EnsembleBuilder(1):6d09944782ab7bea0f26a3572ad9165d] No models better than random - using Dummy Score!\n",
      "[WARNING] [2020-01-07 10:42:58,385:EnsembleBuilder(1):6d09944782ab7bea0f26a3572ad9165d] No models better than random - using Dummy Score!\n",
      "[WARNING] [2020-01-07 10:43:00,407:EnsembleBuilder(1):6d09944782ab7bea0f26a3572ad9165d] No models better than random - using Dummy Score!\n",
      "[WARNING] [2020-01-07 10:43:02,431:EnsembleBuilder(1):6d09944782ab7bea0f26a3572ad9165d] No models better than random - using Dummy Score!\n",
      "[WARNING] [2020-01-07 10:43:04,457:EnsembleBuilder(1):6d09944782ab7bea0f26a3572ad9165d] No models better than random - using Dummy Score!\n",
      "[WARNING] [2020-01-07 10:43:06,480:EnsembleBuilder(1):6d09944782ab7bea0f26a3572ad9165d] No models better than random - using Dummy Score!\n",
      "[WARNING] [2020-01-07 10:43:08,503:EnsembleBuilder(1):6d09944782ab7bea0f26a3572ad9165d] No models better than random - using Dummy Score!\n",
      "[WARNING] [2020-01-07 10:43:10,526:EnsembleBuilder(1):6d09944782ab7bea0f26a3572ad9165d] No models better than random - using Dummy Score!\n",
      "[WARNING] [2020-01-07 10:43:12,549:EnsembleBuilder(1):6d09944782ab7bea0f26a3572ad9165d] No models better than random - using Dummy Score!\n",
      "[WARNING] [2020-01-07 10:43:14,572:EnsembleBuilder(1):6d09944782ab7bea0f26a3572ad9165d] No models better than random - using Dummy Score!\n",
      "[WARNING] [2020-01-07 10:43:16,594:EnsembleBuilder(1):6d09944782ab7bea0f26a3572ad9165d] No models better than random - using Dummy Score!\n",
      "[WARNING] [2020-01-07 10:43:18,617:EnsembleBuilder(1):6d09944782ab7bea0f26a3572ad9165d] No models better than random - using Dummy Score!\n",
      "[WARNING] [2020-01-07 10:43:20,640:EnsembleBuilder(1):6d09944782ab7bea0f26a3572ad9165d] No models better than random - using Dummy Score!\n",
      "[WARNING] [2020-01-07 10:43:22,665:EnsembleBuilder(1):6d09944782ab7bea0f26a3572ad9165d] No models better than random - using Dummy Score!\n",
      "[WARNING] [2020-01-07 10:43:24,688:EnsembleBuilder(1):6d09944782ab7bea0f26a3572ad9165d] No models better than random - using Dummy Score!\n",
      "[WARNING] [2020-01-07 10:43:26,715:EnsembleBuilder(1):6d09944782ab7bea0f26a3572ad9165d] No models better than random - using Dummy Score!\n",
      "[WARNING] [2020-01-07 10:43:28,739:EnsembleBuilder(1):6d09944782ab7bea0f26a3572ad9165d] No models better than random - using Dummy Score!\n",
      "[WARNING] [2020-01-07 10:43:30,762:EnsembleBuilder(1):6d09944782ab7bea0f26a3572ad9165d] No models better than random - using Dummy Score!\n",
      "[WARNING] [2020-01-07 10:43:32,786:EnsembleBuilder(1):6d09944782ab7bea0f26a3572ad9165d] No models better than random - using Dummy Score!\n",
      "[WARNING] [2020-01-07 10:43:34,810:EnsembleBuilder(1):6d09944782ab7bea0f26a3572ad9165d] No models better than random - using Dummy Score!\n",
      "[WARNING] [2020-01-07 10:43:36,837:EnsembleBuilder(1):6d09944782ab7bea0f26a3572ad9165d] No models better than random - using Dummy Score!\n",
      "[WARNING] [2020-01-07 10:43:38,860:EnsembleBuilder(1):6d09944782ab7bea0f26a3572ad9165d] No models better than random - using Dummy Score!\n",
      "[WARNING] [2020-01-07 10:43:40,883:EnsembleBuilder(1):6d09944782ab7bea0f26a3572ad9165d] No models better than random - using Dummy Score!\n",
      "[WARNING] [2020-01-07 10:43:42,907:EnsembleBuilder(1):6d09944782ab7bea0f26a3572ad9165d] No models better than random - using Dummy Score!\n",
      "[WARNING] [2020-01-07 10:43:44,929:EnsembleBuilder(1):6d09944782ab7bea0f26a3572ad9165d] No models better than random - using Dummy Score!\n",
      "[WARNING] [2020-01-07 10:43:46,956:EnsembleBuilder(1):6d09944782ab7bea0f26a3572ad9165d] No models better than random - using Dummy Score!\n",
      "[WARNING] [2020-01-07 10:43:48,978:EnsembleBuilder(1):6d09944782ab7bea0f26a3572ad9165d] No models better than random - using Dummy Score!\n",
      "[WARNING] [2020-01-07 10:43:51,002:EnsembleBuilder(1):6d09944782ab7bea0f26a3572ad9165d] No models better than random - using Dummy Score!\n",
      "[WARNING] [2020-01-07 10:43:53,026:EnsembleBuilder(1):6d09944782ab7bea0f26a3572ad9165d] No models better than random - using Dummy Score!\n",
      "1\n",
      "['/tmp/autosklearn_tmp_31874_8508/.auto-sklearn/ensembles/1.0000000000.ensemble']\n",
      "Time:95.464123\n",
      "Accuracy score 0.1695414673949999\n"
     ]
    }
   ],
   "source": [
    "import autosklearn.classification\n",
    "#rawdata\n",
    "t1 = datetime.datetime.now()\n",
    "automl = autosklearn.classification.AutoSklearnClassifier(time_left_for_this_task=100, \n",
    "                                                          ensemble_size= 1,\n",
    "                                                          include_preprocessors=[\"no_preprocessing\"],\n",
    "                                                          ensemble_memory_limit=45000, \n",
    "                                                          seed=1, \n",
    "                                                          ml_memory_limit=45000)\n",
    "automl.fit(X_train, Y_train)\n",
    "y_hat = automl.predict(X_test)\n",
    "t2 = datetime.datetime.now()\n",
    "print(\"Time:\" + str((t2 - t1).total_seconds()))\n",
    "print(\"Accuracy score\", accuracy_score(Y_test, y_hat))\n",
    "\n",
    "#automl.cv_results_\n",
    "\n",
    "#automl.sprint_statistics()\n",
    "\n",
    "#automl.show_models()\n"
   ]
  },
  {
   "cell_type": "code",
   "execution_count": null,
   "metadata": {},
   "outputs": [],
   "source": [
    "accuracy_score(Y_test, y_hat)"
   ]
  },
  {
   "cell_type": "code",
   "execution_count": null,
   "metadata": {},
   "outputs": [],
   "source": [
    "automl.sprint_statistics()"
   ]
  },
  {
   "cell_type": "code",
   "execution_count": null,
   "metadata": {},
   "outputs": [],
   "source": []
  }
 ],
 "metadata": {
  "kernelspec": {
   "display_name": "Python 3.5",
   "language": "python",
   "name": "python3"
  },
  "language_info": {
   "codemirror_mode": {
    "name": "ipython",
    "version": 3
   },
   "file_extension": ".py",
   "mimetype": "text/x-python",
   "name": "python",
   "nbconvert_exporter": "python",
   "pygments_lexer": "ipython3",
   "version": "3.5.6"
  }
 },
 "nbformat": 4,
 "nbformat_minor": 2
}
